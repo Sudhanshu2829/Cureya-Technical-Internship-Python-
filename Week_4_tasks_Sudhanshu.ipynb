{
  "nbformat": 4,
  "nbformat_minor": 0,
  "metadata": {
    "kernelspec": {
      "language": "python",
      "display_name": "Python 3",
      "name": "python3"
    },
    "language_info": {
      "pygments_lexer": "ipython3",
      "nbconvert_exporter": "python",
      "version": "3.6.4",
      "file_extension": ".py",
      "codemirror_mode": {
        "name": "ipython",
        "version": 3
      },
      "name": "python",
      "mimetype": "text/x-python"
    },
    "colab": {
      "name": "Week 4 tasks: Sudhanshu.ipynb",
      "provenance": [],
      "collapsed_sections": [
        "ssH4gtXJnRWN",
        "B05uABtGnRWe",
        "utCPS9CBnRWv",
        "kVNvjV10nRW4"
      ]
    }
  },
  "cells": [
    {
      "cell_type": "markdown",
      "metadata": {
        "_cell_guid": "6a09d4fb-60c5-4f45-b844-8c788a50c543",
        "_uuid": "8e892e637f005dd61ec7dcb95865e52f3de2a77f",
        "id": "8V5GUwvfnRWH"
      },
      "source": [
        "# Titanic: Machine Learning from Disaster Prediction:<br>"
      ]
    },
    {
      "cell_type": "markdown",
      "metadata": {
        "id": "1dDDvH-8S2rf"
      },
      "source": [
        "**Executed by Sudhanshu Kumar** |sudhanshukumar15678@gmail.com\n"
      ]
    },
    {
      "cell_type": "markdown",
      "metadata": {
        "id": "ssH4gtXJnRWN"
      },
      "source": [
        "\n",
        "###  Predict survival on the Titanic and get familiar with ML basics."
      ]
    },
    {
      "cell_type": "markdown",
      "metadata": {
        "id": "VIHEDsMenRWR"
      },
      "source": [
        "### Benchmarking scores:\n",
        "\n",
        "* RF => 87.21%\n",
        "* SVM => 83.73%\n",
        "* LR => 81.14%\n",
        "* XG BOOST => 78.23%\n"
      ]
    },
    {
      "cell_type": "markdown",
      "metadata": {
        "id": "i4C4l-BSnRWT"
      },
      "source": [
        "### Importing Libraries"
      ]
    },
    {
      "cell_type": "code",
      "metadata": {
        "_cell_guid": "868e55e4-03fd-4a11-a549-10febd722d11",
        "_uuid": "842d8d39aab673f814761aac46acffc5d4c332ba",
        "trusted": true,
        "id": "A4Nw1eu0nRWV"
      },
      "source": [
        "import pandas as pd\n",
        "import numpy as np\n",
        "\n",
        "import matplotlib.pyplot as plt\n",
        "%matplotlib inline\n",
        "from sklearn.metrics import accuracy_score\n",
        "from sklearn.ensemble import GradientBoostingClassifier\n",
        "\n",
        "from sklearn.model_selection import GridSearchCV\n",
        "from sklearn.metrics import make_scorer\n",
        "\n",
        "from xgboost import XGBClassifier\n",
        "from xgboost import plot_importance\n",
        "\n",
        "import matplotlib.pyplot as plt\n",
        "import seaborn as sns\n",
        "sns.set_style('whitegrid')\n",
        "%matplotlib inline\n",
        "import seaborn as sns\n",
        "sns.set()\n",
        "\n",
        "import warnings\n",
        "warnings.filterwarnings(\"ignore\") "
      ],
      "execution_count": null,
      "outputs": []
    },
    {
      "cell_type": "markdown",
      "metadata": {
        "id": "AfvoYRfMnRWY"
      },
      "source": [
        "### Importing Dataset"
      ]
    },
    {
      "cell_type": "code",
      "metadata": {
        "trusted": true,
        "id": "MaBLgmcMnRWb"
      },
      "source": [
        "import os\n",
        "for dirname, _, filenames in os.walk('/kaggle/input'):\n",
        "    for filename in filenames:\n",
        "        print(os.path.join(dirname, filename))"
      ],
      "execution_count": null,
      "outputs": []
    },
    {
      "cell_type": "code",
      "metadata": {
        "_cell_guid": "e58a3f06-4c2a-4b87-90de-f8b09039fd4e",
        "_uuid": "46f0b12d7bf66712642e9a9b807f5ef398426b83",
        "trusted": true,
        "colab": {
          "base_uri": "https://localhost:8080/"
        },
        "id": "QhZStMc_nRWc",
        "outputId": "b64c8639-c6b0-42a3-d741-b2a1822a2c56"
      },
      "source": [
        "train = pd.read_csv('train.csv')\n",
        "test = pd.read_csv('test.csv')\n",
        "train_df = pd.read_csv(\"train.csv\")\n",
        "test_df  = pd.read_csv(\"test.csv\")\n",
        "\n",
        "(len(train_df), len(test_df))"
      ],
      "execution_count": null,
      "outputs": [
        {
          "output_type": "execute_result",
          "data": {
            "text/plain": [
              "(891, 418)"
            ]
          },
          "metadata": {
            "tags": []
          },
          "execution_count": 3
        }
      ]
    },
    {
      "cell_type": "markdown",
      "metadata": {
        "_cell_guid": "836a454f-17bc-41a2-be69-cd86c6f3b584",
        "_uuid": "1ed3ad39ead93977b8936d9c96e6f6f806a8f9b3",
        "id": "EIqoM7-RnRWd"
      },
      "source": [
        "## Looking into the training dataset\n",
        "> Printing first 5 rows of the train dataset."
      ]
    },
    {
      "cell_type": "code",
      "metadata": {
        "_cell_guid": "749a3d70-394c-4d2c-999a-4d0567e39232",
        "_uuid": "b9fdb3b19d7a8f30cd0bb69ae434e04121ecba93",
        "trusted": true,
        "colab": {
          "base_uri": "https://localhost:8080/",
          "height": 204
        },
        "id": "cCYUYzv3nRWe",
        "outputId": "393f286e-31fb-4079-83d6-b4b73f5883bb"
      },
      "source": [
        "train.head()"
      ],
      "execution_count": null,
      "outputs": [
        {
          "output_type": "execute_result",
          "data": {
            "text/html": [
              "<div>\n",
              "<style scoped>\n",
              "    .dataframe tbody tr th:only-of-type {\n",
              "        vertical-align: middle;\n",
              "    }\n",
              "\n",
              "    .dataframe tbody tr th {\n",
              "        vertical-align: top;\n",
              "    }\n",
              "\n",
              "    .dataframe thead th {\n",
              "        text-align: right;\n",
              "    }\n",
              "</style>\n",
              "<table border=\"1\" class=\"dataframe\">\n",
              "  <thead>\n",
              "    <tr style=\"text-align: right;\">\n",
              "      <th></th>\n",
              "      <th>PassengerId</th>\n",
              "      <th>Survived</th>\n",
              "      <th>Pclass</th>\n",
              "      <th>Name</th>\n",
              "      <th>Sex</th>\n",
              "      <th>Age</th>\n",
              "      <th>SibSp</th>\n",
              "      <th>Parch</th>\n",
              "      <th>Ticket</th>\n",
              "      <th>Fare</th>\n",
              "      <th>Cabin</th>\n",
              "      <th>Embarked</th>\n",
              "    </tr>\n",
              "  </thead>\n",
              "  <tbody>\n",
              "    <tr>\n",
              "      <th>0</th>\n",
              "      <td>1</td>\n",
              "      <td>0</td>\n",
              "      <td>3</td>\n",
              "      <td>Braund, Mr. Owen Harris</td>\n",
              "      <td>male</td>\n",
              "      <td>22.0</td>\n",
              "      <td>1</td>\n",
              "      <td>0</td>\n",
              "      <td>A/5 21171</td>\n",
              "      <td>7.2500</td>\n",
              "      <td>NaN</td>\n",
              "      <td>S</td>\n",
              "    </tr>\n",
              "    <tr>\n",
              "      <th>1</th>\n",
              "      <td>2</td>\n",
              "      <td>1</td>\n",
              "      <td>1</td>\n",
              "      <td>Cumings, Mrs. John Bradley (Florence Briggs Th...</td>\n",
              "      <td>female</td>\n",
              "      <td>38.0</td>\n",
              "      <td>1</td>\n",
              "      <td>0</td>\n",
              "      <td>PC 17599</td>\n",
              "      <td>71.2833</td>\n",
              "      <td>C85</td>\n",
              "      <td>C</td>\n",
              "    </tr>\n",
              "    <tr>\n",
              "      <th>2</th>\n",
              "      <td>3</td>\n",
              "      <td>1</td>\n",
              "      <td>3</td>\n",
              "      <td>Heikkinen, Miss. Laina</td>\n",
              "      <td>female</td>\n",
              "      <td>26.0</td>\n",
              "      <td>0</td>\n",
              "      <td>0</td>\n",
              "      <td>STON/O2. 3101282</td>\n",
              "      <td>7.9250</td>\n",
              "      <td>NaN</td>\n",
              "      <td>S</td>\n",
              "    </tr>\n",
              "    <tr>\n",
              "      <th>3</th>\n",
              "      <td>4</td>\n",
              "      <td>1</td>\n",
              "      <td>1</td>\n",
              "      <td>Futrelle, Mrs. Jacques Heath (Lily May Peel)</td>\n",
              "      <td>female</td>\n",
              "      <td>35.0</td>\n",
              "      <td>1</td>\n",
              "      <td>0</td>\n",
              "      <td>113803</td>\n",
              "      <td>53.1000</td>\n",
              "      <td>C123</td>\n",
              "      <td>S</td>\n",
              "    </tr>\n",
              "    <tr>\n",
              "      <th>4</th>\n",
              "      <td>5</td>\n",
              "      <td>0</td>\n",
              "      <td>3</td>\n",
              "      <td>Allen, Mr. William Henry</td>\n",
              "      <td>male</td>\n",
              "      <td>35.0</td>\n",
              "      <td>0</td>\n",
              "      <td>0</td>\n",
              "      <td>373450</td>\n",
              "      <td>8.0500</td>\n",
              "      <td>NaN</td>\n",
              "      <td>S</td>\n",
              "    </tr>\n",
              "  </tbody>\n",
              "</table>\n",
              "</div>"
            ],
            "text/plain": [
              "   PassengerId  Survived  Pclass  ...     Fare Cabin  Embarked\n",
              "0            1         0       3  ...   7.2500   NaN         S\n",
              "1            2         1       1  ...  71.2833   C85         C\n",
              "2            3         1       3  ...   7.9250   NaN         S\n",
              "3            4         1       1  ...  53.1000  C123         S\n",
              "4            5         0       3  ...   8.0500   NaN         S\n",
              "\n",
              "[5 rows x 12 columns]"
            ]
          },
          "metadata": {
            "tags": []
          },
          "execution_count": 4
        }
      ]
    },
    {
      "cell_type": "markdown",
      "metadata": {
        "_cell_guid": "0497d419-fbd1-4d07-aa76-362bcbd8ccbd",
        "_uuid": "ec81a873a564c743619d802c8b2ce8bbcc107418",
        "id": "B05uABtGnRWe"
      },
      "source": [
        "#### Below is a brief information about each columns of the dataset:\n",
        "\n",
        "1. **`PassengerId`:** An unique index for passenger rows. It starts from 1 for first row and increments by 1 for every new rows.\n",
        "2. **`Survived`:** Shows if the passenger survived or not. 1 stands for survived and 0 stands for not survived.\n",
        "\n",
        "3. **`Pclass`:** Ticket class. 1 stands for First class ticket. 2 stands for Second class ticket. 3 stands for Third class ticket.\n",
        "\n",
        "4. **`Name`:** Passenger's name. Name also contain title. \"Mr\" for man. \"Mrs\" for woman. \"Miss\" for girl. \"Master\" for boy.\n",
        "\n",
        "5. **`Sex`:** Passenger's sex. It's either Male or Female.\n",
        "\n",
        "6. **`Age`:** Passenger's age. \"NaN\" values in this column indicates that the age of that particular passenger has not been recorded.\n",
        "\n",
        "7. **`SibSp`:** Number of siblings or spouses travelling with each passenger.\n",
        "8. **`Parch`:** Number of parents of children travelling with each passenger.\n",
        "9. **`Ticket`:** Ticket number.\n",
        "10. **`Fare`:** How much money the passenger has paid for the travel journey.\n",
        "11. **`Cabin`:** Cabin number of the passenger. \"NaN\" values in this column indicates that the cabin number of that particular passenger has not been recorded.\n",
        "12. **`Embarked`:** Port from where the particular passenger was embarked/boarded."
      ]
    },
    {
      "cell_type": "markdown",
      "metadata": {
        "_cell_guid": "5ebc1e0e-2b5a-4d92-98e0-defa019d4439",
        "_uuid": "1892fbb34b26d775d1c428fdb7b6254449286b28",
        "id": "23YkBUCWnRWg"
      },
      "source": [
        "### Check the shape of dataset"
      ]
    },
    {
      "cell_type": "code",
      "metadata": {
        "_cell_guid": "ed1e7849-d1b6-490d-b86b-9ca71dfafc7d",
        "_uuid": "5a641beccf0e555dfd7b9a53a17188ea6edef95b",
        "trusted": true,
        "colab": {
          "base_uri": "https://localhost:8080/"
        },
        "id": "0huM46zlnRWg",
        "outputId": "b7f2625f-eecd-4e29-d835-7ba12d4c3702"
      },
      "source": [
        "train.shape\n",
        "\n",
        "train_len = len(train_df)\n",
        "titanic_df = pd.concat([train_df, test_df], axis=0, ignore_index=True, sort=True)\n",
        "titanic_df.info()"
      ],
      "execution_count": null,
      "outputs": [
        {
          "output_type": "stream",
          "text": [
            "<class 'pandas.core.frame.DataFrame'>\n",
            "RangeIndex: 1309 entries, 0 to 1308\n",
            "Data columns (total 12 columns):\n",
            " #   Column       Non-Null Count  Dtype  \n",
            "---  ------       --------------  -----  \n",
            " 0   Age          1046 non-null   float64\n",
            " 1   Cabin        295 non-null    object \n",
            " 2   Embarked     1307 non-null   object \n",
            " 3   Fare         1308 non-null   float64\n",
            " 4   Name         1309 non-null   object \n",
            " 5   Parch        1309 non-null   int64  \n",
            " 6   PassengerId  1309 non-null   int64  \n",
            " 7   Pclass       1309 non-null   int64  \n",
            " 8   Sex          1309 non-null   object \n",
            " 9   SibSp        1309 non-null   int64  \n",
            " 10  Survived     891 non-null    float64\n",
            " 11  Ticket       1309 non-null   object \n",
            "dtypes: float64(3), int64(4), object(5)\n",
            "memory usage: 122.8+ KB\n"
          ],
          "name": "stdout"
        }
      ]
    },
    {
      "cell_type": "markdown",
      "metadata": {
        "_cell_guid": "920468dd-81c0-48dc-82fa-69e8a1354a26",
        "_uuid": "48d0bd9d409cee7fa2e133aea90b7a904a662c11",
        "id": "HFvtG40fnRWi"
      },
      "source": [
        "### Describing training dataset\n",
        "\n",
        "*describe()* method can show different values like count, mean, standard deviation, etc. of numeric data types."
      ]
    },
    {
      "cell_type": "code",
      "metadata": {
        "_cell_guid": "9f06085f-d1e4-46a1-ba62-e396e20af4ab",
        "_uuid": "d91b32b65a5f0a845899d301052ea420c79809a6",
        "scrolled": false,
        "trusted": true,
        "colab": {
          "base_uri": "https://localhost:8080/",
          "height": 297
        },
        "id": "1UACFifknRWi",
        "outputId": "da75a83b-7835-4657-89a7-015872d7edcf"
      },
      "source": [
        "train.describe()"
      ],
      "execution_count": null,
      "outputs": [
        {
          "output_type": "execute_result",
          "data": {
            "text/html": [
              "<div>\n",
              "<style scoped>\n",
              "    .dataframe tbody tr th:only-of-type {\n",
              "        vertical-align: middle;\n",
              "    }\n",
              "\n",
              "    .dataframe tbody tr th {\n",
              "        vertical-align: top;\n",
              "    }\n",
              "\n",
              "    .dataframe thead th {\n",
              "        text-align: right;\n",
              "    }\n",
              "</style>\n",
              "<table border=\"1\" class=\"dataframe\">\n",
              "  <thead>\n",
              "    <tr style=\"text-align: right;\">\n",
              "      <th></th>\n",
              "      <th>PassengerId</th>\n",
              "      <th>Survived</th>\n",
              "      <th>Pclass</th>\n",
              "      <th>Age</th>\n",
              "      <th>SibSp</th>\n",
              "      <th>Parch</th>\n",
              "      <th>Fare</th>\n",
              "    </tr>\n",
              "  </thead>\n",
              "  <tbody>\n",
              "    <tr>\n",
              "      <th>count</th>\n",
              "      <td>891.000000</td>\n",
              "      <td>891.000000</td>\n",
              "      <td>891.000000</td>\n",
              "      <td>714.000000</td>\n",
              "      <td>891.000000</td>\n",
              "      <td>891.000000</td>\n",
              "      <td>891.000000</td>\n",
              "    </tr>\n",
              "    <tr>\n",
              "      <th>mean</th>\n",
              "      <td>446.000000</td>\n",
              "      <td>0.383838</td>\n",
              "      <td>2.308642</td>\n",
              "      <td>29.699118</td>\n",
              "      <td>0.523008</td>\n",
              "      <td>0.381594</td>\n",
              "      <td>32.204208</td>\n",
              "    </tr>\n",
              "    <tr>\n",
              "      <th>std</th>\n",
              "      <td>257.353842</td>\n",
              "      <td>0.486592</td>\n",
              "      <td>0.836071</td>\n",
              "      <td>14.526497</td>\n",
              "      <td>1.102743</td>\n",
              "      <td>0.806057</td>\n",
              "      <td>49.693429</td>\n",
              "    </tr>\n",
              "    <tr>\n",
              "      <th>min</th>\n",
              "      <td>1.000000</td>\n",
              "      <td>0.000000</td>\n",
              "      <td>1.000000</td>\n",
              "      <td>0.420000</td>\n",
              "      <td>0.000000</td>\n",
              "      <td>0.000000</td>\n",
              "      <td>0.000000</td>\n",
              "    </tr>\n",
              "    <tr>\n",
              "      <th>25%</th>\n",
              "      <td>223.500000</td>\n",
              "      <td>0.000000</td>\n",
              "      <td>2.000000</td>\n",
              "      <td>20.125000</td>\n",
              "      <td>0.000000</td>\n",
              "      <td>0.000000</td>\n",
              "      <td>7.910400</td>\n",
              "    </tr>\n",
              "    <tr>\n",
              "      <th>50%</th>\n",
              "      <td>446.000000</td>\n",
              "      <td>0.000000</td>\n",
              "      <td>3.000000</td>\n",
              "      <td>28.000000</td>\n",
              "      <td>0.000000</td>\n",
              "      <td>0.000000</td>\n",
              "      <td>14.454200</td>\n",
              "    </tr>\n",
              "    <tr>\n",
              "      <th>75%</th>\n",
              "      <td>668.500000</td>\n",
              "      <td>1.000000</td>\n",
              "      <td>3.000000</td>\n",
              "      <td>38.000000</td>\n",
              "      <td>1.000000</td>\n",
              "      <td>0.000000</td>\n",
              "      <td>31.000000</td>\n",
              "    </tr>\n",
              "    <tr>\n",
              "      <th>max</th>\n",
              "      <td>891.000000</td>\n",
              "      <td>1.000000</td>\n",
              "      <td>3.000000</td>\n",
              "      <td>80.000000</td>\n",
              "      <td>8.000000</td>\n",
              "      <td>6.000000</td>\n",
              "      <td>512.329200</td>\n",
              "    </tr>\n",
              "  </tbody>\n",
              "</table>\n",
              "</div>"
            ],
            "text/plain": [
              "       PassengerId    Survived      Pclass  ...       SibSp       Parch        Fare\n",
              "count   891.000000  891.000000  891.000000  ...  891.000000  891.000000  891.000000\n",
              "mean    446.000000    0.383838    2.308642  ...    0.523008    0.381594   32.204208\n",
              "std     257.353842    0.486592    0.836071  ...    1.102743    0.806057   49.693429\n",
              "min       1.000000    0.000000    1.000000  ...    0.000000    0.000000    0.000000\n",
              "25%     223.500000    0.000000    2.000000  ...    0.000000    0.000000    7.910400\n",
              "50%     446.000000    0.000000    3.000000  ...    0.000000    0.000000   14.454200\n",
              "75%     668.500000    1.000000    3.000000  ...    1.000000    0.000000   31.000000\n",
              "max     891.000000    1.000000    3.000000  ...    8.000000    6.000000  512.329200\n",
              "\n",
              "[8 rows x 7 columns]"
            ]
          },
          "metadata": {
            "tags": []
          },
          "execution_count": 6
        }
      ]
    },
    {
      "cell_type": "code",
      "metadata": {
        "_cell_guid": "24baf21d-0d96-4a6c-97f4-ef5cb3109f6e",
        "_uuid": "ecb09e0fc6887919c005c97af0185953a12f7b75",
        "trusted": true,
        "colab": {
          "base_uri": "https://localhost:8080/",
          "height": 173
        },
        "id": "fABMlHdinRWj",
        "outputId": "92308a32-415c-467e-ac63-8f32f1e6ae18"
      },
      "source": [
        "# describe(include = ['O'])* will show the descriptive statistics of object data types.\n",
        "train.describe(include=['O'])"
      ],
      "execution_count": null,
      "outputs": [
        {
          "output_type": "execute_result",
          "data": {
            "text/html": [
              "<div>\n",
              "<style scoped>\n",
              "    .dataframe tbody tr th:only-of-type {\n",
              "        vertical-align: middle;\n",
              "    }\n",
              "\n",
              "    .dataframe tbody tr th {\n",
              "        vertical-align: top;\n",
              "    }\n",
              "\n",
              "    .dataframe thead th {\n",
              "        text-align: right;\n",
              "    }\n",
              "</style>\n",
              "<table border=\"1\" class=\"dataframe\">\n",
              "  <thead>\n",
              "    <tr style=\"text-align: right;\">\n",
              "      <th></th>\n",
              "      <th>Name</th>\n",
              "      <th>Sex</th>\n",
              "      <th>Ticket</th>\n",
              "      <th>Cabin</th>\n",
              "      <th>Embarked</th>\n",
              "    </tr>\n",
              "  </thead>\n",
              "  <tbody>\n",
              "    <tr>\n",
              "      <th>count</th>\n",
              "      <td>891</td>\n",
              "      <td>891</td>\n",
              "      <td>891</td>\n",
              "      <td>204</td>\n",
              "      <td>889</td>\n",
              "    </tr>\n",
              "    <tr>\n",
              "      <th>unique</th>\n",
              "      <td>891</td>\n",
              "      <td>2</td>\n",
              "      <td>681</td>\n",
              "      <td>147</td>\n",
              "      <td>3</td>\n",
              "    </tr>\n",
              "    <tr>\n",
              "      <th>top</th>\n",
              "      <td>Kimball, Mr. Edwin Nelson Jr</td>\n",
              "      <td>male</td>\n",
              "      <td>CA. 2343</td>\n",
              "      <td>C23 C25 C27</td>\n",
              "      <td>S</td>\n",
              "    </tr>\n",
              "    <tr>\n",
              "      <th>freq</th>\n",
              "      <td>1</td>\n",
              "      <td>577</td>\n",
              "      <td>7</td>\n",
              "      <td>4</td>\n",
              "      <td>644</td>\n",
              "    </tr>\n",
              "  </tbody>\n",
              "</table>\n",
              "</div>"
            ],
            "text/plain": [
              "                                Name   Sex    Ticket        Cabin Embarked\n",
              "count                            891   891       891          204      889\n",
              "unique                           891     2       681          147        3\n",
              "top     Kimball, Mr. Edwin Nelson Jr  male  CA. 2343  C23 C25 C27        S\n",
              "freq                               1   577         7            4      644"
            ]
          },
          "metadata": {
            "tags": []
          },
          "execution_count": 7
        }
      ]
    },
    {
      "cell_type": "code",
      "metadata": {
        "_cell_guid": "418b8a69-f2aa-442d-8f45-fa8887190938",
        "_uuid": "4ee2591110660a4a16b3da7a7530f0945e121b46",
        "trusted": true,
        "colab": {
          "base_uri": "https://localhost:8080/"
        },
        "id": "FWwRH-_3nRWk",
        "outputId": "b0f97532-e40b-405b-ad5d-95ea80c054f7"
      },
      "source": [
        "# We use info() method to see more information of our train dataset.\n",
        "train.info()"
      ],
      "execution_count": null,
      "outputs": [
        {
          "output_type": "stream",
          "text": [
            "<class 'pandas.core.frame.DataFrame'>\n",
            "RangeIndex: 891 entries, 0 to 890\n",
            "Data columns (total 12 columns):\n",
            " #   Column       Non-Null Count  Dtype  \n",
            "---  ------       --------------  -----  \n",
            " 0   PassengerId  891 non-null    int64  \n",
            " 1   Survived     891 non-null    int64  \n",
            " 2   Pclass       891 non-null    int64  \n",
            " 3   Name         891 non-null    object \n",
            " 4   Sex          891 non-null    object \n",
            " 5   Age          714 non-null    float64\n",
            " 6   SibSp        891 non-null    int64  \n",
            " 7   Parch        891 non-null    int64  \n",
            " 8   Ticket       891 non-null    object \n",
            " 9   Fare         891 non-null    float64\n",
            " 10  Cabin        204 non-null    object \n",
            " 11  Embarked     889 non-null    object \n",
            "dtypes: float64(2), int64(5), object(5)\n",
            "memory usage: 83.7+ KB\n"
          ],
          "name": "stdout"
        }
      ]
    },
    {
      "cell_type": "code",
      "metadata": {
        "_cell_guid": "0663e2bb-dc27-4187-94b1-ff4ff78b68bc",
        "_uuid": "3bf74de7f2483d622e41608f6017f2945639e4df",
        "trusted": true,
        "colab": {
          "base_uri": "https://localhost:8080/"
        },
        "id": "tBOPle62nRWm",
        "outputId": "11c30870-894f-476b-c598-e1c9bf3e5d9c"
      },
      "source": [
        "# checking if any column has some missing values\n",
        "train.isnull().sum()"
      ],
      "execution_count": null,
      "outputs": [
        {
          "output_type": "execute_result",
          "data": {
            "text/plain": [
              "PassengerId      0\n",
              "Survived         0\n",
              "Pclass           0\n",
              "Name             0\n",
              "Sex              0\n",
              "Age            177\n",
              "SibSp            0\n",
              "Parch            0\n",
              "Ticket           0\n",
              "Fare             0\n",
              "Cabin          687\n",
              "Embarked         2\n",
              "dtype: int64"
            ]
          },
          "metadata": {
            "tags": []
          },
          "execution_count": 9
        }
      ]
    },
    {
      "cell_type": "markdown",
      "metadata": {
        "_cell_guid": "1de3f8d9-58fc-45f6-a1c2-d2c50cfd95e4",
        "_uuid": "8479cc0108926c2da3bcec63c13ff5da1abbbeae",
        "id": "KRwhm_LRnRWn"
      },
      "source": [
        "### Looking into the testing dataset"
      ]
    },
    {
      "cell_type": "code",
      "metadata": {
        "_cell_guid": "a67f1d37-4397-4f59-948f-843ed7674ce8",
        "_uuid": "dc78304d651df5e54aaa962d77ac673791ff1419",
        "scrolled": true,
        "trusted": true,
        "colab": {
          "base_uri": "https://localhost:8080/"
        },
        "id": "i8Q9od_xnRWo",
        "outputId": "b4d8120e-c092-4dca-b4cc-0cf436396281"
      },
      "source": [
        "test.shape"
      ],
      "execution_count": null,
      "outputs": [
        {
          "output_type": "execute_result",
          "data": {
            "text/plain": [
              "(418, 11)"
            ]
          },
          "metadata": {
            "tags": []
          },
          "execution_count": 10
        }
      ]
    },
    {
      "cell_type": "markdown",
      "metadata": {
        "id": "ftIk1aInnRWp"
      },
      "source": [
        "#### NOTE:\n",
        "- Test data has 418 rows and 11 columns.\n",
        "> Train data rows = 891, Test data rows = 418, Total rows = 891+418 = 1309\n",
        "- We can see that around `2/3` of total data is set as Train data and around 1/3 of total data is set as Test data.\n"
      ]
    },
    {
      "cell_type": "code",
      "metadata": {
        "_cell_guid": "a7a6af81-6c7b-4fb3-88a1-eef9f2d95f6b",
        "_uuid": "d73aaec23bd5f4a1fe7dcf3c669d18d31c547efd",
        "trusted": true,
        "colab": {
          "base_uri": "https://localhost:8080/",
          "height": 204
        },
        "id": "962UE258nRWq",
        "outputId": "f938f20f-ff51-4f7f-fbd5-f513d8255a4b"
      },
      "source": [
        "test.head()"
      ],
      "execution_count": null,
      "outputs": [
        {
          "output_type": "execute_result",
          "data": {
            "text/html": [
              "<div>\n",
              "<style scoped>\n",
              "    .dataframe tbody tr th:only-of-type {\n",
              "        vertical-align: middle;\n",
              "    }\n",
              "\n",
              "    .dataframe tbody tr th {\n",
              "        vertical-align: top;\n",
              "    }\n",
              "\n",
              "    .dataframe thead th {\n",
              "        text-align: right;\n",
              "    }\n",
              "</style>\n",
              "<table border=\"1\" class=\"dataframe\">\n",
              "  <thead>\n",
              "    <tr style=\"text-align: right;\">\n",
              "      <th></th>\n",
              "      <th>PassengerId</th>\n",
              "      <th>Pclass</th>\n",
              "      <th>Name</th>\n",
              "      <th>Sex</th>\n",
              "      <th>Age</th>\n",
              "      <th>SibSp</th>\n",
              "      <th>Parch</th>\n",
              "      <th>Ticket</th>\n",
              "      <th>Fare</th>\n",
              "      <th>Cabin</th>\n",
              "      <th>Embarked</th>\n",
              "    </tr>\n",
              "  </thead>\n",
              "  <tbody>\n",
              "    <tr>\n",
              "      <th>0</th>\n",
              "      <td>892</td>\n",
              "      <td>3</td>\n",
              "      <td>Kelly, Mr. James</td>\n",
              "      <td>male</td>\n",
              "      <td>34.5</td>\n",
              "      <td>0</td>\n",
              "      <td>0</td>\n",
              "      <td>330911</td>\n",
              "      <td>7.8292</td>\n",
              "      <td>NaN</td>\n",
              "      <td>Q</td>\n",
              "    </tr>\n",
              "    <tr>\n",
              "      <th>1</th>\n",
              "      <td>893</td>\n",
              "      <td>3</td>\n",
              "      <td>Wilkes, Mrs. James (Ellen Needs)</td>\n",
              "      <td>female</td>\n",
              "      <td>47.0</td>\n",
              "      <td>1</td>\n",
              "      <td>0</td>\n",
              "      <td>363272</td>\n",
              "      <td>7.0000</td>\n",
              "      <td>NaN</td>\n",
              "      <td>S</td>\n",
              "    </tr>\n",
              "    <tr>\n",
              "      <th>2</th>\n",
              "      <td>894</td>\n",
              "      <td>2</td>\n",
              "      <td>Myles, Mr. Thomas Francis</td>\n",
              "      <td>male</td>\n",
              "      <td>62.0</td>\n",
              "      <td>0</td>\n",
              "      <td>0</td>\n",
              "      <td>240276</td>\n",
              "      <td>9.6875</td>\n",
              "      <td>NaN</td>\n",
              "      <td>Q</td>\n",
              "    </tr>\n",
              "    <tr>\n",
              "      <th>3</th>\n",
              "      <td>895</td>\n",
              "      <td>3</td>\n",
              "      <td>Wirz, Mr. Albert</td>\n",
              "      <td>male</td>\n",
              "      <td>27.0</td>\n",
              "      <td>0</td>\n",
              "      <td>0</td>\n",
              "      <td>315154</td>\n",
              "      <td>8.6625</td>\n",
              "      <td>NaN</td>\n",
              "      <td>S</td>\n",
              "    </tr>\n",
              "    <tr>\n",
              "      <th>4</th>\n",
              "      <td>896</td>\n",
              "      <td>3</td>\n",
              "      <td>Hirvonen, Mrs. Alexander (Helga E Lindqvist)</td>\n",
              "      <td>female</td>\n",
              "      <td>22.0</td>\n",
              "      <td>1</td>\n",
              "      <td>1</td>\n",
              "      <td>3101298</td>\n",
              "      <td>12.2875</td>\n",
              "      <td>NaN</td>\n",
              "      <td>S</td>\n",
              "    </tr>\n",
              "  </tbody>\n",
              "</table>\n",
              "</div>"
            ],
            "text/plain": [
              "   PassengerId  Pclass  ... Cabin Embarked\n",
              "0          892       3  ...   NaN        Q\n",
              "1          893       3  ...   NaN        S\n",
              "2          894       2  ...   NaN        Q\n",
              "3          895       3  ...   NaN        S\n",
              "4          896       3  ...   NaN        S\n",
              "\n",
              "[5 rows x 11 columns]"
            ]
          },
          "metadata": {
            "tags": []
          },
          "execution_count": 11
        }
      ]
    },
    {
      "cell_type": "code",
      "metadata": {
        "_cell_guid": "6f09ffda-3cd9-423a-8ab7-322330b6f44f",
        "_uuid": "03b6cc95436e9382d8f4b92367e9d586caed59ad",
        "trusted": true,
        "colab": {
          "base_uri": "https://localhost:8080/"
        },
        "id": "m9nsgIWrnRWr",
        "outputId": "19001f7a-5619-4183-c28c-35a778b20a82"
      },
      "source": [
        "test.info()"
      ],
      "execution_count": null,
      "outputs": [
        {
          "output_type": "stream",
          "text": [
            "<class 'pandas.core.frame.DataFrame'>\n",
            "RangeIndex: 418 entries, 0 to 417\n",
            "Data columns (total 11 columns):\n",
            " #   Column       Non-Null Count  Dtype  \n",
            "---  ------       --------------  -----  \n",
            " 0   PassengerId  418 non-null    int64  \n",
            " 1   Pclass       418 non-null    int64  \n",
            " 2   Name         418 non-null    object \n",
            " 3   Sex          418 non-null    object \n",
            " 4   Age          332 non-null    float64\n",
            " 5   SibSp        418 non-null    int64  \n",
            " 6   Parch        418 non-null    int64  \n",
            " 7   Ticket       418 non-null    object \n",
            " 8   Fare         417 non-null    float64\n",
            " 9   Cabin        91 non-null     object \n",
            " 10  Embarked     418 non-null    object \n",
            "dtypes: float64(2), int64(4), object(5)\n",
            "memory usage: 36.0+ KB\n"
          ],
          "name": "stdout"
        }
      ]
    },
    {
      "cell_type": "code",
      "metadata": {
        "_cell_guid": "7783d378-a9bb-4afb-977d-714faddbd54c",
        "_uuid": "c78d7a4a30362d7afe9f917e0cae3558098ae1d6",
        "trusted": true,
        "colab": {
          "base_uri": "https://localhost:8080/"
        },
        "id": "n4Iy68rhnRWr",
        "outputId": "ffa92248-716a-4b12-fca2-ef7ad7b2989e"
      },
      "source": [
        "test.isnull().sum()"
      ],
      "execution_count": null,
      "outputs": [
        {
          "output_type": "execute_result",
          "data": {
            "text/plain": [
              "PassengerId      0\n",
              "Pclass           0\n",
              "Name             0\n",
              "Sex              0\n",
              "Age             86\n",
              "SibSp            0\n",
              "Parch            0\n",
              "Ticket           0\n",
              "Fare             1\n",
              "Cabin          327\n",
              "Embarked         0\n",
              "dtype: int64"
            ]
          },
          "metadata": {
            "tags": []
          },
          "execution_count": 13
        }
      ]
    },
    {
      "cell_type": "markdown",
      "metadata": {
        "_cell_guid": "c8553d48-c5e0-4947-bd13-1b38509c850c",
        "_uuid": "1a28e607e9ed63cefe0f35a4e4d72f2f36299323",
        "id": "utCPS9CBnRWv"
      },
      "source": [
        "### Relationship between Features and Survival\n",
        "#### In this section, we analyze relationship between different features with respect to *Survival*. We see how different feature values show different survival chance. We also plot different kinds of diagrams to **visualize** our data and findings."
      ]
    },
    {
      "cell_type": "code",
      "metadata": {
        "_cell_guid": "b1d8a6d2-c22d-435c-8c98-973e8f41b138",
        "_uuid": "26411c710f69b29939c815d5f5ab01d9177df7d0",
        "trusted": true,
        "colab": {
          "base_uri": "https://localhost:8080/"
        },
        "id": "Negva_jjnRWv",
        "outputId": "3ce18d3c-602c-4dba-dbb3-1f50008360c0"
      },
      "source": [
        "survived = train[train['Survived'] == 1]\n",
        "not_survived = train[train['Survived'] == 0]\n",
        "\n",
        "print (\"Survived: %i (%.1f%%)\"%(len(survived), float(len(survived))/len(train)*100.0))\n",
        "print (\"Not Survived: %i (%.1f%%)\"%(len(not_survived), float(len(not_survived))/len(train)*100.0))\n",
        "print (\"Total: %i\"%len(train))"
      ],
      "execution_count": null,
      "outputs": [
        {
          "output_type": "stream",
          "text": [
            "Survived: 342 (38.4%)\n",
            "Not Survived: 549 (61.6%)\n",
            "Total: 891\n"
          ],
          "name": "stdout"
        }
      ]
    },
    {
      "cell_type": "markdown",
      "metadata": {
        "_cell_guid": "aa6d2b6d-af33-46f2-997b-e8f7a6d29ddd",
        "_uuid": "6ddbc343c14cfd51d66cf16482291212949d10a3",
        "id": "WdkK8bx8nRWw"
      },
      "source": [
        "## Finding relations between features and survival\n",
        "### 1) Pclass vs. Survival"
      ]
    },
    {
      "cell_type": "code",
      "metadata": {
        "_cell_guid": "3519d680-1e35-437d-9691-16ff3c73a674",
        "_uuid": "1708bbe6b8bcbbf2ecb0ce1e27f3b9bf2d1a61e8",
        "trusted": true,
        "colab": {
          "base_uri": "https://localhost:8080/"
        },
        "id": "5Sk7VAfCnRWw",
        "outputId": "a909de2c-b035-4acf-b8cb-8f7cb17cccdb"
      },
      "source": [
        "train.Pclass.value_counts()"
      ],
      "execution_count": null,
      "outputs": [
        {
          "output_type": "execute_result",
          "data": {
            "text/plain": [
              "3    491\n",
              "1    216\n",
              "2    184\n",
              "Name: Pclass, dtype: int64"
            ]
          },
          "metadata": {
            "tags": []
          },
          "execution_count": 15
        }
      ]
    },
    {
      "cell_type": "code",
      "metadata": {
        "trusted": true,
        "colab": {
          "base_uri": "https://localhost:8080/"
        },
        "id": "X2s2WV8LnRWx",
        "outputId": "1e2eef52-555f-43e7-b9cb-36d8f881fb83"
      },
      "source": [
        "pclass_survived = train.groupby('Pclass').Survived.value_counts()\n",
        "pclass_survived"
      ],
      "execution_count": null,
      "outputs": [
        {
          "output_type": "execute_result",
          "data": {
            "text/plain": [
              "Pclass  Survived\n",
              "1       1           136\n",
              "        0            80\n",
              "2       0            97\n",
              "        1            87\n",
              "3       0           372\n",
              "        1           119\n",
              "Name: Survived, dtype: int64"
            ]
          },
          "metadata": {
            "tags": []
          },
          "execution_count": 16
        }
      ]
    },
    {
      "cell_type": "code",
      "metadata": {
        "trusted": true,
        "colab": {
          "base_uri": "https://localhost:8080/",
          "height": 299
        },
        "id": "974z8KdDnRWx",
        "outputId": "d3666d97-1116-4b77-fc8e-d7067c3b54af"
      },
      "source": [
        "# plotting the pclass vs survived\n",
        "pclass_survived.unstack(level=0).plot(kind='bar', subplots=False)"
      ],
      "execution_count": null,
      "outputs": [
        {
          "output_type": "execute_result",
          "data": {
            "text/plain": [
              "<matplotlib.axes._subplots.AxesSubplot at 0x7f0c99cd26d0>"
            ]
          },
          "metadata": {
            "tags": []
          },
          "execution_count": 17
        },
        {
          "output_type": "display_data",
          "data": {
            "image/png": "[encoded data removed]",
            "text/plain": [
              "<Figure size 432x288 with 1 Axes>"
            ]
          },
          "metadata": {
            "tags": [],
            "needs_background": "light"
          }
        }
      ]
    },
    {
      "cell_type": "code",
      "metadata": {
        "_cell_guid": "6f13718d-94a3-48da-bc80-c69774f91628",
        "_uuid": "875d19ca526b3cc79685a8134175af2f6c373fb5",
        "trusted": true,
        "colab": {
          "base_uri": "https://localhost:8080/",
          "height": 142
        },
        "id": "SGSBnetynRWy",
        "outputId": "ed6aeb93-b6c3-46fa-e744-7910c9dacafe"
      },
      "source": [
        "pclass_survived_average = train[['Pclass', 'Survived']].groupby(['Pclass'], as_index=False).mean()\n",
        "pclass_survived_average"
      ],
      "execution_count": null,
      "outputs": [
        {
          "output_type": "execute_result",
          "data": {
            "text/html": [
              "<div>\n",
              "<style scoped>\n",
              "    .dataframe tbody tr th:only-of-type {\n",
              "        vertical-align: middle;\n",
              "    }\n",
              "\n",
              "    .dataframe tbody tr th {\n",
              "        vertical-align: top;\n",
              "    }\n",
              "\n",
              "    .dataframe thead th {\n",
              "        text-align: right;\n",
              "    }\n",
              "</style>\n",
              "<table border=\"1\" class=\"dataframe\">\n",
              "  <thead>\n",
              "    <tr style=\"text-align: right;\">\n",
              "      <th></th>\n",
              "      <th>Pclass</th>\n",
              "      <th>Survived</th>\n",
              "    </tr>\n",
              "  </thead>\n",
              "  <tbody>\n",
              "    <tr>\n",
              "      <th>0</th>\n",
              "      <td>1</td>\n",
              "      <td>0.629630</td>\n",
              "    </tr>\n",
              "    <tr>\n",
              "      <th>1</th>\n",
              "      <td>2</td>\n",
              "      <td>0.472826</td>\n",
              "    </tr>\n",
              "    <tr>\n",
              "      <th>2</th>\n",
              "      <td>3</td>\n",
              "      <td>0.242363</td>\n",
              "    </tr>\n",
              "  </tbody>\n",
              "</table>\n",
              "</div>"
            ],
            "text/plain": [
              "   Pclass  Survived\n",
              "0       1  0.629630\n",
              "1       2  0.472826\n",
              "2       3  0.242363"
            ]
          },
          "metadata": {
            "tags": []
          },
          "execution_count": 18
        }
      ]
    },
    {
      "cell_type": "code",
      "metadata": {
        "trusted": true,
        "colab": {
          "base_uri": "https://localhost:8080/",
          "height": 282
        },
        "id": "Q5_pcFsznRWz",
        "outputId": "feb3b599-82d6-41df-cf2c-eaa8129d5877"
      },
      "source": [
        "pclass_survived_average.plot(kind='bar', subplots=False)"
      ],
      "execution_count": null,
      "outputs": [
        {
          "output_type": "execute_result",
          "data": {
            "text/plain": [
              "<matplotlib.axes._subplots.AxesSubplot at 0x7f0c99bca390>"
            ]
          },
          "metadata": {
            "tags": []
          },
          "execution_count": 19
        },
        {
          "output_type": "display_data",
          "data": {
            "image/png": "[encoded data removed]",
            "text/plain": [
              "<Figure size 432x288 with 1 Axes>"
            ]
          },
          "metadata": {
            "tags": [],
            "needs_background": "light"
          }
        }
      ]
    },
    {
      "cell_type": "markdown",
      "metadata": {
        "id": "kZ3u_NC_nRWz"
      },
      "source": [
        "NOTE:\n",
        "- Higher class passengers (low `Pcass`) have better average survival than the low class(high `Pclass`) passengers."
      ]
    },
    {
      "cell_type": "code",
      "metadata": {
        "_cell_guid": "750dd832-6155-42b8-859f-6b4f39312cff",
        "_uuid": "2fb25360ed46e3095f3fc88f66a5c5a4051299d0",
        "trusted": true,
        "colab": {
          "base_uri": "https://localhost:8080/",
          "height": 302
        },
        "id": "zCN6vQlnnRW0",
        "outputId": "c0e244d5-f674-4d17-9234-24146f081050"
      },
      "source": [
        "# The above statement can be clearly understood from the plot below.\n",
        "sns.barplot(x='Pclass', y='Survived', data=train)"
      ],
      "execution_count": null,
      "outputs": [
        {
          "output_type": "execute_result",
          "data": {
            "text/plain": [
              "<matplotlib.axes._subplots.AxesSubplot at 0x7f0c996fd0d0>"
            ]
          },
          "metadata": {
            "tags": []
          },
          "execution_count": 20
        },
        {
          "output_type": "display_data",
          "data": {
            "image/png": "[encoded data removed]",
            "text/plain": [
              "<Figure size 432x288 with 1 Axes>"
            ]
          },
          "metadata": {
            "tags": [],
            "needs_background": "light"
          }
        }
      ]
    },
    {
      "cell_type": "markdown",
      "metadata": {
        "_cell_guid": "8e7dea7a-466a-427c-90f7-9919b0257928",
        "_uuid": "30220b897ef645f5f09edd92ceaf66b7480874f9",
        "id": "jIE2U2lPnRW0"
      },
      "source": [
        "### 2) Sex vs. Survival"
      ]
    },
    {
      "cell_type": "code",
      "metadata": {
        "_cell_guid": "46df4fd7-01fe-492d-9ab4-411063999fa6",
        "_uuid": "81239e0a000dcfa838b1568e7944b2a19f787ff0",
        "trusted": true,
        "colab": {
          "base_uri": "https://localhost:8080/"
        },
        "id": "YA17iYRonRW1",
        "outputId": "6cb9b32b-e935-4901-d8ed-03a320bfd9de"
      },
      "source": [
        "train.Sex.value_counts()"
      ],
      "execution_count": null,
      "outputs": [
        {
          "output_type": "execute_result",
          "data": {
            "text/plain": [
              "male      577\n",
              "female    314\n",
              "Name: Sex, dtype: int64"
            ]
          },
          "metadata": {
            "tags": []
          },
          "execution_count": 21
        }
      ]
    },
    {
      "cell_type": "code",
      "metadata": {
        "trusted": true,
        "colab": {
          "base_uri": "https://localhost:8080/"
        },
        "id": "VIDIwsdfnRW2",
        "outputId": "8635b85f-b6ac-4449-c83a-ec5fcd2c2f40"
      },
      "source": [
        "sex_survival = train.groupby('Sex').Survived.value_counts()\n",
        "sex_survival"
      ],
      "execution_count": null,
      "outputs": [
        {
          "output_type": "execute_result",
          "data": {
            "text/plain": [
              "Sex     Survived\n",
              "female  1           233\n",
              "        0            81\n",
              "male    0           468\n",
              "        1           109\n",
              "Name: Survived, dtype: int64"
            ]
          },
          "metadata": {
            "tags": []
          },
          "execution_count": 22
        }
      ]
    },
    {
      "cell_type": "code",
      "metadata": {
        "_cell_guid": "4458f41b-d5ac-4b65-b402-c7dfb5f7a773",
        "_uuid": "fbed9f476a6a6612f0b896354e24da2d8ab6b5b1",
        "trusted": true,
        "colab": {
          "base_uri": "https://localhost:8080/",
          "height": 299
        },
        "id": "c8aFaVEUnRW2",
        "outputId": "39befcae-fa03-49b6-eca3-9ae9a2ee8745"
      },
      "source": [
        "sex_survival.unstack(level=0).plot(kind='bar', subplots=False)"
      ],
      "execution_count": null,
      "outputs": [
        {
          "output_type": "execute_result",
          "data": {
            "text/plain": [
              "<matplotlib.axes._subplots.AxesSubplot at 0x7f0c99689810>"
            ]
          },
          "metadata": {
            "tags": []
          },
          "execution_count": 23
        },
        {
          "output_type": "display_data",
          "data": {
            "image/png": "[encoded data removed]",
            "text/plain": [
              "<Figure size 432x288 with 1 Axes>"
            ]
          },
          "metadata": {
            "tags": [],
            "needs_background": "light"
          }
        }
      ]
    },
    {
      "cell_type": "code",
      "metadata": {
        "_cell_guid": "23a3fd2c-4b6d-42b6-aa16-d332b762d5e4",
        "_uuid": "51395890825ac9c6ba5b454942a062e2e3d1aa8b",
        "trusted": true,
        "colab": {
          "base_uri": "https://localhost:8080/",
          "height": 111
        },
        "id": "6zTXd1gLnRW3",
        "outputId": "5523bbbd-7fd9-4829-b382-49061ed4854e"
      },
      "source": [
        "sex_survived_average = train[['Sex', 'Survived']].groupby(['Sex'], as_index=False).mean()\n",
        "sex_survived_average"
      ],
      "execution_count": null,
      "outputs": [
        {
          "output_type": "execute_result",
          "data": {
            "text/html": [
              "<div>\n",
              "<style scoped>\n",
              "    .dataframe tbody tr th:only-of-type {\n",
              "        vertical-align: middle;\n",
              "    }\n",
              "\n",
              "    .dataframe tbody tr th {\n",
              "        vertical-align: top;\n",
              "    }\n",
              "\n",
              "    .dataframe thead th {\n",
              "        text-align: right;\n",
              "    }\n",
              "</style>\n",
              "<table border=\"1\" class=\"dataframe\">\n",
              "  <thead>\n",
              "    <tr style=\"text-align: right;\">\n",
              "      <th></th>\n",
              "      <th>Sex</th>\n",
              "      <th>Survived</th>\n",
              "    </tr>\n",
              "  </thead>\n",
              "  <tbody>\n",
              "    <tr>\n",
              "      <th>0</th>\n",
              "      <td>female</td>\n",
              "      <td>0.742038</td>\n",
              "    </tr>\n",
              "    <tr>\n",
              "      <th>1</th>\n",
              "      <td>male</td>\n",
              "      <td>0.188908</td>\n",
              "    </tr>\n",
              "  </tbody>\n",
              "</table>\n",
              "</div>"
            ],
            "text/plain": [
              "      Sex  Survived\n",
              "0  female  0.742038\n",
              "1    male  0.188908"
            ]
          },
          "metadata": {
            "tags": []
          },
          "execution_count": 24
        }
      ]
    },
    {
      "cell_type": "code",
      "metadata": {
        "trusted": true,
        "colab": {
          "base_uri": "https://localhost:8080/",
          "height": 282
        },
        "id": "2J0UKnCsnRW3",
        "outputId": "e61ced24-1fac-43c7-e3a4-67fc12e74d6c"
      },
      "source": [
        "sex_survived_average.plot(kind='bar', subplots=False)"
      ],
      "execution_count": null,
      "outputs": [
        {
          "output_type": "execute_result",
          "data": {
            "text/plain": [
              "<matplotlib.axes._subplots.AxesSubplot at 0x7f0c995f8e10>"
            ]
          },
          "metadata": {
            "tags": []
          },
          "execution_count": 25
        },
        {
          "output_type": "display_data",
          "data": {
            "image/png": "[encoded data removed]",
            "text/plain": [
              "<Figure size 432x288 with 1 Axes>"
            ]
          },
          "metadata": {
            "tags": [],
            "needs_background": "light"
          }
        }
      ]
    },
    {
      "cell_type": "code",
      "metadata": {
        "_cell_guid": "74a9672d-a4a1-49dc-b7bb-80af130e3435",
        "_uuid": "dc4b4a37faf5e0769f58d18c13307936fd941c1d",
        "trusted": true,
        "colab": {
          "base_uri": "https://localhost:8080/",
          "height": 302
        },
        "id": "dLE-eyWwnRW3",
        "outputId": "04f58ba0-81d3-47d4-b8e5-25387984e6fb"
      },
      "source": [
        "sns.barplot(x='Sex', y='Survived', data=train)"
      ],
      "execution_count": null,
      "outputs": [
        {
          "output_type": "execute_result",
          "data": {
            "text/plain": [
              "<matplotlib.axes._subplots.AxesSubplot at 0x7f0c99578510>"
            ]
          },
          "metadata": {
            "tags": []
          },
          "execution_count": 26
        },
        {
          "output_type": "display_data",
          "data": {
            "image/png": "[encoded data removed]",
            "text/plain": [
              "<Figure size 432x288 with 1 Axes>"
            ]
          },
          "metadata": {
            "tags": [],
            "needs_background": "light"
          }
        }
      ]
    },
    {
      "cell_type": "markdown",
      "metadata": {
        "id": "kVNvjV10nRW4"
      },
      "source": [
        "#### NOTE:\n",
        "- Females have better survival chance."
      ]
    },
    {
      "cell_type": "markdown",
      "metadata": {
        "_cell_guid": "f7f1f02f-3c57-4304-8daa-042f621e9780",
        "_uuid": "95eec0c76da918cdfb5f230de1239057f62cd51d",
        "id": "qo16V6tNnRW4"
      },
      "source": [
        "### 3) Pclass & Sex vs. Survival"
      ]
    },
    {
      "cell_type": "markdown",
      "metadata": {
        "_cell_guid": "7ddebfbe-b243-4166-bfbb-80b952fb9fa4",
        "_uuid": "1e638d237722dda21945a551ee55730c9698d0b6",
        "id": "cPv3VixZnRW5"
      },
      "source": [
        "> Below, I have just found out how many males and females are there in each *Pclass* then plotted a bar diagram with that information and found that there are more males among the 3rd Pclass passengers."
      ]
    },
    {
      "cell_type": "code",
      "metadata": {
        "_cell_guid": "1f6ab924-c1e4-4caf-af5d-fcbea591dfe5",
        "_uuid": "b55e8de5aa73f1e1be45c4a3b673a9cb8c2c44b5",
        "trusted": true,
        "colab": {
          "base_uri": "https://localhost:8080/",
          "height": 384
        },
        "id": "K6Vz46OjnRW5",
        "outputId": "580d0735-8f0f-4f34-ea5a-2292e42b133a"
      },
      "source": [
        "tab = pd.crosstab(train['Pclass'], train['Sex'])\n",
        "print (tab)\n",
        "\n",
        "# sum(1) means the sum across axis 1.\n",
        "tab.div(tab.sum(1).astype(float), axis=0).plot(kind=\"bar\", stacked=False)\n",
        "plt.xlabel('Pclass')\n",
        "plt.ylabel('Percentage')"
      ],
      "execution_count": null,
      "outputs": [
        {
          "output_type": "stream",
          "text": [
            "Sex     female  male\n",
            "Pclass              \n",
            "1           94   122\n",
            "2           76   108\n",
            "3          144   347\n"
          ],
          "name": "stdout"
        },
        {
          "output_type": "execute_result",
          "data": {
            "text/plain": [
              "Text(0, 0.5, 'Percentage')"
            ]
          },
          "metadata": {
            "tags": []
          },
          "execution_count": 27
        },
        {
          "output_type": "display_data",
          "data": {
            "image/png": "[encoded data removed]",
            "text/plain": [
              "<Figure size 432x288 with 1 Axes>"
            ]
          },
          "metadata": {
            "tags": [],
            "needs_background": "light"
          }
        }
      ]
    },
    {
      "cell_type": "code",
      "metadata": {
        "_cell_guid": "613d943c-b02f-4c74-ace0-7f9de682747e",
        "_uuid": "a918b9ed3f63c04d72400f48bd4fad2f3a9306bd",
        "trusted": true,
        "colab": {
          "base_uri": "https://localhost:8080/",
          "height": 331
        },
        "id": "f_eoJU73nRW5",
        "outputId": "70bd13f3-fa15-4fc3-8430-e490bcecc990"
      },
      "source": [
        "sns.factorplot('Sex', 'Survived', hue='Pclass', size=4, aspect=2, data=train)"
      ],
      "execution_count": null,
      "outputs": [
        {
          "output_type": "execute_result",
          "data": {
            "text/plain": [
              "<seaborn.axisgrid.FacetGrid at 0x7f0c99536e50>"
            ]
          },
          "metadata": {
            "tags": []
          },
          "execution_count": 28
        },
        {
          "output_type": "display_data",
          "data": {
            "image/png": "[encoded data removed]",
            "text/plain": [
              "<Figure size 622.6x288 with 1 Axes>"
            ]
          },
          "metadata": {
            "tags": [],
            "needs_background": "light"
          }
        }
      ]
    },
    {
      "cell_type": "markdown",
      "metadata": {
        "_cell_guid": "b81a96f3-aeea-4e64-9e98-9632b82e3b08",
        "_uuid": "5f114e20f937fcb35db17bae34568ebe94bb3799",
        "id": "SSopANEHnRW6"
      },
      "source": [
        "NOTE:<br>\n",
        "From the above plot, it can be seen that:\n",
        "- Women from 1st and 2nd Pclass have almost 100% survival chance. \n",
        "- Men from 2nd and 3rd Pclass have only around 10% survival chance."
      ]
    },
    {
      "cell_type": "markdown",
      "metadata": {
        "_cell_guid": "6c3c8e3d-d2bb-4a6b-b41a-cf212214f3cc",
        "_uuid": "d44e729bc65bb9023ac26f3733afd6ad20f7ea47",
        "id": "hPufIN85nRW6"
      },
      "source": [
        "### 4) Pclass, Sex & Embarked vs. Survival"
      ]
    },
    {
      "cell_type": "code",
      "metadata": {
        "_cell_guid": "1d2b1c6b-b5da-471f-a1ff-ff5cfa89feca",
        "_uuid": "66c13283729566414144283d58839659a61f8f8c",
        "scrolled": true,
        "trusted": true,
        "colab": {
          "base_uri": "https://localhost:8080/",
          "height": 403
        },
        "id": "wz4qiIEknRW6",
        "outputId": "3357cdab-6efb-494b-9a9a-3f0abfaa5f39"
      },
      "source": [
        "sns.factorplot(x='Pclass', y='Survived', hue='Sex', col='Embarked', data=train)"
      ],
      "execution_count": null,
      "outputs": [
        {
          "output_type": "execute_result",
          "data": {
            "text/plain": [
              "<seaborn.axisgrid.FacetGrid at 0x7f0c994bd510>"
            ]
          },
          "metadata": {
            "tags": []
          },
          "execution_count": 29
        },
        {
          "output_type": "display_data",
          "data": {
            "image/png": "[encoded data removed]",
            "text/plain": [
              "<Figure size 1157.97x360 with 3 Axes>"
            ]
          },
          "metadata": {
            "tags": [],
            "needs_background": "light"
          }
        }
      ]
    },
    {
      "cell_type": "markdown",
      "metadata": {
        "_cell_guid": "317baafa-0be2-4a90-906e-20c7602bb57e",
        "_uuid": "00b1b5c92f2b58d2b593aacaf44c40c4fcb9f8d0",
        "id": "M0bbizUpnRW7"
      },
      "source": [
        "NOTE:<br>From the above plot, it can be seen that:\n",
        "- Almost all females from Pclass 1 and 2 survived.\n",
        "- Females dying were mostly from 3rd Pclass.\n",
        "- Males from Pclass 1 only have slightly higher survival chance than Pclass 2 and 3."
      ]
    },
    {
      "cell_type": "markdown",
      "metadata": {
        "_cell_guid": "2be5e738-7ce6-4894-b551-be27ed1e2e14",
        "_uuid": "6af0dc82a865ed3f9df1e2541457f5386aa22a92",
        "id": "J8M8l4ignRW7"
      },
      "source": [
        "### 5) Embarked vs. Survived"
      ]
    },
    {
      "cell_type": "code",
      "metadata": {
        "_cell_guid": "0495cd70-bc41-4783-aa45-2ec384ef5bf3",
        "_uuid": "17e10d07ba73773b4d67cf2228818454607582da",
        "scrolled": true,
        "trusted": true,
        "colab": {
          "base_uri": "https://localhost:8080/"
        },
        "id": "L5rulM-GnRW8",
        "outputId": "471e68e6-5bc6-46a8-ec7f-3f9e472eb149"
      },
      "source": [
        "train.Embarked.value_counts()"
      ],
      "execution_count": null,
      "outputs": [
        {
          "output_type": "execute_result",
          "data": {
            "text/plain": [
              "S    644\n",
              "C    168\n",
              "Q     77\n",
              "Name: Embarked, dtype: int64"
            ]
          },
          "metadata": {
            "tags": []
          },
          "execution_count": 30
        }
      ]
    },
    {
      "cell_type": "code",
      "metadata": {
        "_cell_guid": "6865de4c-9da6-4589-a58b-afe01d9835b6",
        "_uuid": "0b785f9cdf1f0c5d0cc4ae5e429dbf499e894dd3",
        "scrolled": true,
        "trusted": true,
        "colab": {
          "base_uri": "https://localhost:8080/"
        },
        "id": "pHVbGnwvnRW8",
        "outputId": "34de3227-647c-4803-a13f-d22f0b0f12c7"
      },
      "source": [
        "train.groupby('Embarked').Survived.value_counts()"
      ],
      "execution_count": null,
      "outputs": [
        {
          "output_type": "execute_result",
          "data": {
            "text/plain": [
              "Embarked  Survived\n",
              "C         1            93\n",
              "          0            75\n",
              "Q         0            47\n",
              "          1            30\n",
              "S         0           427\n",
              "          1           217\n",
              "Name: Survived, dtype: int64"
            ]
          },
          "metadata": {
            "tags": []
          },
          "execution_count": 31
        }
      ]
    },
    {
      "cell_type": "code",
      "metadata": {
        "_cell_guid": "fdbbaf29-5a59-490e-b9fc-fa02f0673047",
        "_uuid": "03a5505bba0411c73d2723cf54f2cadadc517ce4",
        "trusted": true,
        "colab": {
          "base_uri": "https://localhost:8080/",
          "height": 142
        },
        "id": "UsfF-QQOnRW8",
        "outputId": "1e9f8ca4-78c3-4f77-d5e5-243ca8e4d5ca"
      },
      "source": [
        "train[['Embarked', 'Survived']].groupby(['Embarked'], as_index=False).mean()"
      ],
      "execution_count": null,
      "outputs": [
        {
          "output_type": "execute_result",
          "data": {
            "text/html": [
              "<div>\n",
              "<style scoped>\n",
              "    .dataframe tbody tr th:only-of-type {\n",
              "        vertical-align: middle;\n",
              "    }\n",
              "\n",
              "    .dataframe tbody tr th {\n",
              "        vertical-align: top;\n",
              "    }\n",
              "\n",
              "    .dataframe thead th {\n",
              "        text-align: right;\n",
              "    }\n",
              "</style>\n",
              "<table border=\"1\" class=\"dataframe\">\n",
              "  <thead>\n",
              "    <tr style=\"text-align: right;\">\n",
              "      <th></th>\n",
              "      <th>Embarked</th>\n",
              "      <th>Survived</th>\n",
              "    </tr>\n",
              "  </thead>\n",
              "  <tbody>\n",
              "    <tr>\n",
              "      <th>0</th>\n",
              "      <td>C</td>\n",
              "      <td>0.553571</td>\n",
              "    </tr>\n",
              "    <tr>\n",
              "      <th>1</th>\n",
              "      <td>Q</td>\n",
              "      <td>0.389610</td>\n",
              "    </tr>\n",
              "    <tr>\n",
              "      <th>2</th>\n",
              "      <td>S</td>\n",
              "      <td>0.336957</td>\n",
              "    </tr>\n",
              "  </tbody>\n",
              "</table>\n",
              "</div>"
            ],
            "text/plain": [
              "  Embarked  Survived\n",
              "0        C  0.553571\n",
              "1        Q  0.389610\n",
              "2        S  0.336957"
            ]
          },
          "metadata": {
            "tags": []
          },
          "execution_count": 32
        }
      ]
    },
    {
      "cell_type": "code",
      "metadata": {
        "_cell_guid": "ac2ac7f7-a310-43e6-babc-bdde16c151c0",
        "_uuid": "6f3cc8762ac6729c72cfd2de56f1c520b0a38fc5",
        "trusted": true,
        "colab": {
          "base_uri": "https://localhost:8080/",
          "height": 302
        },
        "id": "oksPeTDInRW8",
        "outputId": "d8af5ddb-db4b-4704-df98-2da69b6ae018"
      },
      "source": [
        "#train.groupby('Embarked').Survived.mean().plot(kind='bar')\n",
        "sns.barplot(x='Embarked', y='Survived', data=train)"
      ],
      "execution_count": null,
      "outputs": [
        {
          "output_type": "execute_result",
          "data": {
            "text/plain": [
              "<matplotlib.axes._subplots.AxesSubplot at 0x7f0c90a26150>"
            ]
          },
          "metadata": {
            "tags": []
          },
          "execution_count": 33
        },
        {
          "output_type": "display_data",
          "data": {
            "image/png": "[encoded data removed]",
            "text/plain": [
              "<Figure size 432x288 with 1 Axes>"
            ]
          },
          "metadata": {
            "tags": [],
            "needs_background": "light"
          }
        }
      ]
    },
    {
      "cell_type": "markdown",
      "metadata": {
        "_cell_guid": "0ba446c0-bbd5-4fd5-9865-e8cec0c0db1e",
        "_uuid": "366add4366f3bae0855cedd296ca03b9ecacd9c9",
        "id": "vrkmKJqanRW9"
      },
      "source": [
        "### 6) Parch vs. Survival"
      ]
    },
    {
      "cell_type": "code",
      "metadata": {
        "_cell_guid": "e1ff4289-e4a4-4dab-a2a8-aea014f191f3",
        "_uuid": "559e007c8a8f1038d9c16d19812ce98e29370fe5",
        "trusted": true,
        "colab": {
          "base_uri": "https://localhost:8080/"
        },
        "id": "xJzUDSZTnRW9",
        "outputId": "255f8659-de5b-4b4a-960c-d37fa596be4b"
      },
      "source": [
        "train.Parch.value_counts()"
      ],
      "execution_count": null,
      "outputs": [
        {
          "output_type": "execute_result",
          "data": {
            "text/plain": [
              "0    678\n",
              "1    118\n",
              "2     80\n",
              "5      5\n",
              "3      5\n",
              "4      4\n",
              "6      1\n",
              "Name: Parch, dtype: int64"
            ]
          },
          "metadata": {
            "tags": []
          },
          "execution_count": 34
        }
      ]
    },
    {
      "cell_type": "code",
      "metadata": {
        "_cell_guid": "4782685d-a2a7-4b1e-bdc1-8528f5176ba3",
        "_uuid": "ba8cbe12ce5aa49376a98a370507ad36eb51b53a",
        "trusted": true,
        "colab": {
          "base_uri": "https://localhost:8080/"
        },
        "id": "6SxYcPWnnRW9",
        "outputId": "d551282d-1b82-4069-d75e-2ddba5f1eef8"
      },
      "source": [
        "train.groupby('Parch').Survived.value_counts()"
      ],
      "execution_count": null,
      "outputs": [
        {
          "output_type": "execute_result",
          "data": {
            "text/plain": [
              "Parch  Survived\n",
              "0      0           445\n",
              "       1           233\n",
              "1      1            65\n",
              "       0            53\n",
              "2      0            40\n",
              "       1            40\n",
              "3      1             3\n",
              "       0             2\n",
              "4      0             4\n",
              "5      0             4\n",
              "       1             1\n",
              "6      0             1\n",
              "Name: Survived, dtype: int64"
            ]
          },
          "metadata": {
            "tags": []
          },
          "execution_count": 35
        }
      ]
    },
    {
      "cell_type": "code",
      "metadata": {
        "_cell_guid": "07156c23-f8ec-426d-8a2a-04c2d2f7d676",
        "_uuid": "a06d63e60664e5f78d134ee45522538c5c67c7b6",
        "trusted": true,
        "colab": {
          "base_uri": "https://localhost:8080/",
          "height": 266
        },
        "id": "9DAcyixOnRW-",
        "outputId": "73c1eba2-95e5-45cd-e4ad-6cfbc2cf5c66"
      },
      "source": [
        "train[['Parch', 'Survived']].groupby(['Parch'], as_index=False).mean()"
      ],
      "execution_count": null,
      "outputs": [
        {
          "output_type": "execute_result",
          "data": {
            "text/html": [
              "<div>\n",
              "<style scoped>\n",
              "    .dataframe tbody tr th:only-of-type {\n",
              "        vertical-align: middle;\n",
              "    }\n",
              "\n",
              "    .dataframe tbody tr th {\n",
              "        vertical-align: top;\n",
              "    }\n",
              "\n",
              "    .dataframe thead th {\n",
              "        text-align: right;\n",
              "    }\n",
              "</style>\n",
              "<table border=\"1\" class=\"dataframe\">\n",
              "  <thead>\n",
              "    <tr style=\"text-align: right;\">\n",
              "      <th></th>\n",
              "      <th>Parch</th>\n",
              "      <th>Survived</th>\n",
              "    </tr>\n",
              "  </thead>\n",
              "  <tbody>\n",
              "    <tr>\n",
              "      <th>0</th>\n",
              "      <td>0</td>\n",
              "      <td>0.343658</td>\n",
              "    </tr>\n",
              "    <tr>\n",
              "      <th>1</th>\n",
              "      <td>1</td>\n",
              "      <td>0.550847</td>\n",
              "    </tr>\n",
              "    <tr>\n",
              "      <th>2</th>\n",
              "      <td>2</td>\n",
              "      <td>0.500000</td>\n",
              "    </tr>\n",
              "    <tr>\n",
              "      <th>3</th>\n",
              "      <td>3</td>\n",
              "      <td>0.600000</td>\n",
              "    </tr>\n",
              "    <tr>\n",
              "      <th>4</th>\n",
              "      <td>4</td>\n",
              "      <td>0.000000</td>\n",
              "    </tr>\n",
              "    <tr>\n",
              "      <th>5</th>\n",
              "      <td>5</td>\n",
              "      <td>0.200000</td>\n",
              "    </tr>\n",
              "    <tr>\n",
              "      <th>6</th>\n",
              "      <td>6</td>\n",
              "      <td>0.000000</td>\n",
              "    </tr>\n",
              "  </tbody>\n",
              "</table>\n",
              "</div>"
            ],
            "text/plain": [
              "   Parch  Survived\n",
              "0      0  0.343658\n",
              "1      1  0.550847\n",
              "2      2  0.500000\n",
              "3      3  0.600000\n",
              "4      4  0.000000\n",
              "5      5  0.200000\n",
              "6      6  0.000000"
            ]
          },
          "metadata": {
            "tags": []
          },
          "execution_count": 36
        }
      ]
    },
    {
      "cell_type": "code",
      "metadata": {
        "_cell_guid": "a7a20f85-6f3f-449b-87ae-6b4a0db5a04a",
        "_uuid": "20cdb7c7848d7e05b24864811990499217e8ff0d",
        "trusted": true,
        "colab": {
          "base_uri": "https://localhost:8080/",
          "height": 302
        },
        "id": "NuvztRMRnRW-",
        "outputId": "e802a62f-2eb9-442b-efe2-b91ac88570dc"
      },
      "source": [
        "#train.groupby('Parch').Survived.mean().plot(kind='bar')\n",
        "sns.barplot(x='Parch', y='Survived', ci=None, data=train) # ci=None will hide the error bar"
      ],
      "execution_count": null,
      "outputs": [
        {
          "output_type": "execute_result",
          "data": {
            "text/plain": [
              "<matplotlib.axes._subplots.AxesSubplot at 0x7f0c909f25d0>"
            ]
          },
          "metadata": {
            "tags": []
          },
          "execution_count": 37
        },
        {
          "output_type": "display_data",
          "data": {
            "image/png": "[encoded data removed]",
            "text/plain": [
              "<Figure size 432x288 with 1 Axes>"
            ]
          },
          "metadata": {
            "tags": [],
            "needs_background": "light"
          }
        }
      ]
    },
    {
      "cell_type": "markdown",
      "metadata": {
        "_cell_guid": "e17f4cec-5b87-4145-9682-36c1074cab13",
        "_uuid": "ac0c853cd98c65e23c479fa4ac095368dc7611a3",
        "id": "HInwWpWanRW-"
      },
      "source": [
        "### 7) SibSp vs. Survival"
      ]
    },
    {
      "cell_type": "code",
      "metadata": {
        "_cell_guid": "aa7c549b-dece-47d6-ae59-904bfacd7e7b",
        "_uuid": "73dec216cd3f086d6234292d5de07a7b38235aee",
        "trusted": true,
        "colab": {
          "base_uri": "https://localhost:8080/"
        },
        "id": "u38EVV6qnRW_",
        "outputId": "1ff59f7c-ab26-4fb9-ef77-b946c5f06a57"
      },
      "source": [
        "train.SibSp.value_counts()"
      ],
      "execution_count": null,
      "outputs": [
        {
          "output_type": "execute_result",
          "data": {
            "text/plain": [
              "0    608\n",
              "1    209\n",
              "2     28\n",
              "4     18\n",
              "3     16\n",
              "8      7\n",
              "5      5\n",
              "Name: SibSp, dtype: int64"
            ]
          },
          "metadata": {
            "tags": []
          },
          "execution_count": 38
        }
      ]
    },
    {
      "cell_type": "code",
      "metadata": {
        "_cell_guid": "4928fd7f-119e-4236-be66-fdf763789935",
        "_uuid": "ea275ec5c650b60c2c8f2fe1a9978dc62dd92971",
        "trusted": true,
        "colab": {
          "base_uri": "https://localhost:8080/"
        },
        "id": "I5h2MyB9nRW_",
        "outputId": "e2703fd1-7e74-47a1-b811-8e14903c30b6"
      },
      "source": [
        "train.groupby('SibSp').Survived.value_counts()"
      ],
      "execution_count": null,
      "outputs": [
        {
          "output_type": "execute_result",
          "data": {
            "text/plain": [
              "SibSp  Survived\n",
              "0      0           398\n",
              "       1           210\n",
              "1      1           112\n",
              "       0            97\n",
              "2      0            15\n",
              "       1            13\n",
              "3      0            12\n",
              "       1             4\n",
              "4      0            15\n",
              "       1             3\n",
              "5      0             5\n",
              "8      0             7\n",
              "Name: Survived, dtype: int64"
            ]
          },
          "metadata": {
            "tags": []
          },
          "execution_count": 39
        }
      ]
    },
    {
      "cell_type": "code",
      "metadata": {
        "_cell_guid": "d272b3a0-3113-43f3-8fc1-2b35c0e9f1e1",
        "_uuid": "185dc0cf1d7747ff010f35f62db9533fcafd2a46",
        "trusted": true,
        "colab": {
          "base_uri": "https://localhost:8080/",
          "height": 266
        },
        "id": "1720CCyqnRW_",
        "outputId": "6b818f2f-f631-4125-8346-26861c341d55"
      },
      "source": [
        "train[['SibSp', 'Survived']].groupby(['SibSp'], as_index=False).mean()"
      ],
      "execution_count": null,
      "outputs": [
        {
          "output_type": "execute_result",
          "data": {
            "text/html": [
              "<div>\n",
              "<style scoped>\n",
              "    .dataframe tbody tr th:only-of-type {\n",
              "        vertical-align: middle;\n",
              "    }\n",
              "\n",
              "    .dataframe tbody tr th {\n",
              "        vertical-align: top;\n",
              "    }\n",
              "\n",
              "    .dataframe thead th {\n",
              "        text-align: right;\n",
              "    }\n",
              "</style>\n",
              "<table border=\"1\" class=\"dataframe\">\n",
              "  <thead>\n",
              "    <tr style=\"text-align: right;\">\n",
              "      <th></th>\n",
              "      <th>SibSp</th>\n",
              "      <th>Survived</th>\n",
              "    </tr>\n",
              "  </thead>\n",
              "  <tbody>\n",
              "    <tr>\n",
              "      <th>0</th>\n",
              "      <td>0</td>\n",
              "      <td>0.345395</td>\n",
              "    </tr>\n",
              "    <tr>\n",
              "      <th>1</th>\n",
              "      <td>1</td>\n",
              "      <td>0.535885</td>\n",
              "    </tr>\n",
              "    <tr>\n",
              "      <th>2</th>\n",
              "      <td>2</td>\n",
              "      <td>0.464286</td>\n",
              "    </tr>\n",
              "    <tr>\n",
              "      <th>3</th>\n",
              "      <td>3</td>\n",
              "      <td>0.250000</td>\n",
              "    </tr>\n",
              "    <tr>\n",
              "      <th>4</th>\n",
              "      <td>4</td>\n",
              "      <td>0.166667</td>\n",
              "    </tr>\n",
              "    <tr>\n",
              "      <th>5</th>\n",
              "      <td>5</td>\n",
              "      <td>0.000000</td>\n",
              "    </tr>\n",
              "    <tr>\n",
              "      <th>6</th>\n",
              "      <td>8</td>\n",
              "      <td>0.000000</td>\n",
              "    </tr>\n",
              "  </tbody>\n",
              "</table>\n",
              "</div>"
            ],
            "text/plain": [
              "   SibSp  Survived\n",
              "0      0  0.345395\n",
              "1      1  0.535885\n",
              "2      2  0.464286\n",
              "3      3  0.250000\n",
              "4      4  0.166667\n",
              "5      5  0.000000\n",
              "6      8  0.000000"
            ]
          },
          "metadata": {
            "tags": []
          },
          "execution_count": 40
        }
      ]
    },
    {
      "cell_type": "code",
      "metadata": {
        "_cell_guid": "e2974991-3fcc-40fe-a977-4084a74dbbca",
        "_uuid": "b91cd2cda757615b442a664e3ec58cf55a30a322",
        "trusted": true,
        "colab": {
          "base_uri": "https://localhost:8080/",
          "height": 302
        },
        "id": "qPfVGDTcnRXA",
        "outputId": "d7372ee2-6a3e-4e8a-805c-8d84dc9c392d"
      },
      "source": [
        "#train.groupby('SibSp').Survived.mean().plot(kind='bar')\n",
        "sns.barplot(x='SibSp', y='Survived', ci=None, data=train) \n",
        "# ci=None will hide the error bar"
      ],
      "execution_count": null,
      "outputs": [
        {
          "output_type": "execute_result",
          "data": {
            "text/plain": [
              "<matplotlib.axes._subplots.AxesSubplot at 0x7f0c90991650>"
            ]
          },
          "metadata": {
            "tags": []
          },
          "execution_count": 41
        },
        {
          "output_type": "display_data",
          "data": {
            "image/png": "[encoded data removed]",
            "text/plain": [
              "<Figure size 432x288 with 1 Axes>"
            ]
          },
          "metadata": {
            "tags": [],
            "needs_background": "light"
          }
        }
      ]
    },
    {
      "cell_type": "markdown",
      "metadata": {
        "_cell_guid": "aeb5d0d6-043f-4ad6-9dd1-c8582a76f937",
        "_uuid": "3f6bfb7c78b582270ef47a77ac1fb7cd8d1f1a05",
        "id": "ONqiqaO8nRXA"
      },
      "source": [
        "### 8) Age vs. Survival"
      ]
    },
    {
      "cell_type": "code",
      "metadata": {
        "_cell_guid": "5de76f16-0770-4d3a-94af-1a5f885ad513",
        "_uuid": "4b9fd4c0dc8fa56a392419cded332a5479cc9c11",
        "trusted": true,
        "colab": {
          "base_uri": "https://localhost:8080/",
          "height": 356
        },
        "id": "1CyN4BStnRXA",
        "outputId": "1840f095-dcbe-460f-ae0a-8e787aeda6d7"
      },
      "source": [
        "fig = plt.figure(figsize=(15,5))\n",
        "ax1 = fig.add_subplot(131)\n",
        "ax2 = fig.add_subplot(132)\n",
        "ax3 = fig.add_subplot(133)\n",
        "\n",
        "sns.violinplot(x=\"Embarked\", y=\"Age\", hue=\"Survived\", data=train, split=True, ax=ax1)\n",
        "sns.violinplot(x=\"Pclass\", y=\"Age\", hue=\"Survived\", data=train, split=True, ax=ax2)\n",
        "sns.violinplot(x=\"Sex\", y=\"Age\", hue=\"Survived\", data=train, split=True, ax=ax3)"
      ],
      "execution_count": null,
      "outputs": [
        {
          "output_type": "execute_result",
          "data": {
            "text/plain": [
              "<matplotlib.axes._subplots.AxesSubplot at 0x7f0c9966e110>"
            ]
          },
          "metadata": {
            "tags": []
          },
          "execution_count": 42
        },
        {
          "output_type": "display_data",
          "data": {
            "image/png": "[encoded data removed]",
            "text/plain": [
              "<Figure size 1080x360 with 3 Axes>"
            ]
          },
          "metadata": {
            "tags": [],
            "needs_background": "light"
          }
        }
      ]
    },
    {
      "cell_type": "markdown",
      "metadata": {
        "id": "OsiaCLzvnRXB"
      },
      "source": [
        "### Plotting some distribution plots based on survival's sex "
      ]
    },
    {
      "cell_type": "code",
      "metadata": {
        "_cell_guid": "5aaff304-95ca-47a5-82ea-043a754aa566",
        "_uuid": "a27f29a7b85ce41d6c7805da4e3b5f7bd99131b9",
        "trusted": true,
        "id": "pycUmUeHnRXB"
      },
      "source": [
        "total_survived = train[train['Survived']==1]\n",
        "total_not_survived = train[train['Survived']==0]\n",
        "\n",
        "male_survived = train[(train['Survived']==1) & (train['Sex']==\"male\")]\n",
        "female_survived = train[(train['Survived']==1) & (train['Sex']==\"female\")]\n",
        "\n",
        "male_not_survived = train[(train['Survived']==0) & (train['Sex']==\"male\")]\n",
        "female_not_survived = train[(train['Survived']==0) & (train['Sex']==\"female\")]"
      ],
      "execution_count": null,
      "outputs": []
    },
    {
      "cell_type": "code",
      "metadata": {
        "trusted": true,
        "colab": {
          "base_uri": "https://localhost:8080/",
          "height": 356
        },
        "id": "6yzc7sNWnRXC",
        "outputId": "eb182b50-df36-4a5f-fab9-6023a6ce0d51"
      },
      "source": [
        "plt.figure(figsize=[15,5])\n",
        "plt.subplot(111)\n",
        "sns.distplot(total_survived['Age'].dropna().values, bins=range(0, 81, 1), kde=True, color='blue')\n",
        "sns.distplot(total_not_survived['Age'].dropna().values, bins=range(0, 81, 1), kde=True, color='red', axlabel='Age')"
      ],
      "execution_count": null,
      "outputs": [
        {
          "output_type": "execute_result",
          "data": {
            "text/plain": [
              "<matplotlib.axes._subplots.AxesSubplot at 0x7f0c996e4090>"
            ]
          },
          "metadata": {
            "tags": []
          },
          "execution_count": 44
        },
        {
          "output_type": "display_data",
          "data": {
            "image/png": "[encoded data removed]",
            "text/plain": [
              "<Figure size 1080x360 with 1 Axes>"
            ]
          },
          "metadata": {
            "tags": [],
            "needs_background": "light"
          }
        }
      ]
    },
    {
      "cell_type": "code",
      "metadata": {
        "trusted": true,
        "colab": {
          "base_uri": "https://localhost:8080/",
          "height": 356
        },
        "id": "X3m5j9__nRXC",
        "outputId": "b421e29d-265d-41a7-e69c-7e5302a5c3b9"
      },
      "source": [
        "plt.figure(figsize=[15,5])\n",
        "\n",
        "plt.subplot(121)\n",
        "sns.distplot(female_survived['Age'].dropna().values, bins=range(0, 81, 1), kde=True, color='blue')\n",
        "sns.distplot(female_not_survived['Age'].dropna().values, bins=range(0, 81, 1), kde=True, color='red', axlabel='Female Age')\n",
        "\n",
        "plt.subplot(122)\n",
        "sns.distplot(male_survived['Age'].dropna().values, bins=range(0, 81, 1), kde=True, color='blue')\n",
        "sns.distplot(male_not_survived['Age'].dropna().values, bins=range(0, 81, 1), kde=True, color='red', axlabel='Male Age')"
      ],
      "execution_count": null,
      "outputs": [
        {
          "output_type": "execute_result",
          "data": {
            "text/plain": [
              "<matplotlib.axes._subplots.AxesSubplot at 0x7f0c8cbece10>"
            ]
          },
          "metadata": {
            "tags": []
          },
          "execution_count": 45
        },
        {
          "output_type": "display_data",
          "data": {
            "image/png": "[encoded data removed]",
            "text/plain": [
              "<Figure size 1080x360 with 2 Axes>"
            ]
          },
          "metadata": {
            "tags": [],
            "needs_background": "light"
          }
        }
      ]
    },
    {
      "cell_type": "markdown",
      "metadata": {
        "_cell_guid": "41e4e217-e98d-4648-9a18-41f6b031a93b",
        "_uuid": "9c6e39a8fe1becb94c1d473513bedccf28b0ac3b",
        "id": "usBhUVE1nRXD"
      },
      "source": [
        "NOTE:<br>From the above figures, we can see that:\n",
        "- Combining both male and female, we can see that children with age between 0 to 5 have better chance of survival.\n",
        "- Females with age between \"18 to 40\" and \"50 and above\" have higher chance of survival.\n",
        "- Males with age between 0 to 14 have better chance of survival."
      ]
    },
    {
      "cell_type": "markdown",
      "metadata": {
        "_cell_guid": "6f2389e2-5f94-4afb-87e1-028350de945d",
        "_uuid": "00b44aefe6f10d7abc759461075e4a4688c1c4f5",
        "id": "YY1rKm8ynRXE"
      },
      "source": [
        "## Correlating Features"
      ]
    },
    {
      "cell_type": "code",
      "metadata": {
        "_cell_guid": "a6e2253b-aa82-4ef5-8b1a-c1c5c7b6b176",
        "_uuid": "f3a8657cbe64e417316d2f5f6ebe1069e4532cf2",
        "trusted": true,
        "colab": {
          "base_uri": "https://localhost:8080/",
          "height": 398
        },
        "id": "WMeIswuCnRXF",
        "outputId": "b222f8d4-104a-44e1-c2c2-92510385d7a3"
      },
      "source": [
        "plt.figure(figsize=(15,6))\n",
        "sns.heatmap(train.drop('PassengerId',axis=1).corr(), vmax=0.6, square=True, annot=True)"
      ],
      "execution_count": null,
      "outputs": [
        {
          "output_type": "execute_result",
          "data": {
            "text/plain": [
              "<matplotlib.axes._subplots.AxesSubplot at 0x7f0c8e774390>"
            ]
          },
          "metadata": {
            "tags": []
          },
          "execution_count": 46
        },
        {
          "output_type": "display_data",
          "data": {
            "image/png": "[encoded data removed]",
            "text/plain": [
              "<Figure size 1080x432 with 2 Axes>"
            ]
          },
          "metadata": {
            "tags": [],
            "needs_background": "light"
          }
        }
      ]
    },
    {
      "cell_type": "markdown",
      "metadata": {
        "_cell_guid": "33e2375e-78e5-4b4a-989f-2c71a68b821e",
        "_uuid": "b645e2361f539ffbcc5b554e99e4346e97a56bce",
        "id": "leuR9UWDnRXH"
      },
      "source": [
        "### 1) Name Feature\n",
        "> Let's first extract titles from *Name* column."
      ]
    },
    {
      "cell_type": "code",
      "metadata": {
        "_cell_guid": "ff9cf7ce-8b13-48d0-8ec0-4bcd9befcd42",
        "_uuid": "e3b7f95e366e878c7e99672ddc4361c5b5f99959",
        "scrolled": false,
        "trusted": true,
        "id": "Faej1g2jnRXI"
      },
      "source": [
        " # combining train and test dataset\n",
        "train_test_data = [train, test]\n",
        "\n",
        "# extracting titles from Name column.\n",
        "for dataset in train_test_data:\n",
        "    dataset['Title'] = dataset['Name'].str.extract(' ([A-Za-z]+)\\.')"
      ],
      "execution_count": null,
      "outputs": []
    },
    {
      "cell_type": "code",
      "metadata": {
        "_cell_guid": "13811f8e-4746-411b-806f-2c86a4893269",
        "_uuid": "5b181a96646a36e0669e856f399646fa30923781",
        "trusted": true,
        "colab": {
          "base_uri": "https://localhost:8080/",
          "height": 204
        },
        "id": "0gRzsgYxnRXI",
        "outputId": "ea48367a-4a01-4633-c4f6-4eec19df9f45"
      },
      "source": [
        "train.head()"
      ],
      "execution_count": null,
      "outputs": [
        {
          "output_type": "execute_result",
          "data": {
            "text/html": [
              "<div>\n",
              "<style scoped>\n",
              "    .dataframe tbody tr th:only-of-type {\n",
              "        vertical-align: middle;\n",
              "    }\n",
              "\n",
              "    .dataframe tbody tr th {\n",
              "        vertical-align: top;\n",
              "    }\n",
              "\n",
              "    .dataframe thead th {\n",
              "        text-align: right;\n",
              "    }\n",
              "</style>\n",
              "<table border=\"1\" class=\"dataframe\">\n",
              "  <thead>\n",
              "    <tr style=\"text-align: right;\">\n",
              "      <th></th>\n",
              "      <th>PassengerId</th>\n",
              "      <th>Survived</th>\n",
              "      <th>Pclass</th>\n",
              "      <th>Name</th>\n",
              "      <th>Sex</th>\n",
              "      <th>Age</th>\n",
              "      <th>SibSp</th>\n",
              "      <th>Parch</th>\n",
              "      <th>Ticket</th>\n",
              "      <th>Fare</th>\n",
              "      <th>Cabin</th>\n",
              "      <th>Embarked</th>\n",
              "      <th>Title</th>\n",
              "    </tr>\n",
              "  </thead>\n",
              "  <tbody>\n",
              "    <tr>\n",
              "      <th>0</th>\n",
              "      <td>1</td>\n",
              "      <td>0</td>\n",
              "      <td>3</td>\n",
              "      <td>Braund, Mr. Owen Harris</td>\n",
              "      <td>male</td>\n",
              "      <td>22.0</td>\n",
              "      <td>1</td>\n",
              "      <td>0</td>\n",
              "      <td>A/5 21171</td>\n",
              "      <td>7.2500</td>\n",
              "      <td>NaN</td>\n",
              "      <td>S</td>\n",
              "      <td>Mr</td>\n",
              "    </tr>\n",
              "    <tr>\n",
              "      <th>1</th>\n",
              "      <td>2</td>\n",
              "      <td>1</td>\n",
              "      <td>1</td>\n",
              "      <td>Cumings, Mrs. John Bradley (Florence Briggs Th...</td>\n",
              "      <td>female</td>\n",
              "      <td>38.0</td>\n",
              "      <td>1</td>\n",
              "      <td>0</td>\n",
              "      <td>PC 17599</td>\n",
              "      <td>71.2833</td>\n",
              "      <td>C85</td>\n",
              "      <td>C</td>\n",
              "      <td>Mrs</td>\n",
              "    </tr>\n",
              "    <tr>\n",
              "      <th>2</th>\n",
              "      <td>3</td>\n",
              "      <td>1</td>\n",
              "      <td>3</td>\n",
              "      <td>Heikkinen, Miss. Laina</td>\n",
              "      <td>female</td>\n",
              "      <td>26.0</td>\n",
              "      <td>0</td>\n",
              "      <td>0</td>\n",
              "      <td>STON/O2. 3101282</td>\n",
              "      <td>7.9250</td>\n",
              "      <td>NaN</td>\n",
              "      <td>S</td>\n",
              "      <td>Miss</td>\n",
              "    </tr>\n",
              "    <tr>\n",
              "      <th>3</th>\n",
              "      <td>4</td>\n",
              "      <td>1</td>\n",
              "      <td>1</td>\n",
              "      <td>Futrelle, Mrs. Jacques Heath (Lily May Peel)</td>\n",
              "      <td>female</td>\n",
              "      <td>35.0</td>\n",
              "      <td>1</td>\n",
              "      <td>0</td>\n",
              "      <td>113803</td>\n",
              "      <td>53.1000</td>\n",
              "      <td>C123</td>\n",
              "      <td>S</td>\n",
              "      <td>Mrs</td>\n",
              "    </tr>\n",
              "    <tr>\n",
              "      <th>4</th>\n",
              "      <td>5</td>\n",
              "      <td>0</td>\n",
              "      <td>3</td>\n",
              "      <td>Allen, Mr. William Henry</td>\n",
              "      <td>male</td>\n",
              "      <td>35.0</td>\n",
              "      <td>0</td>\n",
              "      <td>0</td>\n",
              "      <td>373450</td>\n",
              "      <td>8.0500</td>\n",
              "      <td>NaN</td>\n",
              "      <td>S</td>\n",
              "      <td>Mr</td>\n",
              "    </tr>\n",
              "  </tbody>\n",
              "</table>\n",
              "</div>"
            ],
            "text/plain": [
              "   PassengerId  Survived  Pclass  ... Cabin Embarked  Title\n",
              "0            1         0       3  ...   NaN        S     Mr\n",
              "1            2         1       1  ...   C85        C    Mrs\n",
              "2            3         1       3  ...   NaN        S   Miss\n",
              "3            4         1       1  ...  C123        S    Mrs\n",
              "4            5         0       3  ...   NaN        S     Mr\n",
              "\n",
              "[5 rows x 13 columns]"
            ]
          },
          "metadata": {
            "tags": []
          },
          "execution_count": 48
        }
      ]
    },
    {
      "cell_type": "markdown",
      "metadata": {
        "_cell_guid": "079b3f6e-6b8c-40bf-a419-94f0dd4e5c4d",
        "_uuid": "a3c0f651d45fdcf89cdbe49b86ecfa66c95a49f3",
        "id": "bzGRrjsPnRXI"
      },
      "source": [
        "> As you can see above, we have added a new column named *Title* in the Train dataset with the *Title* present in the particular passenger name."
      ]
    },
    {
      "cell_type": "code",
      "metadata": {
        "_cell_guid": "bf944c80-25c2-46f9-8c79-6daf3c8f6d6e",
        "_uuid": "ee143a8c07ba167241d0714187a45eca75847b70",
        "trusted": true,
        "colab": {
          "base_uri": "https://localhost:8080/",
          "height": 607
        },
        "id": "-AxeWtmHnRXJ",
        "outputId": "22f24606-23ab-4488-8c83-1173c5b8411b"
      },
      "source": [
        "pd.crosstab(train['Title'], train['Sex'])"
      ],
      "execution_count": null,
      "outputs": [
        {
          "output_type": "execute_result",
          "data": {
            "text/html": [
              "<div>\n",
              "<style scoped>\n",
              "    .dataframe tbody tr th:only-of-type {\n",
              "        vertical-align: middle;\n",
              "    }\n",
              "\n",
              "    .dataframe tbody tr th {\n",
              "        vertical-align: top;\n",
              "    }\n",
              "\n",
              "    .dataframe thead th {\n",
              "        text-align: right;\n",
              "    }\n",
              "</style>\n",
              "<table border=\"1\" class=\"dataframe\">\n",
              "  <thead>\n",
              "    <tr style=\"text-align: right;\">\n",
              "      <th>Sex</th>\n",
              "      <th>female</th>\n",
              "      <th>male</th>\n",
              "    </tr>\n",
              "    <tr>\n",
              "      <th>Title</th>\n",
              "      <th></th>\n",
              "      <th></th>\n",
              "    </tr>\n",
              "  </thead>\n",
              "  <tbody>\n",
              "    <tr>\n",
              "      <th>Capt</th>\n",
              "      <td>0</td>\n",
              "      <td>1</td>\n",
              "    </tr>\n",
              "    <tr>\n",
              "      <th>Col</th>\n",
              "      <td>0</td>\n",
              "      <td>2</td>\n",
              "    </tr>\n",
              "    <tr>\n",
              "      <th>Countess</th>\n",
              "      <td>1</td>\n",
              "      <td>0</td>\n",
              "    </tr>\n",
              "    <tr>\n",
              "      <th>Don</th>\n",
              "      <td>0</td>\n",
              "      <td>1</td>\n",
              "    </tr>\n",
              "    <tr>\n",
              "      <th>Dr</th>\n",
              "      <td>1</td>\n",
              "      <td>6</td>\n",
              "    </tr>\n",
              "    <tr>\n",
              "      <th>Jonkheer</th>\n",
              "      <td>0</td>\n",
              "      <td>1</td>\n",
              "    </tr>\n",
              "    <tr>\n",
              "      <th>Lady</th>\n",
              "      <td>1</td>\n",
              "      <td>0</td>\n",
              "    </tr>\n",
              "    <tr>\n",
              "      <th>Major</th>\n",
              "      <td>0</td>\n",
              "      <td>2</td>\n",
              "    </tr>\n",
              "    <tr>\n",
              "      <th>Master</th>\n",
              "      <td>0</td>\n",
              "      <td>40</td>\n",
              "    </tr>\n",
              "    <tr>\n",
              "      <th>Miss</th>\n",
              "      <td>182</td>\n",
              "      <td>0</td>\n",
              "    </tr>\n",
              "    <tr>\n",
              "      <th>Mlle</th>\n",
              "      <td>2</td>\n",
              "      <td>0</td>\n",
              "    </tr>\n",
              "    <tr>\n",
              "      <th>Mme</th>\n",
              "      <td>1</td>\n",
              "      <td>0</td>\n",
              "    </tr>\n",
              "    <tr>\n",
              "      <th>Mr</th>\n",
              "      <td>0</td>\n",
              "      <td>517</td>\n",
              "    </tr>\n",
              "    <tr>\n",
              "      <th>Mrs</th>\n",
              "      <td>125</td>\n",
              "      <td>0</td>\n",
              "    </tr>\n",
              "    <tr>\n",
              "      <th>Ms</th>\n",
              "      <td>1</td>\n",
              "      <td>0</td>\n",
              "    </tr>\n",
              "    <tr>\n",
              "      <th>Rev</th>\n",
              "      <td>0</td>\n",
              "      <td>6</td>\n",
              "    </tr>\n",
              "    <tr>\n",
              "      <th>Sir</th>\n",
              "      <td>0</td>\n",
              "      <td>1</td>\n",
              "    </tr>\n",
              "  </tbody>\n",
              "</table>\n",
              "</div>"
            ],
            "text/plain": [
              "Sex       female  male\n",
              "Title                 \n",
              "Capt           0     1\n",
              "Col            0     2\n",
              "Countess       1     0\n",
              "Don            0     1\n",
              "Dr             1     6\n",
              "Jonkheer       0     1\n",
              "Lady           1     0\n",
              "Major          0     2\n",
              "Master         0    40\n",
              "Miss         182     0\n",
              "Mlle           2     0\n",
              "Mme            1     0\n",
              "Mr             0   517\n",
              "Mrs          125     0\n",
              "Ms             1     0\n",
              "Rev            0     6\n",
              "Sir            0     1"
            ]
          },
          "metadata": {
            "tags": []
          },
          "execution_count": 49
        }
      ]
    },
    {
      "cell_type": "code",
      "metadata": {
        "_cell_guid": "d0826fef-6815-4381-8667-70ca0f04edf7",
        "_uuid": "027552b065d70355ddad5f5e26c8d58029e737aa",
        "trusted": true,
        "colab": {
          "base_uri": "https://localhost:8080/",
          "height": 204
        },
        "id": "OFca3HCdnRXJ",
        "outputId": "3acb1b1e-d129-4df3-c0d4-941e7b8fd690"
      },
      "source": [
        "for dataset in train_test_data:\n",
        "    dataset['Title'] = dataset['Title'].replace(['Lady', 'Countess','Capt', 'Col', \\\n",
        " \t'Don', 'Dr', 'Major', 'Rev', 'Sir', 'Jonkheer', 'Dona'], 'Other')\n",
        "\n",
        "    dataset['Title'] = dataset['Title'].replace('Mlle', 'Miss')\n",
        "    dataset['Title'] = dataset['Title'].replace('Ms', 'Miss')\n",
        "    dataset['Title'] = dataset['Title'].replace('Mme', 'Mrs')\n",
        "    \n",
        "train[['Title', 'Survived']].groupby(['Title'], as_index=False).mean()"
      ],
      "execution_count": null,
      "outputs": [
        {
          "output_type": "execute_result",
          "data": {
            "text/html": [
              "<div>\n",
              "<style scoped>\n",
              "    .dataframe tbody tr th:only-of-type {\n",
              "        vertical-align: middle;\n",
              "    }\n",
              "\n",
              "    .dataframe tbody tr th {\n",
              "        vertical-align: top;\n",
              "    }\n",
              "\n",
              "    .dataframe thead th {\n",
              "        text-align: right;\n",
              "    }\n",
              "</style>\n",
              "<table border=\"1\" class=\"dataframe\">\n",
              "  <thead>\n",
              "    <tr style=\"text-align: right;\">\n",
              "      <th></th>\n",
              "      <th>Title</th>\n",
              "      <th>Survived</th>\n",
              "    </tr>\n",
              "  </thead>\n",
              "  <tbody>\n",
              "    <tr>\n",
              "      <th>0</th>\n",
              "      <td>Master</td>\n",
              "      <td>0.575000</td>\n",
              "    </tr>\n",
              "    <tr>\n",
              "      <th>1</th>\n",
              "      <td>Miss</td>\n",
              "      <td>0.702703</td>\n",
              "    </tr>\n",
              "    <tr>\n",
              "      <th>2</th>\n",
              "      <td>Mr</td>\n",
              "      <td>0.156673</td>\n",
              "    </tr>\n",
              "    <tr>\n",
              "      <th>3</th>\n",
              "      <td>Mrs</td>\n",
              "      <td>0.793651</td>\n",
              "    </tr>\n",
              "    <tr>\n",
              "      <th>4</th>\n",
              "      <td>Other</td>\n",
              "      <td>0.347826</td>\n",
              "    </tr>\n",
              "  </tbody>\n",
              "</table>\n",
              "</div>"
            ],
            "text/plain": [
              "    Title  Survived\n",
              "0  Master  0.575000\n",
              "1    Miss  0.702703\n",
              "2      Mr  0.156673\n",
              "3     Mrs  0.793651\n",
              "4   Other  0.347826"
            ]
          },
          "metadata": {
            "tags": []
          },
          "execution_count": 50
        }
      ]
    },
    {
      "cell_type": "code",
      "metadata": {
        "trusted": true,
        "colab": {
          "base_uri": "https://localhost:8080/",
          "height": 302
        },
        "id": "pg30hepJnRXK",
        "outputId": "09ae2648-2f95-4c0f-eaa9-93a05c4bd857"
      },
      "source": [
        "sns.barplot(x='Title', y='Survived', ci=None, data=train)"
      ],
      "execution_count": null,
      "outputs": [
        {
          "output_type": "execute_result",
          "data": {
            "text/plain": [
              "<matplotlib.axes._subplots.AxesSubplot at 0x7f0c8c7743d0>"
            ]
          },
          "metadata": {
            "tags": []
          },
          "execution_count": 51
        },
        {
          "output_type": "display_data",
          "data": {
            "image/png": "[encoded data removed]",
            "text/plain": [
              "<Figure size 432x288 with 1 Axes>"
            ]
          },
          "metadata": {
            "tags": [],
            "needs_background": "light"
          }
        }
      ]
    },
    {
      "cell_type": "markdown",
      "metadata": {
        "_cell_guid": "c55cad9a-7484-47dd-88fd-925042b3f043",
        "_uuid": "3560235f8e1546cf1bf01a05b11df706c2b0f0eb",
        "id": "FnvM9YZ0nRXK"
      },
      "source": [
        "Now, we convert the categorical *Title* values into numeric form."
      ]
    },
    {
      "cell_type": "code",
      "metadata": {
        "_cell_guid": "2b03f4c6-68b9-42cb-b48b-ed443e88f536",
        "_uuid": "68855c261b705fb2bfd8867e89c53af2f8a6e736",
        "scrolled": false,
        "trusted": true,
        "id": "KLAF7jh2nRXL"
      },
      "source": [
        "title_mapping = {\"Mr\": 1, \"Miss\": 2, \"Mrs\": 3, \"Master\": 4, \"Other\": 5}\n",
        "for dataset in train_test_data:\n",
        "    dataset['Title'] = dataset['Title'].map(title_mapping)\n",
        "    dataset['Title'] = dataset['Title'].fillna(0)"
      ],
      "execution_count": null,
      "outputs": []
    },
    {
      "cell_type": "code",
      "metadata": {
        "colab": {
          "base_uri": "https://localhost:8080/",
          "height": 302
        },
        "id": "OAqk6AcNppdB",
        "outputId": "3f2bc2ae-c355-4f60-aaa8-0da959f0386a"
      },
      "source": [
        "# Impute \"Embarked\" missing values with the most common value 'S'\n",
        "\n",
        "sns.countplot(x='Embarked', data=titanic_df)"
      ],
      "execution_count": null,
      "outputs": [
        {
          "output_type": "execute_result",
          "data": {
            "text/plain": [
              "<matplotlib.axes._subplots.AxesSubplot at 0x7f0c8cdbbe90>"
            ]
          },
          "metadata": {
            "tags": []
          },
          "execution_count": 53
        },
        {
          "output_type": "display_data",
          "data": {
            "image/png": "[encoded data removed]",
            "text/plain": [
              "<Figure size 432x288 with 1 Axes>"
            ]
          },
          "metadata": {
            "tags": [],
            "needs_background": "light"
          }
        }
      ]
    },
    {
      "cell_type": "code",
      "metadata": {
        "id": "JqQXFTmdpvkB"
      },
      "source": [
        "titanic_df['Embarked'] = titanic_df['Embarked'].fillna(value='S')"
      ],
      "execution_count": null,
      "outputs": []
    },
    {
      "cell_type": "code",
      "metadata": {
        "colab": {
          "base_uri": "https://localhost:8080/",
          "height": 318
        },
        "id": "BxnmJzs4pvwr",
        "outputId": "ce379091-4c58-4587-f3cd-61d1f4e53f3f"
      },
      "source": [
        "import re\n",
        "\n",
        "titanic_df['Title'] = titanic_df.Name.apply(lambda x: re.search(' ([A-Z][a-z]+)\\.', x).group(1))\n",
        "\n",
        "sns.countplot(x='Title', data=titanic_df);\n",
        "plt.xticks(rotation=45);\n"
      ],
      "execution_count": null,
      "outputs": [
        {
          "output_type": "display_data",
          "data": {
            "image/png": "[encoded data removed]",
            "text/plain": [
              "<Figure size 432x288 with 1 Axes>"
            ]
          },
          "metadata": {
            "tags": [],
            "needs_background": "light"
          }
        }
      ]
    },
    {
      "cell_type": "code",
      "metadata": {
        "colab": {
          "base_uri": "https://localhost:8080/",
          "height": 311
        },
        "id": "f_P9wmKepv4p",
        "outputId": "3b263e1d-6538-486a-a17a-5d3244157703"
      },
      "source": [
        "titanic_df['Title'] = titanic_df['Title'].replace({'Mlle': 'Miss', \n",
        "                                                   'Major': 'Mr', \n",
        "                                                   'Col': 'Mr', \n",
        "                                                   'Sir': 'Mr', \n",
        "                                                   'Don': 'Mr', \n",
        "                                                   'Mme': 'Miss', \n",
        "                                                   'Jonkheer': 'Mr', \n",
        "                                                   'Lady': 'Mrs', \n",
        "                                                   'Capt': 'Mr', \n",
        "                                                   'Countess': 'Mrs', \n",
        "                                                   'Ms': 'Miss', \n",
        "                                                   'Dona': 'Mrs'})\n",
        "\n",
        "sns.countplot(x='Title', data=titanic_df);\n",
        "plt.xticks(rotation=45);"
      ],
      "execution_count": null,
      "outputs": [
        {
          "output_type": "display_data",
          "data": {
            "image/png": "[encoded data removed]",
            "text/plain": [
              "<Figure size 432x288 with 1 Axes>"
            ]
          },
          "metadata": {
            "tags": [],
            "needs_background": "light"
          }
        }
      ]
    },
    {
      "cell_type": "code",
      "metadata": {
        "id": "QUqY1I8zpwBx"
      },
      "source": [
        "# Impute \"Age\" by median of Age of Name's Title group\n",
        "\n",
        "titles = ['Dr', 'Master', 'Miss', 'Mr', 'Mrs', 'Rev']\n",
        "for title in titles:\n",
        "    age_to_impute = titanic_df.groupby('Title')['Age'].median()[titles.index(title)]\n",
        "    titanic_df.loc[(titanic_df['Age'].isnull()) & (titanic_df['Title'] == title), 'Age'] = age_to_impute\n",
        "    titanic_df['Familial'] = (titanic_df['SibSp'] + titanic_df['Parch']) > 0\n",
        "    "
      ],
      "execution_count": null,
      "outputs": []
    },
    {
      "cell_type": "code",
      "metadata": {
        "colab": {
          "base_uri": "https://localhost:8080/"
        },
        "id": "StTMuvaqqGfT",
        "outputId": "43bc53c9-325f-431b-e178-31056844ec2e"
      },
      "source": [
        "medianFare = titanic_df[titanic_df['Pclass'] == 3]['Fare'].median()\n",
        "titanic_df['Fare'] = titanic_df['Fare'].fillna(value = medianFare)\n",
        "\n",
        "custom_bucket_array = np.linspace(0, 80, 17)\n",
        "titanic_df['CatAge'] = pd.cut(titanic_df['Age'], custom_bucket_array)\n",
        "labels, levels = pd.factorize(titanic_df['CatAge'])\n",
        "titanic_df['CatAge'] = labels\n",
        "custom_bucket_array\n"
      ],
      "execution_count": null,
      "outputs": [
        {
          "output_type": "execute_result",
          "data": {
            "text/plain": [
              "array([ 0.,  5., 10., 15., 20., 25., 30., 35., 40., 45., 50., 55., 60.,\n",
              "       65., 70., 75., 80.])"
            ]
          },
          "metadata": {
            "tags": []
          },
          "execution_count": 58
        }
      ]
    },
    {
      "cell_type": "code",
      "metadata": {
        "colab": {
          "base_uri": "https://localhost:8080/"
        },
        "id": "6Luyug_aqGn1",
        "outputId": "e0b72f8b-8872-4037-e62f-13dc9495a62a"
      },
      "source": [
        "custom_bucket_array = np.linspace(0, 520, 53)\n",
        "titanic_df['CatFare'] = pd.cut(titanic_df['Fare'], custom_bucket_array)\n",
        "labels, levels = pd.factorize(titanic_df['CatFare'])\n",
        "titanic_df['CatFare'] = labels\n",
        "custom_bucket_array"
      ],
      "execution_count": null,
      "outputs": [
        {
          "output_type": "execute_result",
          "data": {
            "text/plain": [
              "array([  0.,  10.,  20.,  30.,  40.,  50.,  60.,  70.,  80.,  90., 100.,\n",
              "       110., 120., 130., 140., 150., 160., 170., 180., 190., 200., 210.,\n",
              "       220., 230., 240., 250., 260., 270., 280., 290., 300., 310., 320.,\n",
              "       330., 340., 350., 360., 370., 380., 390., 400., 410., 420., 430.,\n",
              "       440., 450., 460., 470., 480., 490., 500., 510., 520.])"
            ]
          },
          "metadata": {
            "tags": []
          },
          "execution_count": 59
        }
      ]
    },
    {
      "cell_type": "code",
      "metadata": {
        "colab": {
          "base_uri": "https://localhost:8080/"
        },
        "id": "bntjhcI8qHFu",
        "outputId": "98559fa9-8d4d-4cd8-9801-7277511cf71c"
      },
      "source": [
        "titanic_df['SexBool'] = titanic_df['Sex'].map({'male': 0, 'female': 1})\n",
        "titanic_df['EmbarkedInt'] = titanic_df['Embarked'].map({'S': 0, 'C': 1, 'Q':2})\n",
        "titanic_df['TitleInt'] = titanic_df['Title'].map({'Mr':0, 'Mrs':1, 'Miss':2, 'Master':3, 'Rev':4, 'Dr':5})\n",
        "\n",
        "train_df = titanic_df.loc[titanic_df['PassengerId'] <= train_len]\n",
        "test_df = titanic_df.loc[titanic_df['PassengerId'] > train_len].iloc[:, titanic_df.columns != 'Survived']\n",
        "\n",
        "(len(train_df), len(test_df))"
      ],
      "execution_count": null,
      "outputs": [
        {
          "output_type": "execute_result",
          "data": {
            "text/plain": [
              "(891, 418)"
            ]
          },
          "metadata": {
            "tags": []
          },
          "execution_count": 60
        }
      ]
    },
    {
      "cell_type": "code",
      "metadata": {
        "colab": {
          "base_uri": "https://localhost:8080/",
          "height": 693
        },
        "id": "VMpeK_eqqWAK",
        "outputId": "f20103de-871f-4143-db92-b26974bb9401"
      },
      "source": [
        "plt.figure(figsize=(14,12))\n",
        "foo = sns.heatmap(train_df.drop(['PassengerId', 'Name', 'Title', 'Sex', 'Age', 'SibSp', 'Parch', 'Ticket', 'CatFare', 'Cabin', 'Embarked'],axis=1).corr(), vmax=0.6, square=True, annot=True)"
      ],
      "execution_count": null,
      "outputs": [
        {
          "output_type": "display_data",
          "data": {
            "image/png": "[encoded data removed]",
            "text/plain": [
              "<Figure size 1008x864 with 2 Axes>"
            ]
          },
          "metadata": {
            "tags": [],
            "needs_background": "light"
          }
        }
      ]
    },
    {
      "cell_type": "code",
      "metadata": {
        "colab": {
          "base_uri": "https://localhost:8080/",
          "height": 372
        },
        "id": "H996Yj0fqWOM",
        "outputId": "76d736c0-4938-40a3-d8b0-c1d5b5ddca66"
      },
      "source": [
        "fig, axs = plt.subplots(ncols=2, figsize=(15,5))\n",
        "axs[0].set_title('female')\n",
        "sns.countplot(x='Survived', hue='Pclass', data=titanic_df.loc[titanic_df['Sex'] == 'female'], ax=axs[0])\n",
        "axs[1].set_title('male')\n",
        "sns.countplot(x='Survived', hue='Pclass', data=titanic_df.loc[titanic_df['Sex'] == 'male'], ax=axs[1])"
      ],
      "execution_count": null,
      "outputs": [
        {
          "output_type": "execute_result",
          "data": {
            "text/plain": [
              "<matplotlib.axes._subplots.AxesSubplot at 0x7f0c8c3f2a10>"
            ]
          },
          "metadata": {
            "tags": []
          },
          "execution_count": 62
        },
        {
          "output_type": "display_data",
          "data": {
            "image/png": "[encoded data removed]",
            "text/plain": [
              "<Figure size 1080x360 with 2 Axes>"
            ]
          },
          "metadata": {
            "tags": [],
            "needs_background": "light"
          }
        }
      ]
    },
    {
      "cell_type": "code",
      "metadata": {
        "colab": {
          "base_uri": "https://localhost:8080/",
          "height": 302
        },
        "id": "5BGyxzsxqsFI",
        "outputId": "e258ddbc-2692-4342-8e8e-1a3bdd552448"
      },
      "source": [
        "# The Puzzle\n",
        "sns.countplot(x='Survived', hue='Sex', data=titanic_df)\n",
        "\n"
      ],
      "execution_count": null,
      "outputs": [
        {
          "output_type": "execute_result",
          "data": {
            "text/plain": [
              "<matplotlib.axes._subplots.AxesSubplot at 0x7f0c8c38df10>"
            ]
          },
          "metadata": {
            "tags": []
          },
          "execution_count": 63
        },
        {
          "output_type": "display_data",
          "data": {
            "image/png": "[encoded data removed]",
            "text/plain": [
              "<Figure size 432x288 with 1 Axes>"
            ]
          },
          "metadata": {
            "tags": [],
            "needs_background": "light"
          }
        }
      ]
    },
    {
      "cell_type": "code",
      "metadata": {
        "colab": {
          "base_uri": "https://localhost:8080/",
          "height": 372
        },
        "id": "UpQjPsfJq3Q0",
        "outputId": "17bdfb84-9912-4f28-8a32-0f801d6f82b3"
      },
      "source": [
        "fig, axs = plt.subplots(ncols=2, figsize=(15,5))\n",
        "axs[0].set_title('female')\n",
        "sns.countplot(x='CatAge', hue='Survived', data=train_df.loc[train_df['Sex'] == 'female'], ax=axs[0])\n",
        "axs[1].set_title('male')\n",
        "sns.countplot(x='CatAge', hue='Survived', data=train_df.loc[train_df['Sex'] == 'male'], ax=axs[1])"
      ],
      "execution_count": null,
      "outputs": [
        {
          "output_type": "execute_result",
          "data": {
            "text/plain": [
              "<matplotlib.axes._subplots.AxesSubplot at 0x7f0c8c2bf9d0>"
            ]
          },
          "metadata": {
            "tags": []
          },
          "execution_count": 64
        },
        {
          "output_type": "display_data",
          "data": {
            "image/png": "[encoded data removed]",
            "text/plain": [
              "<Figure size 1080x360 with 2 Axes>"
            ]
          },
          "metadata": {
            "tags": [],
            "needs_background": "light"
          }
        }
      ]
    },
    {
      "cell_type": "code",
      "metadata": {
        "colab": {
          "base_uri": "https://localhost:8080/",
          "height": 372
        },
        "id": "TTrknU2qq4ZK",
        "outputId": "d4a0faa0-80d8-47f1-e0dc-ba6a41d827c9"
      },
      "source": [
        "fig, axs = plt.subplots(ncols=2, figsize=(15,5))\n",
        "axs[0].set_title('female')\n",
        "sns.countplot(x='Familial', hue='Survived', data=train_df.loc[train_df['Sex'] == 'female'], ax=axs[0])\n",
        "axs[1].set_title('male')\n",
        "sns.countplot(x='Familial', hue='Survived', data=train_df.loc[train_df['Sex'] == 'male'], ax=axs[1])"
      ],
      "execution_count": null,
      "outputs": [
        {
          "output_type": "execute_result",
          "data": {
            "text/plain": [
              "<matplotlib.axes._subplots.AxesSubplot at 0x7f0c8c2fda90>"
            ]
          },
          "metadata": {
            "tags": []
          },
          "execution_count": 65
        },
        {
          "output_type": "display_data",
          "data": {
            "image/png": "[encoded data removed]",
            "text/plain": [
              "<Figure size 1080x360 with 2 Axes>"
            ]
          },
          "metadata": {
            "tags": [],
            "needs_background": "light"
          }
        }
      ]
    },
    {
      "cell_type": "code",
      "metadata": {
        "_cell_guid": "784a9133-1e88-4fcb-a1dc-e295e4b8ade2",
        "_uuid": "9eb4e3aeecdc072744751529630ebc2a402fc03f",
        "trusted": true,
        "colab": {
          "base_uri": "https://localhost:8080/",
          "height": 204
        },
        "id": "hUAW2hNQnRXL",
        "outputId": "b08c6707-df74-4ec4-8536-0248f494b6f9"
      },
      "source": [
        "train.head()"
      ],
      "execution_count": null,
      "outputs": [
        {
          "output_type": "execute_result",
          "data": {
            "text/html": [
              "<div>\n",
              "<style scoped>\n",
              "    .dataframe tbody tr th:only-of-type {\n",
              "        vertical-align: middle;\n",
              "    }\n",
              "\n",
              "    .dataframe tbody tr th {\n",
              "        vertical-align: top;\n",
              "    }\n",
              "\n",
              "    .dataframe thead th {\n",
              "        text-align: right;\n",
              "    }\n",
              "</style>\n",
              "<table border=\"1\" class=\"dataframe\">\n",
              "  <thead>\n",
              "    <tr style=\"text-align: right;\">\n",
              "      <th></th>\n",
              "      <th>PassengerId</th>\n",
              "      <th>Survived</th>\n",
              "      <th>Pclass</th>\n",
              "      <th>Name</th>\n",
              "      <th>Sex</th>\n",
              "      <th>Age</th>\n",
              "      <th>SibSp</th>\n",
              "      <th>Parch</th>\n",
              "      <th>Ticket</th>\n",
              "      <th>Fare</th>\n",
              "      <th>Cabin</th>\n",
              "      <th>Embarked</th>\n",
              "      <th>Title</th>\n",
              "    </tr>\n",
              "  </thead>\n",
              "  <tbody>\n",
              "    <tr>\n",
              "      <th>0</th>\n",
              "      <td>1</td>\n",
              "      <td>0</td>\n",
              "      <td>3</td>\n",
              "      <td>Braund, Mr. Owen Harris</td>\n",
              "      <td>male</td>\n",
              "      <td>22.0</td>\n",
              "      <td>1</td>\n",
              "      <td>0</td>\n",
              "      <td>A/5 21171</td>\n",
              "      <td>7.2500</td>\n",
              "      <td>NaN</td>\n",
              "      <td>S</td>\n",
              "      <td>1</td>\n",
              "    </tr>\n",
              "    <tr>\n",
              "      <th>1</th>\n",
              "      <td>2</td>\n",
              "      <td>1</td>\n",
              "      <td>1</td>\n",
              "      <td>Cumings, Mrs. John Bradley (Florence Briggs Th...</td>\n",
              "      <td>female</td>\n",
              "      <td>38.0</td>\n",
              "      <td>1</td>\n",
              "      <td>0</td>\n",
              "      <td>PC 17599</td>\n",
              "      <td>71.2833</td>\n",
              "      <td>C85</td>\n",
              "      <td>C</td>\n",
              "      <td>3</td>\n",
              "    </tr>\n",
              "    <tr>\n",
              "      <th>2</th>\n",
              "      <td>3</td>\n",
              "      <td>1</td>\n",
              "      <td>3</td>\n",
              "      <td>Heikkinen, Miss. Laina</td>\n",
              "      <td>female</td>\n",
              "      <td>26.0</td>\n",
              "      <td>0</td>\n",
              "      <td>0</td>\n",
              "      <td>STON/O2. 3101282</td>\n",
              "      <td>7.9250</td>\n",
              "      <td>NaN</td>\n",
              "      <td>S</td>\n",
              "      <td>2</td>\n",
              "    </tr>\n",
              "    <tr>\n",
              "      <th>3</th>\n",
              "      <td>4</td>\n",
              "      <td>1</td>\n",
              "      <td>1</td>\n",
              "      <td>Futrelle, Mrs. Jacques Heath (Lily May Peel)</td>\n",
              "      <td>female</td>\n",
              "      <td>35.0</td>\n",
              "      <td>1</td>\n",
              "      <td>0</td>\n",
              "      <td>113803</td>\n",
              "      <td>53.1000</td>\n",
              "      <td>C123</td>\n",
              "      <td>S</td>\n",
              "      <td>3</td>\n",
              "    </tr>\n",
              "    <tr>\n",
              "      <th>4</th>\n",
              "      <td>5</td>\n",
              "      <td>0</td>\n",
              "      <td>3</td>\n",
              "      <td>Allen, Mr. William Henry</td>\n",
              "      <td>male</td>\n",
              "      <td>35.0</td>\n",
              "      <td>0</td>\n",
              "      <td>0</td>\n",
              "      <td>373450</td>\n",
              "      <td>8.0500</td>\n",
              "      <td>NaN</td>\n",
              "      <td>S</td>\n",
              "      <td>1</td>\n",
              "    </tr>\n",
              "  </tbody>\n",
              "</table>\n",
              "</div>"
            ],
            "text/plain": [
              "   PassengerId  Survived  Pclass  ... Cabin Embarked  Title\n",
              "0            1         0       3  ...   NaN        S      1\n",
              "1            2         1       1  ...   C85        C      3\n",
              "2            3         1       3  ...   NaN        S      2\n",
              "3            4         1       1  ...  C123        S      3\n",
              "4            5         0       3  ...   NaN        S      1\n",
              "\n",
              "[5 rows x 13 columns]"
            ]
          },
          "metadata": {
            "tags": []
          },
          "execution_count": 66
        }
      ]
    },
    {
      "cell_type": "markdown",
      "metadata": {
        "_cell_guid": "84c6e359-0c42-45f1-a02b-95cd378569c5",
        "_uuid": "b387c9a34617e40a18e864478e8a1f27ff8d16d4",
        "id": "jvtUTJnTnRXL"
      },
      "source": [
        "### 2) Sex Feature\n",
        "> We convert the categorical value of *Sex* into numeric. We represent **0** as **female** and **1** as **male**."
      ]
    },
    {
      "cell_type": "code",
      "metadata": {
        "_cell_guid": "9a894d3c-a231-4086-a913-983095991db4",
        "_uuid": "6f411eedcf32587d4a32516a1468118d05b8651e",
        "trusted": true,
        "id": "_VdIY2xgnRXM"
      },
      "source": [
        "for dataset in train_test_data:\n",
        "    dataset['Sex'] = dataset['Sex'].map( {'female': 1, 'male': 0} ).astype(int)"
      ],
      "execution_count": null,
      "outputs": []
    },
    {
      "cell_type": "code",
      "metadata": {
        "_cell_guid": "97140289-3b80-47b3-af17-e8722edbe561",
        "_uuid": "601cfeccb49d385da5b95d475368a7c2381fa50f",
        "trusted": true,
        "colab": {
          "base_uri": "https://localhost:8080/",
          "height": 204
        },
        "id": "SiCVd5u0nRXM",
        "outputId": "03582875-f770-4ed3-f5d5-a13e6783b505"
      },
      "source": [
        "train.head()"
      ],
      "execution_count": null,
      "outputs": [
        {
          "output_type": "execute_result",
          "data": {
            "text/html": [
              "<div>\n",
              "<style scoped>\n",
              "    .dataframe tbody tr th:only-of-type {\n",
              "        vertical-align: middle;\n",
              "    }\n",
              "\n",
              "    .dataframe tbody tr th {\n",
              "        vertical-align: top;\n",
              "    }\n",
              "\n",
              "    .dataframe thead th {\n",
              "        text-align: right;\n",
              "    }\n",
              "</style>\n",
              "<table border=\"1\" class=\"dataframe\">\n",
              "  <thead>\n",
              "    <tr style=\"text-align: right;\">\n",
              "      <th></th>\n",
              "      <th>PassengerId</th>\n",
              "      <th>Survived</th>\n",
              "      <th>Pclass</th>\n",
              "      <th>Name</th>\n",
              "      <th>Sex</th>\n",
              "      <th>Age</th>\n",
              "      <th>SibSp</th>\n",
              "      <th>Parch</th>\n",
              "      <th>Ticket</th>\n",
              "      <th>Fare</th>\n",
              "      <th>Cabin</th>\n",
              "      <th>Embarked</th>\n",
              "      <th>Title</th>\n",
              "    </tr>\n",
              "  </thead>\n",
              "  <tbody>\n",
              "    <tr>\n",
              "      <th>0</th>\n",
              "      <td>1</td>\n",
              "      <td>0</td>\n",
              "      <td>3</td>\n",
              "      <td>Braund, Mr. Owen Harris</td>\n",
              "      <td>0</td>\n",
              "      <td>22.0</td>\n",
              "      <td>1</td>\n",
              "      <td>0</td>\n",
              "      <td>A/5 21171</td>\n",
              "      <td>7.2500</td>\n",
              "      <td>NaN</td>\n",
              "      <td>S</td>\n",
              "      <td>1</td>\n",
              "    </tr>\n",
              "    <tr>\n",
              "      <th>1</th>\n",
              "      <td>2</td>\n",
              "      <td>1</td>\n",
              "      <td>1</td>\n",
              "      <td>Cumings, Mrs. John Bradley (Florence Briggs Th...</td>\n",
              "      <td>1</td>\n",
              "      <td>38.0</td>\n",
              "      <td>1</td>\n",
              "      <td>0</td>\n",
              "      <td>PC 17599</td>\n",
              "      <td>71.2833</td>\n",
              "      <td>C85</td>\n",
              "      <td>C</td>\n",
              "      <td>3</td>\n",
              "    </tr>\n",
              "    <tr>\n",
              "      <th>2</th>\n",
              "      <td>3</td>\n",
              "      <td>1</td>\n",
              "      <td>3</td>\n",
              "      <td>Heikkinen, Miss. Laina</td>\n",
              "      <td>1</td>\n",
              "      <td>26.0</td>\n",
              "      <td>0</td>\n",
              "      <td>0</td>\n",
              "      <td>STON/O2. 3101282</td>\n",
              "      <td>7.9250</td>\n",
              "      <td>NaN</td>\n",
              "      <td>S</td>\n",
              "      <td>2</td>\n",
              "    </tr>\n",
              "    <tr>\n",
              "      <th>3</th>\n",
              "      <td>4</td>\n",
              "      <td>1</td>\n",
              "      <td>1</td>\n",
              "      <td>Futrelle, Mrs. Jacques Heath (Lily May Peel)</td>\n",
              "      <td>1</td>\n",
              "      <td>35.0</td>\n",
              "      <td>1</td>\n",
              "      <td>0</td>\n",
              "      <td>113803</td>\n",
              "      <td>53.1000</td>\n",
              "      <td>C123</td>\n",
              "      <td>S</td>\n",
              "      <td>3</td>\n",
              "    </tr>\n",
              "    <tr>\n",
              "      <th>4</th>\n",
              "      <td>5</td>\n",
              "      <td>0</td>\n",
              "      <td>3</td>\n",
              "      <td>Allen, Mr. William Henry</td>\n",
              "      <td>0</td>\n",
              "      <td>35.0</td>\n",
              "      <td>0</td>\n",
              "      <td>0</td>\n",
              "      <td>373450</td>\n",
              "      <td>8.0500</td>\n",
              "      <td>NaN</td>\n",
              "      <td>S</td>\n",
              "      <td>1</td>\n",
              "    </tr>\n",
              "  </tbody>\n",
              "</table>\n",
              "</div>"
            ],
            "text/plain": [
              "   PassengerId  Survived  Pclass  ... Cabin  Embarked  Title\n",
              "0            1         0       3  ...   NaN         S      1\n",
              "1            2         1       1  ...   C85         C      3\n",
              "2            3         1       3  ...   NaN         S      2\n",
              "3            4         1       1  ...  C123         S      3\n",
              "4            5         0       3  ...   NaN         S      1\n",
              "\n",
              "[5 rows x 13 columns]"
            ]
          },
          "metadata": {
            "tags": []
          },
          "execution_count": 68
        }
      ]
    },
    {
      "cell_type": "markdown",
      "metadata": {
        "_cell_guid": "2f71e07e-2ccc-4243-a886-f27810301783",
        "_uuid": "317dea4b468b8562be2f0bc14b80dc29c3f630ed",
        "id": "L3rRr6rSnRXM"
      },
      "source": [
        "### 3) Embarked Feature\n",
        "> There are empty values for some rows for *Embarked* column. The empty values are represented as \"nan\" in below list."
      ]
    },
    {
      "cell_type": "code",
      "metadata": {
        "_cell_guid": "fa16c3ff-4a6c-477c-bc76-3124d535613d",
        "_uuid": "0f0d5c14263b9b5f61e55ac8eac5bbbb26675786",
        "trusted": true,
        "colab": {
          "base_uri": "https://localhost:8080/"
        },
        "id": "ZMC8FRZanRXN",
        "outputId": "e2584ea2-3744-48d3-938f-2ab16d15b546"
      },
      "source": [
        "train.Embarked.value_counts()"
      ],
      "execution_count": null,
      "outputs": [
        {
          "output_type": "execute_result",
          "data": {
            "text/plain": [
              "S    644\n",
              "C    168\n",
              "Q     77\n",
              "Name: Embarked, dtype: int64"
            ]
          },
          "metadata": {
            "tags": []
          },
          "execution_count": 69
        }
      ]
    },
    {
      "cell_type": "code",
      "metadata": {
        "_cell_guid": "f3b74da1-6418-4213-aaa1-efb6dc162580",
        "_uuid": "dd11044ef91ce8b686c4688f301aa6d4abae1476",
        "trusted": true,
        "id": "pm_DN2k9nRXN"
      },
      "source": [
        "for dataset in train_test_data:\n",
        "    dataset['Embarked'] = dataset['Embarked'].fillna('S')"
      ],
      "execution_count": null,
      "outputs": []
    },
    {
      "cell_type": "code",
      "metadata": {
        "_cell_guid": "30a61312-6373-4b92-8c3c-1ab96620c757",
        "_uuid": "dadc45a6f68494a509092cbbe9f29cf3b3432571",
        "trusted": true,
        "colab": {
          "base_uri": "https://localhost:8080/",
          "height": 204
        },
        "id": "ONyQpd0wnRXO",
        "outputId": "4f0c0acc-5762-4cf6-904e-a78a9055eda5"
      },
      "source": [
        "train.head()"
      ],
      "execution_count": null,
      "outputs": [
        {
          "output_type": "execute_result",
          "data": {
            "text/html": [
              "<div>\n",
              "<style scoped>\n",
              "    .dataframe tbody tr th:only-of-type {\n",
              "        vertical-align: middle;\n",
              "    }\n",
              "\n",
              "    .dataframe tbody tr th {\n",
              "        vertical-align: top;\n",
              "    }\n",
              "\n",
              "    .dataframe thead th {\n",
              "        text-align: right;\n",
              "    }\n",
              "</style>\n",
              "<table border=\"1\" class=\"dataframe\">\n",
              "  <thead>\n",
              "    <tr style=\"text-align: right;\">\n",
              "      <th></th>\n",
              "      <th>PassengerId</th>\n",
              "      <th>Survived</th>\n",
              "      <th>Pclass</th>\n",
              "      <th>Name</th>\n",
              "      <th>Sex</th>\n",
              "      <th>Age</th>\n",
              "      <th>SibSp</th>\n",
              "      <th>Parch</th>\n",
              "      <th>Ticket</th>\n",
              "      <th>Fare</th>\n",
              "      <th>Cabin</th>\n",
              "      <th>Embarked</th>\n",
              "      <th>Title</th>\n",
              "    </tr>\n",
              "  </thead>\n",
              "  <tbody>\n",
              "    <tr>\n",
              "      <th>0</th>\n",
              "      <td>1</td>\n",
              "      <td>0</td>\n",
              "      <td>3</td>\n",
              "      <td>Braund, Mr. Owen Harris</td>\n",
              "      <td>0</td>\n",
              "      <td>22.0</td>\n",
              "      <td>1</td>\n",
              "      <td>0</td>\n",
              "      <td>A/5 21171</td>\n",
              "      <td>7.2500</td>\n",
              "      <td>NaN</td>\n",
              "      <td>S</td>\n",
              "      <td>1</td>\n",
              "    </tr>\n",
              "    <tr>\n",
              "      <th>1</th>\n",
              "      <td>2</td>\n",
              "      <td>1</td>\n",
              "      <td>1</td>\n",
              "      <td>Cumings, Mrs. John Bradley (Florence Briggs Th...</td>\n",
              "      <td>1</td>\n",
              "      <td>38.0</td>\n",
              "      <td>1</td>\n",
              "      <td>0</td>\n",
              "      <td>PC 17599</td>\n",
              "      <td>71.2833</td>\n",
              "      <td>C85</td>\n",
              "      <td>C</td>\n",
              "      <td>3</td>\n",
              "    </tr>\n",
              "    <tr>\n",
              "      <th>2</th>\n",
              "      <td>3</td>\n",
              "      <td>1</td>\n",
              "      <td>3</td>\n",
              "      <td>Heikkinen, Miss. Laina</td>\n",
              "      <td>1</td>\n",
              "      <td>26.0</td>\n",
              "      <td>0</td>\n",
              "      <td>0</td>\n",
              "      <td>STON/O2. 3101282</td>\n",
              "      <td>7.9250</td>\n",
              "      <td>NaN</td>\n",
              "      <td>S</td>\n",
              "      <td>2</td>\n",
              "    </tr>\n",
              "    <tr>\n",
              "      <th>3</th>\n",
              "      <td>4</td>\n",
              "      <td>1</td>\n",
              "      <td>1</td>\n",
              "      <td>Futrelle, Mrs. Jacques Heath (Lily May Peel)</td>\n",
              "      <td>1</td>\n",
              "      <td>35.0</td>\n",
              "      <td>1</td>\n",
              "      <td>0</td>\n",
              "      <td>113803</td>\n",
              "      <td>53.1000</td>\n",
              "      <td>C123</td>\n",
              "      <td>S</td>\n",
              "      <td>3</td>\n",
              "    </tr>\n",
              "    <tr>\n",
              "      <th>4</th>\n",
              "      <td>5</td>\n",
              "      <td>0</td>\n",
              "      <td>3</td>\n",
              "      <td>Allen, Mr. William Henry</td>\n",
              "      <td>0</td>\n",
              "      <td>35.0</td>\n",
              "      <td>0</td>\n",
              "      <td>0</td>\n",
              "      <td>373450</td>\n",
              "      <td>8.0500</td>\n",
              "      <td>NaN</td>\n",
              "      <td>S</td>\n",
              "      <td>1</td>\n",
              "    </tr>\n",
              "  </tbody>\n",
              "</table>\n",
              "</div>"
            ],
            "text/plain": [
              "   PassengerId  Survived  Pclass  ... Cabin  Embarked  Title\n",
              "0            1         0       3  ...   NaN         S      1\n",
              "1            2         1       1  ...   C85         C      3\n",
              "2            3         1       3  ...   NaN         S      2\n",
              "3            4         1       1  ...  C123         S      3\n",
              "4            5         0       3  ...   NaN         S      1\n",
              "\n",
              "[5 rows x 13 columns]"
            ]
          },
          "metadata": {
            "tags": []
          },
          "execution_count": 71
        }
      ]
    },
    {
      "cell_type": "code",
      "metadata": {
        "_cell_guid": "cf4a8a17-0b60-4a7e-9e29-3559010cefdc",
        "_uuid": "85a04185f2cda70415d8b42310da0c4480d414cd",
        "trusted": true,
        "id": "o1xi6O6VnRXO"
      },
      "source": [
        "for dataset in train_test_data:\n",
        "    #print(dataset.Embarked.unique())\n",
        "    dataset['Embarked'] = dataset['Embarked'].map( {'S': 0, 'C': 1, 'Q': 2} ).astype(int)"
      ],
      "execution_count": null,
      "outputs": []
    },
    {
      "cell_type": "code",
      "metadata": {
        "_cell_guid": "b9af8b8e-c49b-4153-af2a-f8ce8154d480",
        "_uuid": "d9775bdf8ffeb053308940ec511453238f5d0e5d",
        "trusted": true,
        "colab": {
          "base_uri": "https://localhost:8080/",
          "height": 204
        },
        "id": "enCTfGpxnRXP",
        "outputId": "573c64e2-54c9-48b8-9332-50bfddbab2b0"
      },
      "source": [
        "train.head()"
      ],
      "execution_count": null,
      "outputs": [
        {
          "output_type": "execute_result",
          "data": {
            "text/html": [
              "<div>\n",
              "<style scoped>\n",
              "    .dataframe tbody tr th:only-of-type {\n",
              "        vertical-align: middle;\n",
              "    }\n",
              "\n",
              "    .dataframe tbody tr th {\n",
              "        vertical-align: top;\n",
              "    }\n",
              "\n",
              "    .dataframe thead th {\n",
              "        text-align: right;\n",
              "    }\n",
              "</style>\n",
              "<table border=\"1\" class=\"dataframe\">\n",
              "  <thead>\n",
              "    <tr style=\"text-align: right;\">\n",
              "      <th></th>\n",
              "      <th>PassengerId</th>\n",
              "      <th>Survived</th>\n",
              "      <th>Pclass</th>\n",
              "      <th>Name</th>\n",
              "      <th>Sex</th>\n",
              "      <th>Age</th>\n",
              "      <th>SibSp</th>\n",
              "      <th>Parch</th>\n",
              "      <th>Ticket</th>\n",
              "      <th>Fare</th>\n",
              "      <th>Cabin</th>\n",
              "      <th>Embarked</th>\n",
              "      <th>Title</th>\n",
              "    </tr>\n",
              "  </thead>\n",
              "  <tbody>\n",
              "    <tr>\n",
              "      <th>0</th>\n",
              "      <td>1</td>\n",
              "      <td>0</td>\n",
              "      <td>3</td>\n",
              "      <td>Braund, Mr. Owen Harris</td>\n",
              "      <td>0</td>\n",
              "      <td>22.0</td>\n",
              "      <td>1</td>\n",
              "      <td>0</td>\n",
              "      <td>A/5 21171</td>\n",
              "      <td>7.2500</td>\n",
              "      <td>NaN</td>\n",
              "      <td>0</td>\n",
              "      <td>1</td>\n",
              "    </tr>\n",
              "    <tr>\n",
              "      <th>1</th>\n",
              "      <td>2</td>\n",
              "      <td>1</td>\n",
              "      <td>1</td>\n",
              "      <td>Cumings, Mrs. John Bradley (Florence Briggs Th...</td>\n",
              "      <td>1</td>\n",
              "      <td>38.0</td>\n",
              "      <td>1</td>\n",
              "      <td>0</td>\n",
              "      <td>PC 17599</td>\n",
              "      <td>71.2833</td>\n",
              "      <td>C85</td>\n",
              "      <td>1</td>\n",
              "      <td>3</td>\n",
              "    </tr>\n",
              "    <tr>\n",
              "      <th>2</th>\n",
              "      <td>3</td>\n",
              "      <td>1</td>\n",
              "      <td>3</td>\n",
              "      <td>Heikkinen, Miss. Laina</td>\n",
              "      <td>1</td>\n",
              "      <td>26.0</td>\n",
              "      <td>0</td>\n",
              "      <td>0</td>\n",
              "      <td>STON/O2. 3101282</td>\n",
              "      <td>7.9250</td>\n",
              "      <td>NaN</td>\n",
              "      <td>0</td>\n",
              "      <td>2</td>\n",
              "    </tr>\n",
              "    <tr>\n",
              "      <th>3</th>\n",
              "      <td>4</td>\n",
              "      <td>1</td>\n",
              "      <td>1</td>\n",
              "      <td>Futrelle, Mrs. Jacques Heath (Lily May Peel)</td>\n",
              "      <td>1</td>\n",
              "      <td>35.0</td>\n",
              "      <td>1</td>\n",
              "      <td>0</td>\n",
              "      <td>113803</td>\n",
              "      <td>53.1000</td>\n",
              "      <td>C123</td>\n",
              "      <td>0</td>\n",
              "      <td>3</td>\n",
              "    </tr>\n",
              "    <tr>\n",
              "      <th>4</th>\n",
              "      <td>5</td>\n",
              "      <td>0</td>\n",
              "      <td>3</td>\n",
              "      <td>Allen, Mr. William Henry</td>\n",
              "      <td>0</td>\n",
              "      <td>35.0</td>\n",
              "      <td>0</td>\n",
              "      <td>0</td>\n",
              "      <td>373450</td>\n",
              "      <td>8.0500</td>\n",
              "      <td>NaN</td>\n",
              "      <td>0</td>\n",
              "      <td>1</td>\n",
              "    </tr>\n",
              "  </tbody>\n",
              "</table>\n",
              "</div>"
            ],
            "text/plain": [
              "   PassengerId  Survived  Pclass  ... Cabin  Embarked  Title\n",
              "0            1         0       3  ...   NaN         0      1\n",
              "1            2         1       1  ...   C85         1      3\n",
              "2            3         1       3  ...   NaN         0      2\n",
              "3            4         1       1  ...  C123         0      3\n",
              "4            5         0       3  ...   NaN         0      1\n",
              "\n",
              "[5 rows x 13 columns]"
            ]
          },
          "metadata": {
            "tags": []
          },
          "execution_count": 73
        }
      ]
    },
    {
      "cell_type": "markdown",
      "metadata": {
        "_cell_guid": "271dc54c-dfb3-48b8-adde-42453174571c",
        "_uuid": "6927d280668356a48244e98dec5a390d6440d1a6",
        "id": "1Agdml57nRXP"
      },
      "source": [
        "### 4) Age Feature\n",
        "\n",
        "> We first fill the NULL values of *Age* with a random number between (mean_age - std_age) and (mean_age + std_age). <br>\n",
        "> We then create a new column named *AgeBand*. This categorizes age into 5 different age range."
      ]
    },
    {
      "cell_type": "code",
      "metadata": {
        "_cell_guid": "1516efcc-9d6b-4115-a2f3-5f760b203371",
        "_uuid": "706fb1030c6bb52c45fd622849bf5daf0b5fa793",
        "trusted": true,
        "colab": {
          "base_uri": "https://localhost:8080/"
        },
        "id": "3gLemfBTnRXQ",
        "outputId": "56bb1b3b-8047-4270-c2a6-29f1c6950ee5"
      },
      "source": [
        "for dataset in train_test_data:\n",
        "    age_avg = dataset['Age'].mean()\n",
        "    age_std = dataset['Age'].std()\n",
        "    age_null_count = dataset['Age'].isnull().sum()\n",
        "    \n",
        "    age_null_random_list = np.random.randint(age_avg - age_std, age_avg + age_std, size=age_null_count)\n",
        "    dataset['Age'][np.isnan(dataset['Age'])] = age_null_random_list\n",
        "    dataset['Age'] = dataset['Age'].astype(int)\n",
        "    \n",
        "train['AgeBand'] = pd.cut(train['Age'], 5)\n",
        "\n",
        "print (train[['AgeBand', 'Survived']].groupby(['AgeBand'], as_index=False).mean())"
      ],
      "execution_count": null,
      "outputs": [
        {
          "output_type": "stream",
          "text": [
            "         AgeBand  Survived\n",
            "0  (-0.08, 16.0]  0.517857\n",
            "1   (16.0, 32.0]  0.363229\n",
            "2   (32.0, 48.0]  0.359684\n",
            "3   (48.0, 64.0]  0.434783\n",
            "4   (64.0, 80.0]  0.090909\n"
          ],
          "name": "stdout"
        }
      ]
    },
    {
      "cell_type": "code",
      "metadata": {
        "_cell_guid": "63e5e575-379e-44ec-8449-c2c72538dc16",
        "_uuid": "16e72857d0ccd8172ac006dfde55acbf72743126",
        "trusted": true,
        "colab": {
          "base_uri": "https://localhost:8080/",
          "height": 204
        },
        "id": "docQc9JDnRXQ",
        "outputId": "a8326dc5-3b1e-462e-b00e-d4b512efa0f8"
      },
      "source": [
        "train.head()"
      ],
      "execution_count": null,
      "outputs": [
        {
          "output_type": "execute_result",
          "data": {
            "text/html": [
              "<div>\n",
              "<style scoped>\n",
              "    .dataframe tbody tr th:only-of-type {\n",
              "        vertical-align: middle;\n",
              "    }\n",
              "\n",
              "    .dataframe tbody tr th {\n",
              "        vertical-align: top;\n",
              "    }\n",
              "\n",
              "    .dataframe thead th {\n",
              "        text-align: right;\n",
              "    }\n",
              "</style>\n",
              "<table border=\"1\" class=\"dataframe\">\n",
              "  <thead>\n",
              "    <tr style=\"text-align: right;\">\n",
              "      <th></th>\n",
              "      <th>PassengerId</th>\n",
              "      <th>Survived</th>\n",
              "      <th>Pclass</th>\n",
              "      <th>Name</th>\n",
              "      <th>Sex</th>\n",
              "      <th>Age</th>\n",
              "      <th>SibSp</th>\n",
              "      <th>Parch</th>\n",
              "      <th>Ticket</th>\n",
              "      <th>Fare</th>\n",
              "      <th>Cabin</th>\n",
              "      <th>Embarked</th>\n",
              "      <th>Title</th>\n",
              "      <th>AgeBand</th>\n",
              "    </tr>\n",
              "  </thead>\n",
              "  <tbody>\n",
              "    <tr>\n",
              "      <th>0</th>\n",
              "      <td>1</td>\n",
              "      <td>0</td>\n",
              "      <td>3</td>\n",
              "      <td>Braund, Mr. Owen Harris</td>\n",
              "      <td>0</td>\n",
              "      <td>22</td>\n",
              "      <td>1</td>\n",
              "      <td>0</td>\n",
              "      <td>A/5 21171</td>\n",
              "      <td>7.2500</td>\n",
              "      <td>NaN</td>\n",
              "      <td>0</td>\n",
              "      <td>1</td>\n",
              "      <td>(16.0, 32.0]</td>\n",
              "    </tr>\n",
              "    <tr>\n",
              "      <th>1</th>\n",
              "      <td>2</td>\n",
              "      <td>1</td>\n",
              "      <td>1</td>\n",
              "      <td>Cumings, Mrs. John Bradley (Florence Briggs Th...</td>\n",
              "      <td>1</td>\n",
              "      <td>38</td>\n",
              "      <td>1</td>\n",
              "      <td>0</td>\n",
              "      <td>PC 17599</td>\n",
              "      <td>71.2833</td>\n",
              "      <td>C85</td>\n",
              "      <td>1</td>\n",
              "      <td>3</td>\n",
              "      <td>(32.0, 48.0]</td>\n",
              "    </tr>\n",
              "    <tr>\n",
              "      <th>2</th>\n",
              "      <td>3</td>\n",
              "      <td>1</td>\n",
              "      <td>3</td>\n",
              "      <td>Heikkinen, Miss. Laina</td>\n",
              "      <td>1</td>\n",
              "      <td>26</td>\n",
              "      <td>0</td>\n",
              "      <td>0</td>\n",
              "      <td>STON/O2. 3101282</td>\n",
              "      <td>7.9250</td>\n",
              "      <td>NaN</td>\n",
              "      <td>0</td>\n",
              "      <td>2</td>\n",
              "      <td>(16.0, 32.0]</td>\n",
              "    </tr>\n",
              "    <tr>\n",
              "      <th>3</th>\n",
              "      <td>4</td>\n",
              "      <td>1</td>\n",
              "      <td>1</td>\n",
              "      <td>Futrelle, Mrs. Jacques Heath (Lily May Peel)</td>\n",
              "      <td>1</td>\n",
              "      <td>35</td>\n",
              "      <td>1</td>\n",
              "      <td>0</td>\n",
              "      <td>113803</td>\n",
              "      <td>53.1000</td>\n",
              "      <td>C123</td>\n",
              "      <td>0</td>\n",
              "      <td>3</td>\n",
              "      <td>(32.0, 48.0]</td>\n",
              "    </tr>\n",
              "    <tr>\n",
              "      <th>4</th>\n",
              "      <td>5</td>\n",
              "      <td>0</td>\n",
              "      <td>3</td>\n",
              "      <td>Allen, Mr. William Henry</td>\n",
              "      <td>0</td>\n",
              "      <td>35</td>\n",
              "      <td>0</td>\n",
              "      <td>0</td>\n",
              "      <td>373450</td>\n",
              "      <td>8.0500</td>\n",
              "      <td>NaN</td>\n",
              "      <td>0</td>\n",
              "      <td>1</td>\n",
              "      <td>(32.0, 48.0]</td>\n",
              "    </tr>\n",
              "  </tbody>\n",
              "</table>\n",
              "</div>"
            ],
            "text/plain": [
              "   PassengerId  Survived  Pclass  ... Embarked  Title       AgeBand\n",
              "0            1         0       3  ...        0      1  (16.0, 32.0]\n",
              "1            2         1       1  ...        1      3  (32.0, 48.0]\n",
              "2            3         1       3  ...        0      2  (16.0, 32.0]\n",
              "3            4         1       1  ...        0      3  (32.0, 48.0]\n",
              "4            5         0       3  ...        0      1  (32.0, 48.0]\n",
              "\n",
              "[5 rows x 14 columns]"
            ]
          },
          "metadata": {
            "tags": []
          },
          "execution_count": 75
        }
      ]
    },
    {
      "cell_type": "markdown",
      "metadata": {
        "_cell_guid": "95d96d3d-4ac0-4da0-b7d1-906b647a446a",
        "_uuid": "d06b6cd287f56d29e5df18c4a24fee52b48561a2",
        "id": "JRINyJNAnRXQ"
      },
      "source": [
        "> Now, we map *`Age`* according to *`AgeBand`*."
      ]
    },
    {
      "cell_type": "code",
      "metadata": {
        "_cell_guid": "0bf2eb65-a503-4b7b-b6ed-f7630f743128",
        "_uuid": "06f9edf03be1590c46cf35d2f0e59ff7354931d5",
        "trusted": true,
        "id": "erMaT8v5nRXR"
      },
      "source": [
        "for dataset in train_test_data:\n",
        "    dataset.loc[ dataset['Age'] <= 16, 'Age'] = 0\n",
        "    dataset.loc[(dataset['Age'] > 16) & (dataset['Age'] <= 32), 'Age'] = 1\n",
        "    dataset.loc[(dataset['Age'] > 32) & (dataset['Age'] <= 48), 'Age'] = 2\n",
        "    dataset.loc[(dataset['Age'] > 48) & (dataset['Age'] <= 64), 'Age'] = 3\n",
        "    dataset.loc[ dataset['Age'] > 64, 'Age'] = 4"
      ],
      "execution_count": null,
      "outputs": []
    },
    {
      "cell_type": "code",
      "metadata": {
        "_cell_guid": "c3bc0f52-7b7a-47b0-86e3-bfaf0db36801",
        "_uuid": "981b7a97b839e6d5ac53975e992f5077256f20c3",
        "trusted": true,
        "colab": {
          "base_uri": "https://localhost:8080/",
          "height": 204
        },
        "id": "HwNjHd9fnRXR",
        "outputId": "91d12dbb-4525-412a-baa0-7e94406b9b7d"
      },
      "source": [
        "train.head()"
      ],
      "execution_count": null,
      "outputs": [
        {
          "output_type": "execute_result",
          "data": {
            "text/html": [
              "<div>\n",
              "<style scoped>\n",
              "    .dataframe tbody tr th:only-of-type {\n",
              "        vertical-align: middle;\n",
              "    }\n",
              "\n",
              "    .dataframe tbody tr th {\n",
              "        vertical-align: top;\n",
              "    }\n",
              "\n",
              "    .dataframe thead th {\n",
              "        text-align: right;\n",
              "    }\n",
              "</style>\n",
              "<table border=\"1\" class=\"dataframe\">\n",
              "  <thead>\n",
              "    <tr style=\"text-align: right;\">\n",
              "      <th></th>\n",
              "      <th>PassengerId</th>\n",
              "      <th>Survived</th>\n",
              "      <th>Pclass</th>\n",
              "      <th>Name</th>\n",
              "      <th>Sex</th>\n",
              "      <th>Age</th>\n",
              "      <th>SibSp</th>\n",
              "      <th>Parch</th>\n",
              "      <th>Ticket</th>\n",
              "      <th>Fare</th>\n",
              "      <th>Cabin</th>\n",
              "      <th>Embarked</th>\n",
              "      <th>Title</th>\n",
              "      <th>AgeBand</th>\n",
              "    </tr>\n",
              "  </thead>\n",
              "  <tbody>\n",
              "    <tr>\n",
              "      <th>0</th>\n",
              "      <td>1</td>\n",
              "      <td>0</td>\n",
              "      <td>3</td>\n",
              "      <td>Braund, Mr. Owen Harris</td>\n",
              "      <td>0</td>\n",
              "      <td>1</td>\n",
              "      <td>1</td>\n",
              "      <td>0</td>\n",
              "      <td>A/5 21171</td>\n",
              "      <td>7.2500</td>\n",
              "      <td>NaN</td>\n",
              "      <td>0</td>\n",
              "      <td>1</td>\n",
              "      <td>(16.0, 32.0]</td>\n",
              "    </tr>\n",
              "    <tr>\n",
              "      <th>1</th>\n",
              "      <td>2</td>\n",
              "      <td>1</td>\n",
              "      <td>1</td>\n",
              "      <td>Cumings, Mrs. John Bradley (Florence Briggs Th...</td>\n",
              "      <td>1</td>\n",
              "      <td>2</td>\n",
              "      <td>1</td>\n",
              "      <td>0</td>\n",
              "      <td>PC 17599</td>\n",
              "      <td>71.2833</td>\n",
              "      <td>C85</td>\n",
              "      <td>1</td>\n",
              "      <td>3</td>\n",
              "      <td>(32.0, 48.0]</td>\n",
              "    </tr>\n",
              "    <tr>\n",
              "      <th>2</th>\n",
              "      <td>3</td>\n",
              "      <td>1</td>\n",
              "      <td>3</td>\n",
              "      <td>Heikkinen, Miss. Laina</td>\n",
              "      <td>1</td>\n",
              "      <td>1</td>\n",
              "      <td>0</td>\n",
              "      <td>0</td>\n",
              "      <td>STON/O2. 3101282</td>\n",
              "      <td>7.9250</td>\n",
              "      <td>NaN</td>\n",
              "      <td>0</td>\n",
              "      <td>2</td>\n",
              "      <td>(16.0, 32.0]</td>\n",
              "    </tr>\n",
              "    <tr>\n",
              "      <th>3</th>\n",
              "      <td>4</td>\n",
              "      <td>1</td>\n",
              "      <td>1</td>\n",
              "      <td>Futrelle, Mrs. Jacques Heath (Lily May Peel)</td>\n",
              "      <td>1</td>\n",
              "      <td>2</td>\n",
              "      <td>1</td>\n",
              "      <td>0</td>\n",
              "      <td>113803</td>\n",
              "      <td>53.1000</td>\n",
              "      <td>C123</td>\n",
              "      <td>0</td>\n",
              "      <td>3</td>\n",
              "      <td>(32.0, 48.0]</td>\n",
              "    </tr>\n",
              "    <tr>\n",
              "      <th>4</th>\n",
              "      <td>5</td>\n",
              "      <td>0</td>\n",
              "      <td>3</td>\n",
              "      <td>Allen, Mr. William Henry</td>\n",
              "      <td>0</td>\n",
              "      <td>2</td>\n",
              "      <td>0</td>\n",
              "      <td>0</td>\n",
              "      <td>373450</td>\n",
              "      <td>8.0500</td>\n",
              "      <td>NaN</td>\n",
              "      <td>0</td>\n",
              "      <td>1</td>\n",
              "      <td>(32.0, 48.0]</td>\n",
              "    </tr>\n",
              "  </tbody>\n",
              "</table>\n",
              "</div>"
            ],
            "text/plain": [
              "   PassengerId  Survived  Pclass  ... Embarked  Title       AgeBand\n",
              "0            1         0       3  ...        0      1  (16.0, 32.0]\n",
              "1            2         1       1  ...        1      3  (32.0, 48.0]\n",
              "2            3         1       3  ...        0      2  (16.0, 32.0]\n",
              "3            4         1       1  ...        0      3  (32.0, 48.0]\n",
              "4            5         0       3  ...        0      1  (32.0, 48.0]\n",
              "\n",
              "[5 rows x 14 columns]"
            ]
          },
          "metadata": {
            "tags": []
          },
          "execution_count": 77
        }
      ]
    },
    {
      "cell_type": "markdown",
      "metadata": {
        "_cell_guid": "a9370969-d15e-41e5-8d8a-a2911be82bcd",
        "_uuid": "7e66f23c0a159e81af26ad26f30be650ed536b0c",
        "id": "znstP4XenRXR"
      },
      "source": [
        "### 5) Fare Feature\n",
        "> Replace *missing* *`Fare`* values with the *median* of *`Fare`*."
      ]
    },
    {
      "cell_type": "code",
      "metadata": {
        "_cell_guid": "62b322e7-016c-4323-adec-a1fead11466c",
        "_uuid": "590d8b4773ecf29874718564b9b97b980a0708f0",
        "trusted": true,
        "id": "nbMjnBKAnRXS"
      },
      "source": [
        "for dataset in train_test_data:\n",
        "    dataset['Fare'] = dataset['Fare'].fillna(train['Fare'].median())"
      ],
      "execution_count": null,
      "outputs": []
    },
    {
      "cell_type": "markdown",
      "metadata": {
        "_cell_guid": "2e1e9e3c-56ae-440b-8f92-4ca9a4a11153",
        "_uuid": "50ef8daee9e0fb26f5b86d68dbb30d1b0d6fd894",
        "id": "kvh4x037nRXS"
      },
      "source": [
        "> Now, Create *`FareBand`*. We divide the *`Fare`* into *4 category* range."
      ]
    },
    {
      "cell_type": "code",
      "metadata": {
        "_cell_guid": "2e24576a-312c-43aa-baa6-e48e3a1f056f",
        "_uuid": "382dd35f80426fc77cdc779a705dad0705229c4b",
        "scrolled": true,
        "trusted": true,
        "colab": {
          "base_uri": "https://localhost:8080/"
        },
        "id": "fBIMJWZxnRXS",
        "outputId": "34090f88-3015-456f-8015-8537d8c5ec71"
      },
      "source": [
        "train['FareBand'] = pd.qcut(train['Fare'], 4)\n",
        "print (train[['FareBand', 'Survived']].groupby(['FareBand'], as_index=False).mean())"
      ],
      "execution_count": null,
      "outputs": [
        {
          "output_type": "stream",
          "text": [
            "          FareBand  Survived\n",
            "0   (-0.001, 7.91]  0.197309\n",
            "1   (7.91, 14.454]  0.303571\n",
            "2   (14.454, 31.0]  0.454955\n",
            "3  (31.0, 512.329]  0.581081\n"
          ],
          "name": "stdout"
        }
      ]
    },
    {
      "cell_type": "code",
      "metadata": {
        "_cell_guid": "9f55c49f-605c-48ed-a648-0501afe7dcb7",
        "_uuid": "6d9df3a6f8392d59ff50706ede566d9ffcee1a23",
        "trusted": true,
        "colab": {
          "base_uri": "https://localhost:8080/",
          "height": 289
        },
        "id": "0TNfK-J_nRXT",
        "outputId": "f8e0cc4f-5c73-40d3-af8c-d7afb2ff3403"
      },
      "source": [
        "train.head()"
      ],
      "execution_count": null,
      "outputs": [
        {
          "output_type": "execute_result",
          "data": {
            "text/html": [
              "<div>\n",
              "<style scoped>\n",
              "    .dataframe tbody tr th:only-of-type {\n",
              "        vertical-align: middle;\n",
              "    }\n",
              "\n",
              "    .dataframe tbody tr th {\n",
              "        vertical-align: top;\n",
              "    }\n",
              "\n",
              "    .dataframe thead th {\n",
              "        text-align: right;\n",
              "    }\n",
              "</style>\n",
              "<table border=\"1\" class=\"dataframe\">\n",
              "  <thead>\n",
              "    <tr style=\"text-align: right;\">\n",
              "      <th></th>\n",
              "      <th>PassengerId</th>\n",
              "      <th>Survived</th>\n",
              "      <th>Pclass</th>\n",
              "      <th>Name</th>\n",
              "      <th>Sex</th>\n",
              "      <th>Age</th>\n",
              "      <th>SibSp</th>\n",
              "      <th>Parch</th>\n",
              "      <th>Ticket</th>\n",
              "      <th>Fare</th>\n",
              "      <th>Cabin</th>\n",
              "      <th>Embarked</th>\n",
              "      <th>Title</th>\n",
              "      <th>AgeBand</th>\n",
              "      <th>FareBand</th>\n",
              "    </tr>\n",
              "  </thead>\n",
              "  <tbody>\n",
              "    <tr>\n",
              "      <th>0</th>\n",
              "      <td>1</td>\n",
              "      <td>0</td>\n",
              "      <td>3</td>\n",
              "      <td>Braund, Mr. Owen Harris</td>\n",
              "      <td>0</td>\n",
              "      <td>1</td>\n",
              "      <td>1</td>\n",
              "      <td>0</td>\n",
              "      <td>A/5 21171</td>\n",
              "      <td>7.2500</td>\n",
              "      <td>NaN</td>\n",
              "      <td>0</td>\n",
              "      <td>1</td>\n",
              "      <td>(16.0, 32.0]</td>\n",
              "      <td>(-0.001, 7.91]</td>\n",
              "    </tr>\n",
              "    <tr>\n",
              "      <th>1</th>\n",
              "      <td>2</td>\n",
              "      <td>1</td>\n",
              "      <td>1</td>\n",
              "      <td>Cumings, Mrs. John Bradley (Florence Briggs Th...</td>\n",
              "      <td>1</td>\n",
              "      <td>2</td>\n",
              "      <td>1</td>\n",
              "      <td>0</td>\n",
              "      <td>PC 17599</td>\n",
              "      <td>71.2833</td>\n",
              "      <td>C85</td>\n",
              "      <td>1</td>\n",
              "      <td>3</td>\n",
              "      <td>(32.0, 48.0]</td>\n",
              "      <td>(31.0, 512.329]</td>\n",
              "    </tr>\n",
              "    <tr>\n",
              "      <th>2</th>\n",
              "      <td>3</td>\n",
              "      <td>1</td>\n",
              "      <td>3</td>\n",
              "      <td>Heikkinen, Miss. Laina</td>\n",
              "      <td>1</td>\n",
              "      <td>1</td>\n",
              "      <td>0</td>\n",
              "      <td>0</td>\n",
              "      <td>STON/O2. 3101282</td>\n",
              "      <td>7.9250</td>\n",
              "      <td>NaN</td>\n",
              "      <td>0</td>\n",
              "      <td>2</td>\n",
              "      <td>(16.0, 32.0]</td>\n",
              "      <td>(7.91, 14.454]</td>\n",
              "    </tr>\n",
              "    <tr>\n",
              "      <th>3</th>\n",
              "      <td>4</td>\n",
              "      <td>1</td>\n",
              "      <td>1</td>\n",
              "      <td>Futrelle, Mrs. Jacques Heath (Lily May Peel)</td>\n",
              "      <td>1</td>\n",
              "      <td>2</td>\n",
              "      <td>1</td>\n",
              "      <td>0</td>\n",
              "      <td>113803</td>\n",
              "      <td>53.1000</td>\n",
              "      <td>C123</td>\n",
              "      <td>0</td>\n",
              "      <td>3</td>\n",
              "      <td>(32.0, 48.0]</td>\n",
              "      <td>(31.0, 512.329]</td>\n",
              "    </tr>\n",
              "    <tr>\n",
              "      <th>4</th>\n",
              "      <td>5</td>\n",
              "      <td>0</td>\n",
              "      <td>3</td>\n",
              "      <td>Allen, Mr. William Henry</td>\n",
              "      <td>0</td>\n",
              "      <td>2</td>\n",
              "      <td>0</td>\n",
              "      <td>0</td>\n",
              "      <td>373450</td>\n",
              "      <td>8.0500</td>\n",
              "      <td>NaN</td>\n",
              "      <td>0</td>\n",
              "      <td>1</td>\n",
              "      <td>(32.0, 48.0]</td>\n",
              "      <td>(7.91, 14.454]</td>\n",
              "    </tr>\n",
              "  </tbody>\n",
              "</table>\n",
              "</div>"
            ],
            "text/plain": [
              "   PassengerId  Survived  Pclass  ... Title       AgeBand         FareBand\n",
              "0            1         0       3  ...     1  (16.0, 32.0]   (-0.001, 7.91]\n",
              "1            2         1       1  ...     3  (32.0, 48.0]  (31.0, 512.329]\n",
              "2            3         1       3  ...     2  (16.0, 32.0]   (7.91, 14.454]\n",
              "3            4         1       1  ...     3  (32.0, 48.0]  (31.0, 512.329]\n",
              "4            5         0       3  ...     1  (32.0, 48.0]   (7.91, 14.454]\n",
              "\n",
              "[5 rows x 15 columns]"
            ]
          },
          "metadata": {
            "tags": []
          },
          "execution_count": 80
        }
      ]
    },
    {
      "cell_type": "markdown",
      "metadata": {
        "_cell_guid": "6db348b4-96a6-44c6-bdaa-14a9644dc7ff",
        "_uuid": "1b3fd602c23619ab5a973ce5e8cb9660a6016da3",
        "id": "9s4ErHWXnRXT"
      },
      "source": [
        "> Map *`Fare`* according to *`FareBand`*"
      ]
    },
    {
      "cell_type": "code",
      "metadata": {
        "_cell_guid": "28e18cd6-8d10-4530-b7bf-0462876d5d7c",
        "_uuid": "5474b0a55f53bd445c24d3cebe7d50ada7227f4c",
        "trusted": true,
        "id": "RROhgUtfnRXT"
      },
      "source": [
        "for dataset in train_test_data:\n",
        "    dataset.loc[ dataset['Fare'] <= 7.91, 'Fare'] = 0\n",
        "    dataset.loc[(dataset['Fare'] > 7.91) & (dataset['Fare'] <= 14.454), 'Fare'] = 1\n",
        "    dataset.loc[(dataset['Fare'] > 14.454) & (dataset['Fare'] <= 31), 'Fare']   = 2\n",
        "    dataset.loc[ dataset['Fare'] > 31, 'Fare'] = 3\n",
        "    dataset['Fare'] = dataset['Fare'].astype(int)"
      ],
      "execution_count": null,
      "outputs": []
    },
    {
      "cell_type": "code",
      "metadata": {
        "_cell_guid": "30bdac5c-899e-47e2-aaed-5296f8f8bdf2",
        "_uuid": "f5642bbdcc3998d509d00f1e31d89122d05198f3",
        "trusted": true,
        "colab": {
          "base_uri": "https://localhost:8080/",
          "height": 289
        },
        "id": "LjwrxV07nRXU",
        "outputId": "cd18d83b-9ec4-409a-ec8c-1b2e3ed20491"
      },
      "source": [
        "train.head()"
      ],
      "execution_count": null,
      "outputs": [
        {
          "output_type": "execute_result",
          "data": {
            "text/html": [
              "<div>\n",
              "<style scoped>\n",
              "    .dataframe tbody tr th:only-of-type {\n",
              "        vertical-align: middle;\n",
              "    }\n",
              "\n",
              "    .dataframe tbody tr th {\n",
              "        vertical-align: top;\n",
              "    }\n",
              "\n",
              "    .dataframe thead th {\n",
              "        text-align: right;\n",
              "    }\n",
              "</style>\n",
              "<table border=\"1\" class=\"dataframe\">\n",
              "  <thead>\n",
              "    <tr style=\"text-align: right;\">\n",
              "      <th></th>\n",
              "      <th>PassengerId</th>\n",
              "      <th>Survived</th>\n",
              "      <th>Pclass</th>\n",
              "      <th>Name</th>\n",
              "      <th>Sex</th>\n",
              "      <th>Age</th>\n",
              "      <th>SibSp</th>\n",
              "      <th>Parch</th>\n",
              "      <th>Ticket</th>\n",
              "      <th>Fare</th>\n",
              "      <th>Cabin</th>\n",
              "      <th>Embarked</th>\n",
              "      <th>Title</th>\n",
              "      <th>AgeBand</th>\n",
              "      <th>FareBand</th>\n",
              "    </tr>\n",
              "  </thead>\n",
              "  <tbody>\n",
              "    <tr>\n",
              "      <th>0</th>\n",
              "      <td>1</td>\n",
              "      <td>0</td>\n",
              "      <td>3</td>\n",
              "      <td>Braund, Mr. Owen Harris</td>\n",
              "      <td>0</td>\n",
              "      <td>1</td>\n",
              "      <td>1</td>\n",
              "      <td>0</td>\n",
              "      <td>A/5 21171</td>\n",
              "      <td>0</td>\n",
              "      <td>NaN</td>\n",
              "      <td>0</td>\n",
              "      <td>1</td>\n",
              "      <td>(16.0, 32.0]</td>\n",
              "      <td>(-0.001, 7.91]</td>\n",
              "    </tr>\n",
              "    <tr>\n",
              "      <th>1</th>\n",
              "      <td>2</td>\n",
              "      <td>1</td>\n",
              "      <td>1</td>\n",
              "      <td>Cumings, Mrs. John Bradley (Florence Briggs Th...</td>\n",
              "      <td>1</td>\n",
              "      <td>2</td>\n",
              "      <td>1</td>\n",
              "      <td>0</td>\n",
              "      <td>PC 17599</td>\n",
              "      <td>3</td>\n",
              "      <td>C85</td>\n",
              "      <td>1</td>\n",
              "      <td>3</td>\n",
              "      <td>(32.0, 48.0]</td>\n",
              "      <td>(31.0, 512.329]</td>\n",
              "    </tr>\n",
              "    <tr>\n",
              "      <th>2</th>\n",
              "      <td>3</td>\n",
              "      <td>1</td>\n",
              "      <td>3</td>\n",
              "      <td>Heikkinen, Miss. Laina</td>\n",
              "      <td>1</td>\n",
              "      <td>1</td>\n",
              "      <td>0</td>\n",
              "      <td>0</td>\n",
              "      <td>STON/O2. 3101282</td>\n",
              "      <td>1</td>\n",
              "      <td>NaN</td>\n",
              "      <td>0</td>\n",
              "      <td>2</td>\n",
              "      <td>(16.0, 32.0]</td>\n",
              "      <td>(7.91, 14.454]</td>\n",
              "    </tr>\n",
              "    <tr>\n",
              "      <th>3</th>\n",
              "      <td>4</td>\n",
              "      <td>1</td>\n",
              "      <td>1</td>\n",
              "      <td>Futrelle, Mrs. Jacques Heath (Lily May Peel)</td>\n",
              "      <td>1</td>\n",
              "      <td>2</td>\n",
              "      <td>1</td>\n",
              "      <td>0</td>\n",
              "      <td>113803</td>\n",
              "      <td>3</td>\n",
              "      <td>C123</td>\n",
              "      <td>0</td>\n",
              "      <td>3</td>\n",
              "      <td>(32.0, 48.0]</td>\n",
              "      <td>(31.0, 512.329]</td>\n",
              "    </tr>\n",
              "    <tr>\n",
              "      <th>4</th>\n",
              "      <td>5</td>\n",
              "      <td>0</td>\n",
              "      <td>3</td>\n",
              "      <td>Allen, Mr. William Henry</td>\n",
              "      <td>0</td>\n",
              "      <td>2</td>\n",
              "      <td>0</td>\n",
              "      <td>0</td>\n",
              "      <td>373450</td>\n",
              "      <td>1</td>\n",
              "      <td>NaN</td>\n",
              "      <td>0</td>\n",
              "      <td>1</td>\n",
              "      <td>(32.0, 48.0]</td>\n",
              "      <td>(7.91, 14.454]</td>\n",
              "    </tr>\n",
              "  </tbody>\n",
              "</table>\n",
              "</div>"
            ],
            "text/plain": [
              "   PassengerId  Survived  Pclass  ... Title       AgeBand         FareBand\n",
              "0            1         0       3  ...     1  (16.0, 32.0]   (-0.001, 7.91]\n",
              "1            2         1       1  ...     3  (32.0, 48.0]  (31.0, 512.329]\n",
              "2            3         1       3  ...     2  (16.0, 32.0]   (7.91, 14.454]\n",
              "3            4         1       1  ...     3  (32.0, 48.0]  (31.0, 512.329]\n",
              "4            5         0       3  ...     1  (32.0, 48.0]   (7.91, 14.454]\n",
              "\n",
              "[5 rows x 15 columns]"
            ]
          },
          "metadata": {
            "tags": []
          },
          "execution_count": 82
        }
      ]
    },
    {
      "cell_type": "markdown",
      "metadata": {
        "_cell_guid": "4a2021aa-ad7a-4830-a0f2-3e6110507888",
        "_uuid": "582c8177544b578de50477b9e3b77f158345343a",
        "id": "-CdZOS_znRXU"
      },
      "source": [
        "### 6) SibSp & Parch Feature\n",
        "> Combining *`SibSp`* & *`Parch`* feature, we create a new feature named *`FamilySize`*."
      ]
    },
    {
      "cell_type": "code",
      "metadata": {
        "_cell_guid": "81ad7a51-4bcd-40db-8595-beea82b06988",
        "_uuid": "cf748a44aca2d6721190fd6d10fdaf9ff20baa82",
        "trusted": true,
        "colab": {
          "base_uri": "https://localhost:8080/"
        },
        "id": "sBTIpgpvnRXV",
        "outputId": "dcb1a927-5498-43db-ad12-4fee1a264f6d"
      },
      "source": [
        "for dataset in train_test_data:\n",
        "    dataset['FamilySize'] = dataset['SibSp'] +  dataset['Parch'] + 1\n",
        "\n",
        "print (train[['FamilySize', 'Survived']].groupby(['FamilySize'], as_index=False).mean())"
      ],
      "execution_count": null,
      "outputs": [
        {
          "output_type": "stream",
          "text": [
            "   FamilySize  Survived\n",
            "0           1  0.303538\n",
            "1           2  0.552795\n",
            "2           3  0.578431\n",
            "3           4  0.724138\n",
            "4           5  0.200000\n",
            "5           6  0.136364\n",
            "6           7  0.333333\n",
            "7           8  0.000000\n",
            "8          11  0.000000\n"
          ],
          "name": "stdout"
        }
      ]
    },
    {
      "cell_type": "code",
      "metadata": {
        "trusted": true,
        "colab": {
          "base_uri": "https://localhost:8080/",
          "height": 302
        },
        "id": "9Cqu4dwZnRXV",
        "outputId": "21f75d8e-19ed-44b0-ef14-68fb270fa399"
      },
      "source": [
        "sns.barplot(x='FamilySize', y='Survived', ci=None, data=train)"
      ],
      "execution_count": null,
      "outputs": [
        {
          "output_type": "execute_result",
          "data": {
            "text/plain": [
              "<matplotlib.axes._subplots.AxesSubplot at 0x7f0c8c30f0d0>"
            ]
          },
          "metadata": {
            "tags": []
          },
          "execution_count": 84
        },
        {
          "output_type": "display_data",
          "data": {
            "image/png": "[encoded data removed]",
            "text/plain": [
              "<Figure size 432x288 with 1 Axes>"
            ]
          },
          "metadata": {
            "tags": [],
            "needs_background": "light"
          }
        }
      ]
    },
    {
      "cell_type": "code",
      "metadata": {
        "_cell_guid": "ddbed4aa-fb9a-4a7f-adec-0a4a37c3823d",
        "_uuid": "8fd03222fb70effff47a2124bf6744965a98faad",
        "trusted": true,
        "colab": {
          "base_uri": "https://localhost:8080/"
        },
        "id": "LQEu4QNxnRXW",
        "outputId": "0e9c7b67-e4ca-4ff8-ad80-d1e633e84468"
      },
      "source": [
        "for dataset in train_test_data:\n",
        "    dataset['IsAlone'] = 0\n",
        "    dataset.loc[dataset['FamilySize'] == 1, 'IsAlone'] = 1\n",
        "    \n",
        "print (train[['IsAlone', 'Survived']].groupby(['IsAlone'], as_index=False).mean())"
      ],
      "execution_count": null,
      "outputs": [
        {
          "output_type": "stream",
          "text": [
            "   IsAlone  Survived\n",
            "0        0  0.505650\n",
            "1        1  0.303538\n"
          ],
          "name": "stdout"
        }
      ]
    },
    {
      "cell_type": "markdown",
      "metadata": {
        "_cell_guid": "7fb0810f-9f4c-4c63-bafd-5d2c95afeb88",
        "_uuid": "7481b97261d0e6f6f4eac75e44e01ed5185f5f3c",
        "id": "Vs3OzzulnRXW"
      },
      "source": [
        "> This shows that travelling alone has only 30% survival chance."
      ]
    },
    {
      "cell_type": "code",
      "metadata": {
        "_cell_guid": "44e2e673-679c-44c8-85d1-5ec6d4d62836",
        "_uuid": "856b6ff45680c53d71decab72558c84e08b7aa59",
        "scrolled": true,
        "trusted": true,
        "colab": {
          "base_uri": "https://localhost:8080/",
          "height": 306
        },
        "id": "o2WhHvBAnRXX",
        "outputId": "bd39728a-8d4f-499d-9578-1f1cec58362e"
      },
      "source": [
        "train.head()"
      ],
      "execution_count": null,
      "outputs": [
        {
          "output_type": "execute_result",
          "data": {
            "text/html": [
              "<div>\n",
              "<style scoped>\n",
              "    .dataframe tbody tr th:only-of-type {\n",
              "        vertical-align: middle;\n",
              "    }\n",
              "\n",
              "    .dataframe tbody tr th {\n",
              "        vertical-align: top;\n",
              "    }\n",
              "\n",
              "    .dataframe thead th {\n",
              "        text-align: right;\n",
              "    }\n",
              "</style>\n",
              "<table border=\"1\" class=\"dataframe\">\n",
              "  <thead>\n",
              "    <tr style=\"text-align: right;\">\n",
              "      <th></th>\n",
              "      <th>PassengerId</th>\n",
              "      <th>Survived</th>\n",
              "      <th>Pclass</th>\n",
              "      <th>Name</th>\n",
              "      <th>Sex</th>\n",
              "      <th>Age</th>\n",
              "      <th>SibSp</th>\n",
              "      <th>Parch</th>\n",
              "      <th>Ticket</th>\n",
              "      <th>Fare</th>\n",
              "      <th>Cabin</th>\n",
              "      <th>Embarked</th>\n",
              "      <th>Title</th>\n",
              "      <th>AgeBand</th>\n",
              "      <th>FareBand</th>\n",
              "      <th>FamilySize</th>\n",
              "      <th>IsAlone</th>\n",
              "    </tr>\n",
              "  </thead>\n",
              "  <tbody>\n",
              "    <tr>\n",
              "      <th>0</th>\n",
              "      <td>1</td>\n",
              "      <td>0</td>\n",
              "      <td>3</td>\n",
              "      <td>Braund, Mr. Owen Harris</td>\n",
              "      <td>0</td>\n",
              "      <td>1</td>\n",
              "      <td>1</td>\n",
              "      <td>0</td>\n",
              "      <td>A/5 21171</td>\n",
              "      <td>0</td>\n",
              "      <td>NaN</td>\n",
              "      <td>0</td>\n",
              "      <td>1</td>\n",
              "      <td>(16.0, 32.0]</td>\n",
              "      <td>(-0.001, 7.91]</td>\n",
              "      <td>2</td>\n",
              "      <td>0</td>\n",
              "    </tr>\n",
              "    <tr>\n",
              "      <th>1</th>\n",
              "      <td>2</td>\n",
              "      <td>1</td>\n",
              "      <td>1</td>\n",
              "      <td>Cumings, Mrs. John Bradley (Florence Briggs Th...</td>\n",
              "      <td>1</td>\n",
              "      <td>2</td>\n",
              "      <td>1</td>\n",
              "      <td>0</td>\n",
              "      <td>PC 17599</td>\n",
              "      <td>3</td>\n",
              "      <td>C85</td>\n",
              "      <td>1</td>\n",
              "      <td>3</td>\n",
              "      <td>(32.0, 48.0]</td>\n",
              "      <td>(31.0, 512.329]</td>\n",
              "      <td>2</td>\n",
              "      <td>0</td>\n",
              "    </tr>\n",
              "    <tr>\n",
              "      <th>2</th>\n",
              "      <td>3</td>\n",
              "      <td>1</td>\n",
              "      <td>3</td>\n",
              "      <td>Heikkinen, Miss. Laina</td>\n",
              "      <td>1</td>\n",
              "      <td>1</td>\n",
              "      <td>0</td>\n",
              "      <td>0</td>\n",
              "      <td>STON/O2. 3101282</td>\n",
              "      <td>1</td>\n",
              "      <td>NaN</td>\n",
              "      <td>0</td>\n",
              "      <td>2</td>\n",
              "      <td>(16.0, 32.0]</td>\n",
              "      <td>(7.91, 14.454]</td>\n",
              "      <td>1</td>\n",
              "      <td>1</td>\n",
              "    </tr>\n",
              "    <tr>\n",
              "      <th>3</th>\n",
              "      <td>4</td>\n",
              "      <td>1</td>\n",
              "      <td>1</td>\n",
              "      <td>Futrelle, Mrs. Jacques Heath (Lily May Peel)</td>\n",
              "      <td>1</td>\n",
              "      <td>2</td>\n",
              "      <td>1</td>\n",
              "      <td>0</td>\n",
              "      <td>113803</td>\n",
              "      <td>3</td>\n",
              "      <td>C123</td>\n",
              "      <td>0</td>\n",
              "      <td>3</td>\n",
              "      <td>(32.0, 48.0]</td>\n",
              "      <td>(31.0, 512.329]</td>\n",
              "      <td>2</td>\n",
              "      <td>0</td>\n",
              "    </tr>\n",
              "    <tr>\n",
              "      <th>4</th>\n",
              "      <td>5</td>\n",
              "      <td>0</td>\n",
              "      <td>3</td>\n",
              "      <td>Allen, Mr. William Henry</td>\n",
              "      <td>0</td>\n",
              "      <td>2</td>\n",
              "      <td>0</td>\n",
              "      <td>0</td>\n",
              "      <td>373450</td>\n",
              "      <td>1</td>\n",
              "      <td>NaN</td>\n",
              "      <td>0</td>\n",
              "      <td>1</td>\n",
              "      <td>(32.0, 48.0]</td>\n",
              "      <td>(7.91, 14.454]</td>\n",
              "      <td>1</td>\n",
              "      <td>1</td>\n",
              "    </tr>\n",
              "  </tbody>\n",
              "</table>\n",
              "</div>"
            ],
            "text/plain": [
              "   PassengerId  Survived  Pclass  ...         FareBand  FamilySize  IsAlone\n",
              "0            1         0       3  ...   (-0.001, 7.91]           2        0\n",
              "1            2         1       1  ...  (31.0, 512.329]           2        0\n",
              "2            3         1       3  ...   (7.91, 14.454]           1        1\n",
              "3            4         1       1  ...  (31.0, 512.329]           2        0\n",
              "4            5         0       3  ...   (7.91, 14.454]           1        1\n",
              "\n",
              "[5 rows x 17 columns]"
            ]
          },
          "metadata": {
            "tags": []
          },
          "execution_count": 86
        }
      ]
    },
    {
      "cell_type": "code",
      "metadata": {
        "_cell_guid": "2f5b832c-76ea-4164-85f8-05a26670e7fc",
        "_uuid": "576af5bcf12fa1bf91c6aae882a13d472c98fc3a",
        "trusted": true,
        "colab": {
          "base_uri": "https://localhost:8080/",
          "height": 204
        },
        "id": "bjdeT__dnRXX",
        "outputId": "52d0eeb6-d4d0-477d-a6fd-d63dc937ccbd"
      },
      "source": [
        "test.head()"
      ],
      "execution_count": null,
      "outputs": [
        {
          "output_type": "execute_result",
          "data": {
            "text/html": [
              "<div>\n",
              "<style scoped>\n",
              "    .dataframe tbody tr th:only-of-type {\n",
              "        vertical-align: middle;\n",
              "    }\n",
              "\n",
              "    .dataframe tbody tr th {\n",
              "        vertical-align: top;\n",
              "    }\n",
              "\n",
              "    .dataframe thead th {\n",
              "        text-align: right;\n",
              "    }\n",
              "</style>\n",
              "<table border=\"1\" class=\"dataframe\">\n",
              "  <thead>\n",
              "    <tr style=\"text-align: right;\">\n",
              "      <th></th>\n",
              "      <th>PassengerId</th>\n",
              "      <th>Pclass</th>\n",
              "      <th>Name</th>\n",
              "      <th>Sex</th>\n",
              "      <th>Age</th>\n",
              "      <th>SibSp</th>\n",
              "      <th>Parch</th>\n",
              "      <th>Ticket</th>\n",
              "      <th>Fare</th>\n",
              "      <th>Cabin</th>\n",
              "      <th>Embarked</th>\n",
              "      <th>Title</th>\n",
              "      <th>FamilySize</th>\n",
              "      <th>IsAlone</th>\n",
              "    </tr>\n",
              "  </thead>\n",
              "  <tbody>\n",
              "    <tr>\n",
              "      <th>0</th>\n",
              "      <td>892</td>\n",
              "      <td>3</td>\n",
              "      <td>Kelly, Mr. James</td>\n",
              "      <td>0</td>\n",
              "      <td>2</td>\n",
              "      <td>0</td>\n",
              "      <td>0</td>\n",
              "      <td>330911</td>\n",
              "      <td>0</td>\n",
              "      <td>NaN</td>\n",
              "      <td>2</td>\n",
              "      <td>1</td>\n",
              "      <td>1</td>\n",
              "      <td>1</td>\n",
              "    </tr>\n",
              "    <tr>\n",
              "      <th>1</th>\n",
              "      <td>893</td>\n",
              "      <td>3</td>\n",
              "      <td>Wilkes, Mrs. James (Ellen Needs)</td>\n",
              "      <td>1</td>\n",
              "      <td>2</td>\n",
              "      <td>1</td>\n",
              "      <td>0</td>\n",
              "      <td>363272</td>\n",
              "      <td>0</td>\n",
              "      <td>NaN</td>\n",
              "      <td>0</td>\n",
              "      <td>3</td>\n",
              "      <td>2</td>\n",
              "      <td>0</td>\n",
              "    </tr>\n",
              "    <tr>\n",
              "      <th>2</th>\n",
              "      <td>894</td>\n",
              "      <td>2</td>\n",
              "      <td>Myles, Mr. Thomas Francis</td>\n",
              "      <td>0</td>\n",
              "      <td>3</td>\n",
              "      <td>0</td>\n",
              "      <td>0</td>\n",
              "      <td>240276</td>\n",
              "      <td>1</td>\n",
              "      <td>NaN</td>\n",
              "      <td>2</td>\n",
              "      <td>1</td>\n",
              "      <td>1</td>\n",
              "      <td>1</td>\n",
              "    </tr>\n",
              "    <tr>\n",
              "      <th>3</th>\n",
              "      <td>895</td>\n",
              "      <td>3</td>\n",
              "      <td>Wirz, Mr. Albert</td>\n",
              "      <td>0</td>\n",
              "      <td>1</td>\n",
              "      <td>0</td>\n",
              "      <td>0</td>\n",
              "      <td>315154</td>\n",
              "      <td>1</td>\n",
              "      <td>NaN</td>\n",
              "      <td>0</td>\n",
              "      <td>1</td>\n",
              "      <td>1</td>\n",
              "      <td>1</td>\n",
              "    </tr>\n",
              "    <tr>\n",
              "      <th>4</th>\n",
              "      <td>896</td>\n",
              "      <td>3</td>\n",
              "      <td>Hirvonen, Mrs. Alexander (Helga E Lindqvist)</td>\n",
              "      <td>1</td>\n",
              "      <td>1</td>\n",
              "      <td>1</td>\n",
              "      <td>1</td>\n",
              "      <td>3101298</td>\n",
              "      <td>1</td>\n",
              "      <td>NaN</td>\n",
              "      <td>0</td>\n",
              "      <td>3</td>\n",
              "      <td>3</td>\n",
              "      <td>0</td>\n",
              "    </tr>\n",
              "  </tbody>\n",
              "</table>\n",
              "</div>"
            ],
            "text/plain": [
              "   PassengerId  Pclass  ... FamilySize  IsAlone\n",
              "0          892       3  ...          1        1\n",
              "1          893       3  ...          2        0\n",
              "2          894       2  ...          1        1\n",
              "3          895       3  ...          1        1\n",
              "4          896       3  ...          3        0\n",
              "\n",
              "[5 rows x 14 columns]"
            ]
          },
          "metadata": {
            "tags": []
          },
          "execution_count": 87
        }
      ]
    },
    {
      "cell_type": "markdown",
      "metadata": {
        "_cell_guid": "c3e1351c-621a-4955-923a-9abffc0a529a",
        "_uuid": "9178b8bffc1b4402e8517dfe78edcbd7bf40d562",
        "id": "IscR4cwanRXX"
      },
      "source": [
        "## Feature Selection\n",
        "> We drop unnecessary columns/features and keep only the useful ones for our experiment. Column *`PassengerId`* is only dropped from Train set because we need *`PassengerId`* in Test set while creating Submission file to Kaggle."
      ]
    },
    {
      "cell_type": "code",
      "metadata": {
        "_cell_guid": "775a70ed-3af7-455c-98fa-0728489e724b",
        "_uuid": "22dc74fc3b370d26b2cc086ad4a06894c912ec96",
        "trusted": true,
        "id": "aJcBzVkjnRXY"
      },
      "source": [
        "features_drop = ['Name', 'SibSp', 'Parch', 'Ticket', 'Cabin', 'FamilySize']\n",
        "train = train.drop(features_drop, axis=1)\n",
        "test = test.drop(features_drop, axis=1)\n",
        "train = train.drop(['PassengerId', 'AgeBand', 'FareBand'], axis=1)"
      ],
      "execution_count": null,
      "outputs": []
    },
    {
      "cell_type": "code",
      "metadata": {
        "_cell_guid": "5a77dfbc-2210-49a5-9e44-4e0f5c96c607",
        "_uuid": "88aee9397e4a7987db1eb51f0effa8e3575d2b9d",
        "trusted": true,
        "colab": {
          "base_uri": "https://localhost:8080/",
          "height": 204
        },
        "id": "r99QDTVGnRXY",
        "outputId": "0993068f-8e27-4542-8832-f729c47f3189"
      },
      "source": [
        "train.head()"
      ],
      "execution_count": null,
      "outputs": [
        {
          "output_type": "execute_result",
          "data": {
            "text/html": [
              "<div>\n",
              "<style scoped>\n",
              "    .dataframe tbody tr th:only-of-type {\n",
              "        vertical-align: middle;\n",
              "    }\n",
              "\n",
              "    .dataframe tbody tr th {\n",
              "        vertical-align: top;\n",
              "    }\n",
              "\n",
              "    .dataframe thead th {\n",
              "        text-align: right;\n",
              "    }\n",
              "</style>\n",
              "<table border=\"1\" class=\"dataframe\">\n",
              "  <thead>\n",
              "    <tr style=\"text-align: right;\">\n",
              "      <th></th>\n",
              "      <th>Survived</th>\n",
              "      <th>Pclass</th>\n",
              "      <th>Sex</th>\n",
              "      <th>Age</th>\n",
              "      <th>Fare</th>\n",
              "      <th>Embarked</th>\n",
              "      <th>Title</th>\n",
              "      <th>IsAlone</th>\n",
              "    </tr>\n",
              "  </thead>\n",
              "  <tbody>\n",
              "    <tr>\n",
              "      <th>0</th>\n",
              "      <td>0</td>\n",
              "      <td>3</td>\n",
              "      <td>0</td>\n",
              "      <td>1</td>\n",
              "      <td>0</td>\n",
              "      <td>0</td>\n",
              "      <td>1</td>\n",
              "      <td>0</td>\n",
              "    </tr>\n",
              "    <tr>\n",
              "      <th>1</th>\n",
              "      <td>1</td>\n",
              "      <td>1</td>\n",
              "      <td>1</td>\n",
              "      <td>2</td>\n",
              "      <td>3</td>\n",
              "      <td>1</td>\n",
              "      <td>3</td>\n",
              "      <td>0</td>\n",
              "    </tr>\n",
              "    <tr>\n",
              "      <th>2</th>\n",
              "      <td>1</td>\n",
              "      <td>3</td>\n",
              "      <td>1</td>\n",
              "      <td>1</td>\n",
              "      <td>1</td>\n",
              "      <td>0</td>\n",
              "      <td>2</td>\n",
              "      <td>1</td>\n",
              "    </tr>\n",
              "    <tr>\n",
              "      <th>3</th>\n",
              "      <td>1</td>\n",
              "      <td>1</td>\n",
              "      <td>1</td>\n",
              "      <td>2</td>\n",
              "      <td>3</td>\n",
              "      <td>0</td>\n",
              "      <td>3</td>\n",
              "      <td>0</td>\n",
              "    </tr>\n",
              "    <tr>\n",
              "      <th>4</th>\n",
              "      <td>0</td>\n",
              "      <td>3</td>\n",
              "      <td>0</td>\n",
              "      <td>2</td>\n",
              "      <td>1</td>\n",
              "      <td>0</td>\n",
              "      <td>1</td>\n",
              "      <td>1</td>\n",
              "    </tr>\n",
              "  </tbody>\n",
              "</table>\n",
              "</div>"
            ],
            "text/plain": [
              "   Survived  Pclass  Sex  Age  Fare  Embarked  Title  IsAlone\n",
              "0         0       3    0    1     0         0      1        0\n",
              "1         1       1    1    2     3         1      3        0\n",
              "2         1       3    1    1     1         0      2        1\n",
              "3         1       1    1    2     3         0      3        0\n",
              "4         0       3    0    2     1         0      1        1"
            ]
          },
          "metadata": {
            "tags": []
          },
          "execution_count": 89
        }
      ]
    },
    {
      "cell_type": "code",
      "metadata": {
        "_cell_guid": "5c36b0c6-3ebf-4483-92ac-44fcd285533f",
        "_uuid": "1da0127150f750ac82d4b24fda39269c8b17fb7b",
        "trusted": true,
        "colab": {
          "base_uri": "https://localhost:8080/",
          "height": 204
        },
        "id": "3ZodtJx_nRXY",
        "outputId": "18c4c589-c7f4-46f9-8fa1-239185bfb089"
      },
      "source": [
        "test.head()"
      ],
      "execution_count": null,
      "outputs": [
        {
          "output_type": "execute_result",
          "data": {
            "text/html": [
              "<div>\n",
              "<style scoped>\n",
              "    .dataframe tbody tr th:only-of-type {\n",
              "        vertical-align: middle;\n",
              "    }\n",
              "\n",
              "    .dataframe tbody tr th {\n",
              "        vertical-align: top;\n",
              "    }\n",
              "\n",
              "    .dataframe thead th {\n",
              "        text-align: right;\n",
              "    }\n",
              "</style>\n",
              "<table border=\"1\" class=\"dataframe\">\n",
              "  <thead>\n",
              "    <tr style=\"text-align: right;\">\n",
              "      <th></th>\n",
              "      <th>PassengerId</th>\n",
              "      <th>Pclass</th>\n",
              "      <th>Sex</th>\n",
              "      <th>Age</th>\n",
              "      <th>Fare</th>\n",
              "      <th>Embarked</th>\n",
              "      <th>Title</th>\n",
              "      <th>IsAlone</th>\n",
              "    </tr>\n",
              "  </thead>\n",
              "  <tbody>\n",
              "    <tr>\n",
              "      <th>0</th>\n",
              "      <td>892</td>\n",
              "      <td>3</td>\n",
              "      <td>0</td>\n",
              "      <td>2</td>\n",
              "      <td>0</td>\n",
              "      <td>2</td>\n",
              "      <td>1</td>\n",
              "      <td>1</td>\n",
              "    </tr>\n",
              "    <tr>\n",
              "      <th>1</th>\n",
              "      <td>893</td>\n",
              "      <td>3</td>\n",
              "      <td>1</td>\n",
              "      <td>2</td>\n",
              "      <td>0</td>\n",
              "      <td>0</td>\n",
              "      <td>3</td>\n",
              "      <td>0</td>\n",
              "    </tr>\n",
              "    <tr>\n",
              "      <th>2</th>\n",
              "      <td>894</td>\n",
              "      <td>2</td>\n",
              "      <td>0</td>\n",
              "      <td>3</td>\n",
              "      <td>1</td>\n",
              "      <td>2</td>\n",
              "      <td>1</td>\n",
              "      <td>1</td>\n",
              "    </tr>\n",
              "    <tr>\n",
              "      <th>3</th>\n",
              "      <td>895</td>\n",
              "      <td>3</td>\n",
              "      <td>0</td>\n",
              "      <td>1</td>\n",
              "      <td>1</td>\n",
              "      <td>0</td>\n",
              "      <td>1</td>\n",
              "      <td>1</td>\n",
              "    </tr>\n",
              "    <tr>\n",
              "      <th>4</th>\n",
              "      <td>896</td>\n",
              "      <td>3</td>\n",
              "      <td>1</td>\n",
              "      <td>1</td>\n",
              "      <td>1</td>\n",
              "      <td>0</td>\n",
              "      <td>3</td>\n",
              "      <td>0</td>\n",
              "    </tr>\n",
              "  </tbody>\n",
              "</table>\n",
              "</div>"
            ],
            "text/plain": [
              "   PassengerId  Pclass  Sex  Age  Fare  Embarked  Title  IsAlone\n",
              "0          892       3    0    2     0         2      1        1\n",
              "1          893       3    1    2     0         0      3        0\n",
              "2          894       2    0    3     1         2      1        1\n",
              "3          895       3    0    1     1         0      1        1\n",
              "4          896       3    1    1     1         0      3        0"
            ]
          },
          "metadata": {
            "tags": []
          },
          "execution_count": 90
        }
      ]
    },
    {
      "cell_type": "markdown",
      "metadata": {
        "_cell_guid": "ff7d366e-22cd-4eb8-a77d-56acf946392f",
        "_uuid": "831d9e73af99dfaae115411ce2190fced6c8cf67",
        "id": "NmVAcV_3nRXZ"
      },
      "source": [
        "> We are done with Feature Selection/Engineering. <br>\n",
        "> Now, we are ready to train a classifier with our feature set."
      ]
    },
    {
      "cell_type": "markdown",
      "metadata": {
        "_cell_guid": "65c074a8-55da-485c-87b9-14cb48f9ceaf",
        "_uuid": "5dca5b0e71d6e75f1a5a30ea4d7a707c546a498b",
        "id": "zsZfAd8GnRXZ"
      },
      "source": [
        "## Classification & Accuracy \n",
        "Define training and testing set"
      ]
    },
    {
      "cell_type": "code",
      "metadata": {
        "_cell_guid": "4a7fb5d4-57a0-439d-b974-a009f07a2288",
        "_uuid": "e4417789a18e4981acc484d4fdda7abfadd1b167",
        "trusted": true,
        "colab": {
          "base_uri": "https://localhost:8080/"
        },
        "id": "P623w_YhnRXc",
        "outputId": "afcd2b26-9db3-4456-c8a1-60387ec2a2f2"
      },
      "source": [
        "X_train = train.drop('Survived', axis=1)\n",
        "y_train = train['Survived']\n",
        "X_test = test.drop(\"PassengerId\", axis=1).copy()\n",
        "\n",
        "X_train.shape, y_train.shape, X_test.shape"
      ],
      "execution_count": null,
      "outputs": [
        {
          "output_type": "execute_result",
          "data": {
            "text/plain": [
              "((891, 7), (891,), (418, 7))"
            ]
          },
          "metadata": {
            "tags": []
          },
          "execution_count": 91
        }
      ]
    },
    {
      "cell_type": "markdown",
      "metadata": {
        "_cell_guid": "ddb2dc44-46f1-4e52-aec8-736e816e8546",
        "_uuid": "209d268ae2b591a65d7c0f1e699e9d80092779b7",
        "id": "jy6NkSmknRXd"
      },
      "source": [
        "#### NOTE:\n",
        "There are many classifying algorithms present. Among them, we choose the following *Classification* algorithms for our problem:\n",
        "\n",
        "- Logistic Regression\n",
        "- Support Vector Machines (SVC)\n",
        "- Random Forest\n",
        "- XGBOOST\n",
        "\n",
        "\n",
        "Here's the training and testing procedure:\n",
        "\n",
        "> First, we train these classifiers with our training data. <br>\n",
        "> After that, using the trained classifier, we predict the *`Survival`* outcome of test data.<br>\n",
        "> Finally, we calculate the accuracy score (in percentange) of the trained classifier.<br>\n",
        "\n",
        "***Please note:*** that the accuracy score is generated based on our training dataset."
      ]
    },
    {
      "cell_type": "code",
      "metadata": {
        "_cell_guid": "faf9c5bc-3c61-4fdf-aa58-d56a1749d1d2",
        "_uuid": "9c04167fa2131653ae6a64f6422fa1d994583e28",
        "trusted": true,
        "id": "1qWnpAZnnRXd"
      },
      "source": [
        "# Importing Classifier Modules\n",
        "from sklearn.linear_model import LogisticRegression\n",
        "from sklearn.svm import SVC, LinearSVC\n",
        "from sklearn.neighbors import KNeighborsClassifier\n",
        "from sklearn.tree import DecisionTreeClassifier\n",
        "from sklearn.ensemble import RandomForestClassifier\n",
        "from sklearn.naive_bayes import GaussianNB\n",
        "from sklearn.linear_model import Perceptron\n",
        "from sklearn.linear_model import SGDClassifier"
      ],
      "execution_count": null,
      "outputs": []
    },
    {
      "cell_type": "markdown",
      "metadata": {
        "_cell_guid": "881abf5b-0364-4413-9377-15f4c4904dcd",
        "_uuid": "ce90eb99b14ee9a0069bdbb0c964844069189565",
        "id": "CEd8qSylnRXe"
      },
      "source": [
        "### 1) Logistic Regression\n",
        "\n",
        "[Logistic regression](https://en.wikipedia.org/wiki/Logistic_regression), or logit regression, or logit model is a regression model where the dependent variable (DV) is categorical. This article covers the case of a binary dependent variable—that is, where it can take only two values, \"0\" and \"1\", which represent outcomes such as pass/fail, win/lose, alive/dead or healthy/sick. Cases where the dependent variable has more than two outcome categories may be analysed in multinomial logistic regression, or, if the multiple categories are ordered, in ordinal logistic regression."
      ]
    },
    {
      "cell_type": "code",
      "metadata": {
        "_cell_guid": "029c77b6-4d4d-4a5c-9fd5-6dce078f6047",
        "_uuid": "2765423b8485d704a6500b6fa13630aaf7a8bf56",
        "trusted": true,
        "colab": {
          "base_uri": "https://localhost:8080/"
        },
        "id": "V_AtJdUNnRXe",
        "outputId": "73284298-af35-4e69-f404-8d5ba02487c3"
      },
      "source": [
        "clf = LogisticRegression()\n",
        "clf.fit(X_train, y_train)\n",
        "y_pred_log_reg = clf.predict(X_test)\n",
        "acc_log_reg = round( clf.score(X_train, y_train) * 100, 2)\n",
        "print (\"Train Accuracy: \" + str(acc_log_reg) + '%')"
      ],
      "execution_count": null,
      "outputs": [
        {
          "output_type": "stream",
          "text": [
            "Train Accuracy: 80.36%\n"
          ],
          "name": "stdout"
        }
      ]
    },
    {
      "cell_type": "markdown",
      "metadata": {
        "_cell_guid": "4ae5fc53-14b1-474f-be38-83fb052ece45",
        "_uuid": "119941500237185d1760611c79a385b8f8b8c863",
        "id": "s9O0H3C5nRXe"
      },
      "source": [
        "### 2) Support Vector Machine (SVM)\n",
        "\n",
        "Support Vector Machine (SVM) model is a Supervised Learning model used for classification and regression analysis. It is a representation of the examples as points in space, mapped so that the examples of the separate categories are divided by a clear gap that is as wide as possible. New examples are then mapped into that same space and predicted to belong to a category based on which side of the gap they fall.\n"
      ]
    },
    {
      "cell_type": "code",
      "metadata": {
        "_cell_guid": "d13b0dbd-df95-4d88-9472-ace2467cdff5",
        "_uuid": "e87de37a054831cbb12e6606dbaa4a965ce2300a",
        "trusted": true,
        "colab": {
          "base_uri": "https://localhost:8080/"
        },
        "id": "fx2o9AuOnRXf",
        "outputId": "4d7389c3-6e9e-4694-8ebc-742e195b27d2"
      },
      "source": [
        "clf = SVC()\n",
        "clf.fit(X_train, y_train)\n",
        "y_pred_svc = clf.predict(X_test)\n",
        "acc_svc = round(clf.score(X_train, y_train) * 100, 2)\n",
        "print (\"Train Accuracy: \" + str(acc_svc) + '%')"
      ],
      "execution_count": null,
      "outputs": [
        {
          "output_type": "stream",
          "text": [
            "Train Accuracy: 83.61%\n"
          ],
          "name": "stdout"
        }
      ]
    },
    {
      "cell_type": "markdown",
      "metadata": {
        "_cell_guid": "9434e168-98fd-4258-b23c-6f06a3e6f6e1",
        "_uuid": "5fc894614278153dcb2076f1116ddfae7316bd36",
        "id": "wbY_qBDknRXh"
      },
      "source": [
        "### 3) Random Forest\n",
        "\n",
        "**Random forests** are an **ensemble learning method** for classification, regression and other tasks, that operate by constructing a multitude of decision trees at training time and outputting the class that is the mode of the classes (classification) \n"
      ]
    },
    {
      "cell_type": "code",
      "metadata": {
        "_cell_guid": "4290fc8d-4fa0-489a-a42b-3e60d05ed863",
        "_uuid": "7b002b287478456f41daa294acaf5325147596bb",
        "trusted": true,
        "colab": {
          "base_uri": "https://localhost:8080/"
        },
        "id": "APdswcd_nRXi",
        "outputId": "c882a690-b641-4d03-cc6e-e7f049cfd705"
      },
      "source": [
        "clf = RandomForestClassifier(n_estimators=100)\n",
        "clf.fit(X_train, y_train)\n",
        "y_pred_random_forest = clf.predict(X_test)\n",
        "acc_random_forest = round(clf.score(X_train, y_train) * 100, 2)\n",
        "print (\"Train Accuracy: \" + str(acc_random_forest) + '%')"
      ],
      "execution_count": null,
      "outputs": [
        {
          "output_type": "stream",
          "text": [
            "Train Accuracy: 87.21%\n"
          ],
          "name": "stdout"
        }
      ]
    },
    {
      "cell_type": "markdown",
      "metadata": {
        "id": "Le_GP5oprdKr"
      },
      "source": [
        "##4)  XGBoost\n",
        "<br>\n",
        "Features Selection for Model Learning"
      ]
    },
    {
      "cell_type": "code",
      "metadata": {
        "id": "Mlr77oB_rbM_"
      },
      "source": [
        "Columns = ['SexBool', 'Pclass', 'Fare', 'CatAge', 'Familial', 'EmbarkedInt', 'TitleInt']\n",
        "Label = 'Survived'\n",
        "\n",
        "train_X = train_df.loc[:, train_df.columns != 'Survived']\n",
        "train_y = train_df['Survived']"
      ],
      "execution_count": null,
      "outputs": []
    },
    {
      "cell_type": "code",
      "metadata": {
        "id": "TYZxbc2vsA2u"
      },
      "source": [
        "model = XGBClassifier()\n",
        "\n",
        "both_scoring = {'AUC': 'roc_auc', 'Accuracy': make_scorer(accuracy_score), 'Loss':'neg_log_loss'}\n",
        "params = {\n",
        "        'n_estimators': [100, 200, 500, 1000, 1500],\n",
        "        'learning_rate': [0.05, 0.1, 0.2]\n",
        "        #'max_depth':[3, 4, 5]\n",
        "        }\n"
      ],
      "execution_count": null,
      "outputs": []
    },
    {
      "cell_type": "code",
      "metadata": {
        "colab": {
          "base_uri": "https://localhost:8080/"
        },
        "id": "J7dCw4U0sA_7",
        "outputId": "5f5392eb-e383-47ac-989f-421a23cf0466"
      },
      "source": [
        "clf = GridSearchCV(model, params, cv=5, scoring=both_scoring, refit='AUC', return_train_score=True)\n",
        "clf.fit(train_X[Columns], train_y)"
      ],
      "execution_count": null,
      "outputs": [
        {
          "output_type": "execute_result",
          "data": {
            "text/plain": [
              "GridSearchCV(cv=5, error_score=nan,\n",
              "             estimator=XGBClassifier(base_score=0.5, booster='gbtree',\n",
              "                                     colsample_bylevel=1, colsample_bynode=1,\n",
              "                                     colsample_bytree=1, gamma=0,\n",
              "                                     learning_rate=0.1, max_delta_step=0,\n",
              "                                     max_depth=3, min_child_weight=1,\n",
              "                                     missing=None, n_estimators=100, n_jobs=1,\n",
              "                                     nthread=None, objective='binary:logistic',\n",
              "                                     random_state=0, reg_alpha=0, reg_lambda=1,\n",
              "                                     scale_pos_weight=1, seed=None, silent=None,\n",
              "                                     subsample=1, verbosity=1),\n",
              "             iid='deprecated', n_jobs=None,\n",
              "             param_grid={'learning_rate': [0.05, 0.1, 0.2],\n",
              "                         'n_estimators': [100, 200, 500, 1000, 1500]},\n",
              "             pre_dispatch='2*n_jobs', refit='AUC', return_train_score=True,\n",
              "             scoring={'AUC': 'roc_auc', 'Accuracy': make_scorer(accuracy_score),\n",
              "                      'Loss': 'neg_log_loss'},\n",
              "             verbose=0)"
            ]
          },
          "metadata": {
            "tags": []
          },
          "execution_count": 98
        }
      ]
    },
    {
      "cell_type": "code",
      "metadata": {
        "colab": {
          "base_uri": "https://localhost:8080/"
        },
        "id": "sTw_Wny1sBOU",
        "outputId": "484b5cef-342b-4103-ed79-beeb83677ec2"
      },
      "source": [
        "print((clf.best_score_, clf.best_params_))\n",
        "print(\"=\"*30)\n",
        "\n",
        "print(\"Grid scores on training data:\")\n",
        "means = clf.cv_results_['mean_test_AUC']\n",
        "stds = clf.cv_results_['std_test_AUC']\n",
        "log_losses = clf.cv_results_['std_test_Loss']\n",
        "\n",
        "for mean, std, log_loss, params in zip(means, stds, log_losses, clf.cv_results_['params']):\n",
        "    print(\"AUC Score: %0.3f (+/-%0.03f); Log Loss: %0.3f for %r\" % (mean, std * 2, log_loss, params))"
      ],
      "execution_count": null,
      "outputs": [
        {
          "output_type": "stream",
          "text": [
            "(0.8739526918211894, {'learning_rate': 0.1, 'n_estimators': 200})\n",
            "==============================\n",
            "Grid scores on training data:\n",
            "AUC Score: 0.870 (+/-0.050); Log Loss: 0.038 for {'learning_rate': 0.05, 'n_estimators': 100}\n",
            "AUC Score: 0.869 (+/-0.061); Log Loss: 0.049 for {'learning_rate': 0.05, 'n_estimators': 200}\n",
            "AUC Score: 0.874 (+/-0.058); Log Loss: 0.058 for {'learning_rate': 0.05, 'n_estimators': 500}\n",
            "AUC Score: 0.872 (+/-0.058); Log Loss: 0.067 for {'learning_rate': 0.05, 'n_estimators': 1000}\n",
            "AUC Score: 0.871 (+/-0.060); Log Loss: 0.079 for {'learning_rate': 0.05, 'n_estimators': 1500}\n",
            "AUC Score: 0.870 (+/-0.061); Log Loss: 0.050 for {'learning_rate': 0.1, 'n_estimators': 100}\n",
            "AUC Score: 0.874 (+/-0.058); Log Loss: 0.055 for {'learning_rate': 0.1, 'n_estimators': 200}\n",
            "AUC Score: 0.872 (+/-0.061); Log Loss: 0.068 for {'learning_rate': 0.1, 'n_estimators': 500}\n",
            "AUC Score: 0.869 (+/-0.063); Log Loss: 0.087 for {'learning_rate': 0.1, 'n_estimators': 1000}\n",
            "AUC Score: 0.865 (+/-0.061); Log Loss: 0.092 for {'learning_rate': 0.1, 'n_estimators': 1500}\n",
            "AUC Score: 0.872 (+/-0.061); Log Loss: 0.060 for {'learning_rate': 0.2, 'n_estimators': 100}\n",
            "AUC Score: 0.872 (+/-0.057); Log Loss: 0.064 for {'learning_rate': 0.2, 'n_estimators': 200}\n",
            "AUC Score: 0.867 (+/-0.061); Log Loss: 0.089 for {'learning_rate': 0.2, 'n_estimators': 500}\n",
            "AUC Score: 0.862 (+/-0.056); Log Loss: 0.095 for {'learning_rate': 0.2, 'n_estimators': 1000}\n",
            "AUC Score: 0.858 (+/-0.054); Log Loss: nan for {'learning_rate': 0.2, 'n_estimators': 1500}\n"
          ],
          "name": "stdout"
        }
      ]
    },
    {
      "cell_type": "code",
      "metadata": {
        "colab": {
          "base_uri": "https://localhost:8080/",
          "height": 792
        },
        "id": "wUN-pUebsBdw",
        "outputId": "473cfaa6-fb93-48b5-e35a-61478a3219f2"
      },
      "source": [
        "results = clf.cv_results_\n",
        "\n",
        "plt.figure(figsize=(13, 13))\n",
        "plt.title(\"GridSearchCV evaluating using multiple scorers simultaneously\", fontsize=16)\n",
        "\n",
        "plt.xlabel(\"n_estimators: no of boosted trees\")\n",
        "plt.ylabel(\"AUC Score\")\n",
        "\n",
        "ax = plt.gca()\n",
        "ax.set_xlim(80, 1020)\n",
        "ax.set_ylim(0.7, 1)\n",
        "\n",
        "X_axis = np.array(results['param_n_estimators'].data, dtype=float)\n",
        "\n",
        "for scorer, color in zip(sorted(both_scoring), ['g', 'k']):\n",
        "    for sample, style in (('train', '--'), ('test', '-')):\n",
        "        sample_score_mean = results['mean_%s_%s' % (sample, scorer)]\n",
        "        sample_score_std = results['std_%s_%s' % (sample, scorer)]\n",
        "        ax.fill_between(X_axis, sample_score_mean - sample_score_std,\n",
        "                        sample_score_mean + sample_score_std,\n",
        "                        alpha=0.1 if sample == 'test' else 0, color=color)\n",
        "        ax.plot(X_axis, sample_score_mean, style, color=color,\n",
        "                alpha=1 if sample == 'test' else 0.7,\n",
        "                label=\"%s (%s)\" % (scorer, sample))\n",
        "\n",
        "    best_index = np.nonzero(results['rank_test_%s' % scorer] == 1)[0][0]\n",
        "    best_score = results['mean_test_%s' % scorer][best_index]\n",
        "\n",
        "    # Plot a dotted vertical line at the best score for that scorer marked by x\n",
        "    ax.plot([X_axis[best_index], ] * 2, [0, best_score],\n",
        "            linestyle='-.', color=color, marker='x', markeredgewidth=3, ms=8)\n",
        "\n",
        "    # Annotate the best score for that scorer\n",
        "    ax.annotate(\"%0.2f\" % best_score,\n",
        "                (X_axis[best_index], best_score + 0.005))\n",
        "\n",
        "plt.legend(loc=\"best\")\n",
        "plt.grid('off')\n",
        "plt.show()"
      ],
      "execution_count": null,
      "outputs": [
        {
          "output_type": "display_data",
          "data": {
            "image/png": "[encoded data removed]",
            "text/plain": [
              "<Figure size 936x936 with 1 Axes>"
            ]
          },
          "metadata": {
            "tags": [],
            "needs_background": "light"
          }
        }
      ]
    },
    {
      "cell_type": "code",
      "metadata": {
        "colab": {
          "base_uri": "https://localhost:8080/"
        },
        "id": "ElfBn0Spybcz",
        "outputId": "dffb9130-d2d8-4229-c9f8-be007f6cc5ca"
      },
      "source": [
        "clf = Perceptron(max_iter=5, tol=None)\n",
        "clf.fit(X_train, y_train)\n",
        "y_pred_perceptron = clf.predict(X_test)\n",
        "acc_XGB = round(clf.score(X_train, y_train) * 100, 2)\n",
        "print (\"Train Accuracy: \" + str(acc_XGB) + '%')"
      ],
      "execution_count": null,
      "outputs": [
        {
          "output_type": "stream",
          "text": [
            "Train Accuracy: 79.24%\n"
          ],
          "name": "stdout"
        }
      ]
    },
    {
      "cell_type": "code",
      "metadata": {
        "id": "gooJtY0psB2G"
      },
      "source": [
        "\n",
        "predictions = clf.predict(test_df[Columns]).astype(int)\n",
        "\n",
        "submission = pd.DataFrame({'PassengerId':test_df['PassengerId'], 'Survived':predictions})"
      ],
      "execution_count": null,
      "outputs": []
    },
    {
      "cell_type": "code",
      "metadata": {
        "id": "N13kq74OyWth"
      },
      "source": [
        ""
      ],
      "execution_count": null,
      "outputs": []
    },
    {
      "cell_type": "markdown",
      "metadata": {
        "_cell_guid": "41eab8a7-3990-453f-ae70-421764877621",
        "_uuid": "d1fce74d8c032aebdd33263105754713f7b351e1",
        "id": "ugyN5HmPnRXn"
      },
      "source": [
        "## Comparing Models\n",
        "> Let's compare the accuracy score of all the classifier models used above."
      ]
    },
    {
      "cell_type": "code",
      "metadata": {
        "_cell_guid": "d629ddf4-b0dc-4451-9c6d-90835d1d031c",
        "_uuid": "76712bd9dbd7eca3cbfa8ce5d9758f90f99da826",
        "trusted": true,
        "colab": {
          "base_uri": "https://localhost:8080/",
          "height": 173
        },
        "id": "nYXJT0fOnRXn",
        "outputId": "1dd2c47a-313c-4f31-d8e9-292ff1406008"
      },
      "source": [
        "models = pd.DataFrame({\n",
        "  'Model': ['Logistic Regression', 'SVM',\n",
        "            'Random Forrest','XGBOOST'],\n",
        "    \n",
        "    'Score': [acc_log_reg, acc_svc, acc_random_forest,acc_XGB]\n",
        "    })\n",
        "\n",
        "\n",
        "models = models.sort_values(by='Score', ascending=False)\n",
        "models"
      ],
      "execution_count": null,
      "outputs": [
        {
          "output_type": "execute_result",
          "data": {
            "text/html": [
              "<div>\n",
              "<style scoped>\n",
              "    .dataframe tbody tr th:only-of-type {\n",
              "        vertical-align: middle;\n",
              "    }\n",
              "\n",
              "    .dataframe tbody tr th {\n",
              "        vertical-align: top;\n",
              "    }\n",
              "\n",
              "    .dataframe thead th {\n",
              "        text-align: right;\n",
              "    }\n",
              "</style>\n",
              "<table border=\"1\" class=\"dataframe\">\n",
              "  <thead>\n",
              "    <tr style=\"text-align: right;\">\n",
              "      <th></th>\n",
              "      <th>Model</th>\n",
              "      <th>Score</th>\n",
              "    </tr>\n",
              "  </thead>\n",
              "  <tbody>\n",
              "    <tr>\n",
              "      <th>2</th>\n",
              "      <td>Random Forrest</td>\n",
              "      <td>87.21</td>\n",
              "    </tr>\n",
              "    <tr>\n",
              "      <th>1</th>\n",
              "      <td>SVM</td>\n",
              "      <td>83.61</td>\n",
              "    </tr>\n",
              "    <tr>\n",
              "      <th>0</th>\n",
              "      <td>Logistic Regression</td>\n",
              "      <td>80.36</td>\n",
              "    </tr>\n",
              "    <tr>\n",
              "      <th>3</th>\n",
              "      <td>XGBOOST</td>\n",
              "      <td>79.24</td>\n",
              "    </tr>\n",
              "  </tbody>\n",
              "</table>\n",
              "</div>"
            ],
            "text/plain": [
              "                 Model  Score\n",
              "2       Random Forrest  87.21\n",
              "1                  SVM  83.61\n",
              "0  Logistic Regression  80.36\n",
              "3              XGBOOST  79.24"
            ]
          },
          "metadata": {
            "tags": []
          },
          "execution_count": 103
        }
      ]
    },
    {
      "cell_type": "code",
      "metadata": {
        "trusted": true,
        "colab": {
          "base_uri": "https://localhost:8080/",
          "height": 302
        },
        "id": "jspFs7FgnRXo",
        "outputId": "42336a68-2cf1-4d73-c7b2-4ee435f8c0ac"
      },
      "source": [
        "sns.barplot(x='Model', y='Score', ci=None, data=models)"
      ],
      "execution_count": null,
      "outputs": [
        {
          "output_type": "execute_result",
          "data": {
            "text/plain": [
              "<matplotlib.axes._subplots.AxesSubplot at 0x7f0c8bebcad0>"
            ]
          },
          "metadata": {
            "tags": []
          },
          "execution_count": 104
        },
        {
          "output_type": "display_data",
          "data": {
            "image/png": "[encoded data removed]",
            "text/plain": [
              "<Figure size 432x288 with 1 Axes>"
            ]
          },
          "metadata": {
            "tags": [],
            "needs_background": "light"
          }
        }
      ]
    },
    {
      "cell_type": "code",
      "metadata": {
        "_cell_guid": "8cbedfd6-f299-49a0-bdae-f6e73c4f2418",
        "_uuid": "5fa4f95cf381b7ec70e487454a78a3cf6fa6c69a",
        "trusted": true,
        "colab": {
          "base_uri": "https://localhost:8080/",
          "height": 204
        },
        "id": "R-TcOmZunRXp",
        "outputId": "5a44f1ee-d298-414f-95d4-d7d5ff3d75cc"
      },
      "source": [
        "test.head()"
      ],
      "execution_count": null,
      "outputs": [
        {
          "output_type": "execute_result",
          "data": {
            "text/html": [
              "<div>\n",
              "<style scoped>\n",
              "    .dataframe tbody tr th:only-of-type {\n",
              "        vertical-align: middle;\n",
              "    }\n",
              "\n",
              "    .dataframe tbody tr th {\n",
              "        vertical-align: top;\n",
              "    }\n",
              "\n",
              "    .dataframe thead th {\n",
              "        text-align: right;\n",
              "    }\n",
              "</style>\n",
              "<table border=\"1\" class=\"dataframe\">\n",
              "  <thead>\n",
              "    <tr style=\"text-align: right;\">\n",
              "      <th></th>\n",
              "      <th>PassengerId</th>\n",
              "      <th>Pclass</th>\n",
              "      <th>Sex</th>\n",
              "      <th>Age</th>\n",
              "      <th>Fare</th>\n",
              "      <th>Embarked</th>\n",
              "      <th>Title</th>\n",
              "      <th>IsAlone</th>\n",
              "    </tr>\n",
              "  </thead>\n",
              "  <tbody>\n",
              "    <tr>\n",
              "      <th>0</th>\n",
              "      <td>892</td>\n",
              "      <td>3</td>\n",
              "      <td>0</td>\n",
              "      <td>2</td>\n",
              "      <td>0</td>\n",
              "      <td>2</td>\n",
              "      <td>1</td>\n",
              "      <td>1</td>\n",
              "    </tr>\n",
              "    <tr>\n",
              "      <th>1</th>\n",
              "      <td>893</td>\n",
              "      <td>3</td>\n",
              "      <td>1</td>\n",
              "      <td>2</td>\n",
              "      <td>0</td>\n",
              "      <td>0</td>\n",
              "      <td>3</td>\n",
              "      <td>0</td>\n",
              "    </tr>\n",
              "    <tr>\n",
              "      <th>2</th>\n",
              "      <td>894</td>\n",
              "      <td>2</td>\n",
              "      <td>0</td>\n",
              "      <td>3</td>\n",
              "      <td>1</td>\n",
              "      <td>2</td>\n",
              "      <td>1</td>\n",
              "      <td>1</td>\n",
              "    </tr>\n",
              "    <tr>\n",
              "      <th>3</th>\n",
              "      <td>895</td>\n",
              "      <td>3</td>\n",
              "      <td>0</td>\n",
              "      <td>1</td>\n",
              "      <td>1</td>\n",
              "      <td>0</td>\n",
              "      <td>1</td>\n",
              "      <td>1</td>\n",
              "    </tr>\n",
              "    <tr>\n",
              "      <th>4</th>\n",
              "      <td>896</td>\n",
              "      <td>3</td>\n",
              "      <td>1</td>\n",
              "      <td>1</td>\n",
              "      <td>1</td>\n",
              "      <td>0</td>\n",
              "      <td>3</td>\n",
              "      <td>0</td>\n",
              "    </tr>\n",
              "  </tbody>\n",
              "</table>\n",
              "</div>"
            ],
            "text/plain": [
              "   PassengerId  Pclass  Sex  Age  Fare  Embarked  Title  IsAlone\n",
              "0          892       3    0    2     0         2      1        1\n",
              "1          893       3    1    2     0         0      3        0\n",
              "2          894       2    0    3     1         2      1        1\n",
              "3          895       3    0    1     1         0      1        1\n",
              "4          896       3    1    1     1         0      3        0"
            ]
          },
          "metadata": {
            "tags": []
          },
          "execution_count": 105
        }
      ]
    },
    {
      "cell_type": "code",
      "metadata": {
        "id": "zhAxVewa02Bz"
      },
      "source": [
        ""
      ],
      "execution_count": null,
      "outputs": []
    }
  ]
}